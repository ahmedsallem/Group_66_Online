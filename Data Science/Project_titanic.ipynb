{
 "cells": [
  {
   "cell_type": "code",
   "execution_count": 1,
   "id": "f8255333",
   "metadata": {},
   "outputs": [],
   "source": [
    "#load the train dataset\n"
   ]
  },
  {
   "cell_type": "code",
   "execution_count": 2,
   "id": "1f298007",
   "metadata": {},
   "outputs": [],
   "source": [
    "#inspect the first few rows of the train dataset\n"
   ]
  },
  {
   "cell_type": "code",
   "execution_count": 3,
   "id": "56cd79f5",
   "metadata": {},
   "outputs": [],
   "source": [
    "# set the index to passengerId\n",
    "# set_index()\n"
   ]
  },
  {
   "cell_type": "code",
   "execution_count": 4,
   "id": "336eb968",
   "metadata": {},
   "outputs": [],
   "source": [
    "#by calling the shape attribute of the train dataset we can observe that there are 891 observations and 11 columns\n",
    "#in the data set\n"
   ]
  },
  {
   "cell_type": "code",
   "execution_count": 28,
   "id": "3bb0f2b5",
   "metadata": {},
   "outputs": [],
   "source": [
    "# identify datatypes of the 11 columns, add the stats to the new DataFrame called \"Data_stats\"\n",
    "# pd.DataFrame(df.dtypes)\n"
   ]
  },
  {
   "cell_type": "code",
   "execution_count": 7,
   "id": "824ff212",
   "metadata": {},
   "outputs": [],
   "source": [
    "# identify missing values of the 11 columns,add the stats to the \"Data_stats\"\n"
   ]
  },
  {
   "cell_type": "code",
   "execution_count": 8,
   "id": "67add11c",
   "metadata": {},
   "outputs": [],
   "source": [
    "# Identify number of nunique values, For object nunique will the number of levels\n",
    "# Add the stats the \"Data_stats\"\n"
   ]
  },
  {
   "cell_type": "code",
   "execution_count": 9,
   "id": "0e1fa3a7",
   "metadata": {},
   "outputs": [],
   "source": [
    "# Identify the count for each variable, add the stats to \"Data_stats\"\n"
   ]
  },
  {
   "cell_type": "code",
   "execution_count": 10,
   "id": "11c15a20",
   "metadata": {},
   "outputs": [],
   "source": [
    "# rename the 0 column  {0:'DataType'}\n"
   ]
  },
  {
   "cell_type": "code",
   "execution_count": 11,
   "id": "8806e45b",
   "metadata": {},
   "outputs": [],
   "source": [
    "# get discripte statistcs on \"object\" datatypes\n"
   ]
  },
  {
   "cell_type": "code",
   "execution_count": 12,
   "id": "b1e8d21a",
   "metadata": {},
   "outputs": [],
   "source": [
    "# get discriptive statistcs on \"number\" datatypes\n"
   ]
  },
  {
   "cell_type": "code",
   "execution_count": 13,
   "id": "1299e074",
   "metadata": {},
   "outputs": [],
   "source": [
    "# train.Survived.value_counts(normalize=True)\n",
    "# train[\"Survived\"].value_counts(normalize=True)\n"
   ]
  },
  {
   "cell_type": "code",
   "execution_count": 15,
   "id": "b2681c34",
   "metadata": {},
   "outputs": [],
   "source": [
    "# Feature Engineering Data- Extract title from name, Extract new features from the other features\n",
    "# train['Name_len']\n",
    "\n"
   ]
  },
  {
   "cell_type": "code",
   "execution_count": 16,
   "id": "4c393708",
   "metadata": {},
   "outputs": [],
   "source": [
    "# we see that there are 15 Zero values and its reasonbale \n",
    "# to flag them as missing values since every ticket \n",
    "# should have a value greater than 0\n",
    "# check if coloumn \"Fare\" has zero values or not \n",
    "# df[\"Fare\"] == 0\n"
   ]
  },
  {
   "cell_type": "code",
   "execution_count": 17,
   "id": "0ea372f4",
   "metadata": {},
   "outputs": [],
   "source": [
    "# mark zero values as  NaN\n",
    "# df[\"Fare\"].replace({0 : np.nan})\n"
   ]
  },
  {
   "cell_type": "code",
   "execution_count": 18,
   "id": "c0d34332",
   "metadata": {},
   "outputs": [],
   "source": [
    "# Check again to see if there are no more zero values in column \"Fare\"\n"
   ]
  },
  {
   "cell_type": "code",
   "execution_count": 21,
   "id": "2c1267c4",
   "metadata": {},
   "outputs": [],
   "source": [
    "# Get the mean of the data in col \"Fare\"\n"
   ]
  },
  {
   "cell_type": "code",
   "execution_count": 22,
   "id": "d0305366",
   "metadata": {},
   "outputs": [],
   "source": [
    "# impute the missing Fare values with the mean Fare value\n"
   ]
  },
  {
   "cell_type": "code",
   "execution_count": 23,
   "id": "c45f8762",
   "metadata": {},
   "outputs": [],
   "source": [
    "# validate if any null values are present after the imputation\n"
   ]
  },
  {
   "cell_type": "code",
   "execution_count": null,
   "id": "06a7654a",
   "metadata": {},
   "outputs": [],
   "source": [
    "# we see that there are 0 Zero values in col \"Age\"\n"
   ]
  },
  {
   "cell_type": "code",
   "execution_count": 24,
   "id": "deadda99",
   "metadata": {},
   "outputs": [],
   "source": [
    "# impute the missing Age values with the mean Age value\n"
   ]
  },
  {
   "cell_type": "code",
   "execution_count": 25,
   "id": "ed406ed0",
   "metadata": {},
   "outputs": [],
   "source": [
    "# validate if any null values are present after the imputation\n"
   ]
  },
  {
   "cell_type": "code",
   "execution_count": 27,
   "id": "003e48b8",
   "metadata": {},
   "outputs": [],
   "source": [
    "# We see that a majority 77% of the Cabin variable has missing values.\n",
    "# Hence will drop the column from training a machine learnign algorithem\n",
    "# How to check the ratio of the missing data in col \"Cabin\"\n"
   ]
  },
  {
   "cell_type": "code",
   "execution_count": null,
   "id": "6d6500d8",
   "metadata": {},
   "outputs": [],
   "source": []
  }
 ],
 "metadata": {
  "kernelspec": {
   "display_name": "Python 3 (ipykernel)",
   "language": "python",
   "name": "python3"
  },
  "language_info": {
   "codemirror_mode": {
    "name": "ipython",
    "version": 3
   },
   "file_extension": ".py",
   "mimetype": "text/x-python",
   "name": "python",
   "nbconvert_exporter": "python",
   "pygments_lexer": "ipython3",
   "version": "3.10.9"
  }
 },
 "nbformat": 4,
 "nbformat_minor": 5
}
