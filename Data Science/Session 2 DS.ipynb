{
 "cells": [
  {
   "cell_type": "code",
   "execution_count": 1,
   "id": "f76654aa",
   "metadata": {},
   "outputs": [],
   "source": [
    "import numpy as np"
   ]
  },
  {
   "cell_type": "code",
   "execution_count": 2,
   "id": "ff3ce477",
   "metadata": {},
   "outputs": [],
   "source": [
    "np.random.seed(123)\n",
    "data = np.random.randint(1,10 , (20,5))"
   ]
  },
  {
   "cell_type": "code",
   "execution_count": 6,
   "id": "05821813",
   "metadata": {},
   "outputs": [
    {
     "data": {
      "text/plain": [
       "array([[3, 3, 7, 2, 4],\n",
       "       [7, 2, 1, 2, 1],\n",
       "       [1, 4, 5, 1, 1],\n",
       "       [5, 2, 8, 4, 3],\n",
       "       [5, 8, 3, 5, 9],\n",
       "       [1, 8, 4, 5, 7],\n",
       "       [2, 6, 7, 3, 2],\n",
       "       [9, 4, 6, 1, 3],\n",
       "       [7, 3, 5, 5, 7],\n",
       "       [4, 1, 7, 5, 8],\n",
       "       [7, 8, 2, 6, 8],\n",
       "       [3, 5, 9, 2, 3],\n",
       "       [2, 2, 4, 6, 1],\n",
       "       [9, 2, 7, 4, 4],\n",
       "       [6, 8, 3, 4, 4],\n",
       "       [4, 9, 7, 8, 7],\n",
       "       [4, 7, 7, 7, 2],\n",
       "       [4, 5, 4, 2, 1],\n",
       "       [6, 9, 7, 9, 2],\n",
       "       [1, 4, 2, 4, 5]])"
      ]
     },
     "execution_count": 6,
     "metadata": {},
     "output_type": "execute_result"
    }
   ],
   "source": [
    "data"
   ]
  },
  {
   "cell_type": "code",
   "execution_count": 13,
   "id": "00ef70bd",
   "metadata": {},
   "outputs": [],
   "source": [
    "def train_test_split(data , per = .5):\n",
    "    n_rows = int(data.shape[0] * per)\n",
    "    train  = data[ : n_rows , :]\n",
    "    test   = data[n_rows:   , :]\n",
    "    x_train= train[: , :-1]\n",
    "    y_train= train[: , -1:]\n",
    "    x_test = test[:  , :-1]\n",
    "    y_test = test[:  , -1:]\n",
    "    return x_train , y_train , x_test , y_test"
   ]
  },
  {
   "cell_type": "code",
   "execution_count": 29,
   "id": "af6311cf",
   "metadata": {},
   "outputs": [],
   "source": [
    "x_train , y_train , x_test , y_test = train_test_split(data , .8)"
   ]
  },
  {
   "cell_type": "code",
   "execution_count": 30,
   "id": "e0af49b3",
   "metadata": {},
   "outputs": [
    {
     "data": {
      "text/plain": [
       "(16, 4)"
      ]
     },
     "execution_count": 30,
     "metadata": {},
     "output_type": "execute_result"
    }
   ],
   "source": [
    "x_train.shape"
   ]
  },
  {
   "cell_type": "code",
   "execution_count": 31,
   "id": "03110d1d",
   "metadata": {},
   "outputs": [
    {
     "data": {
      "text/plain": [
       "(16, 1)"
      ]
     },
     "execution_count": 31,
     "metadata": {},
     "output_type": "execute_result"
    }
   ],
   "source": [
    "y_train.shape"
   ]
  },
  {
   "cell_type": "code",
   "execution_count": 32,
   "id": "f96d5c51",
   "metadata": {},
   "outputs": [
    {
     "data": {
      "text/plain": [
       "((4, 4), (4, 1))"
      ]
     },
     "execution_count": 32,
     "metadata": {},
     "output_type": "execute_result"
    }
   ],
   "source": [
    "x_test.shape , y_test.shape"
   ]
  },
  {
   "cell_type": "code",
   "execution_count": 37,
   "id": "de766c7c",
   "metadata": {},
   "outputs": [
    {
     "data": {
      "text/plain": [
       "[array([[4, 7, 7, 7],\n",
       "        [4, 1, 7, 5],\n",
       "        [7, 8, 2, 6],\n",
       "        [9, 4, 6, 1],\n",
       "        [4, 5, 4, 2],\n",
       "        [4, 9, 7, 8],\n",
       "        [7, 2, 1, 2],\n",
       "        [2, 6, 7, 3],\n",
       "        [6, 8, 3, 4],\n",
       "        [7, 3, 5, 5],\n",
       "        [1, 4, 2, 4],\n",
       "        [9, 2, 7, 4]]),\n",
       " array([[1, 4, 5, 1],\n",
       "        [3, 3, 7, 2],\n",
       "        [6, 9, 7, 9],\n",
       "        [2, 2, 4, 6],\n",
       "        [5, 2, 8, 4],\n",
       "        [5, 8, 3, 5],\n",
       "        [1, 8, 4, 5],\n",
       "        [3, 5, 9, 2]]),\n",
       " array([[2],\n",
       "        [8],\n",
       "        [8],\n",
       "        [3],\n",
       "        [1],\n",
       "        [7],\n",
       "        [1],\n",
       "        [2],\n",
       "        [4],\n",
       "        [7],\n",
       "        [5],\n",
       "        [4]]),\n",
       " array([[1],\n",
       "        [4],\n",
       "        [2],\n",
       "        [1],\n",
       "        [3],\n",
       "        [9],\n",
       "        [7],\n",
       "        [3]])]"
      ]
     },
     "execution_count": 37,
     "metadata": {},
     "output_type": "execute_result"
    }
   ],
   "source": [
    "x = data[: , :-1]\n",
    "y = data[: , -1:]\n",
    "from sklearn.model_selection import train_test_split\n",
    "train_test_split(x , y , train_size=.6)"
   ]
  },
  {
   "cell_type": "code",
   "execution_count": 38,
   "id": "77f17c15",
   "metadata": {},
   "outputs": [
    {
     "data": {
      "text/plain": [
       "array([[1, 2, 3],\n",
       "       [2, 3, 4],\n",
       "       [4, 5, 6]])"
      ]
     },
     "execution_count": 38,
     "metadata": {},
     "output_type": "execute_result"
    }
   ],
   "source": [
    "m = np.array([[1,2,3] , [2,3,4] , [4,5,6]])\n",
    "m"
   ]
  },
  {
   "cell_type": "code",
   "execution_count": 39,
   "id": "c3f4a2b8",
   "metadata": {},
   "outputs": [
    {
     "data": {
      "text/plain": [
       "(3, 3)"
      ]
     },
     "execution_count": 39,
     "metadata": {},
     "output_type": "execute_result"
    }
   ],
   "source": [
    "m.shape"
   ]
  },
  {
   "cell_type": "code",
   "execution_count": 40,
   "id": "0ffd6bfd",
   "metadata": {},
   "outputs": [
    {
     "data": {
      "text/plain": [
       "array([[1, 2, 3],\n",
       "       [2, 3, 4],\n",
       "       [3, 4, 5]])"
      ]
     },
     "execution_count": 40,
     "metadata": {},
     "output_type": "execute_result"
    }
   ],
   "source": [
    "m = np.array([[1,2,3] , [2,3,4] , [3,4,5]])\n",
    "m"
   ]
  },
  {
   "cell_type": "code",
   "execution_count": 41,
   "id": "51845050",
   "metadata": {},
   "outputs": [
    {
     "data": {
      "text/plain": [
       "array([[1., 0., 0.],\n",
       "       [0., 1., 0.],\n",
       "       [0., 0., 1.]])"
      ]
     },
     "execution_count": 41,
     "metadata": {},
     "output_type": "execute_result"
    }
   ],
   "source": [
    "np.identity(3)"
   ]
  },
  {
   "cell_type": "code",
   "execution_count": 44,
   "id": "e9e89b3c",
   "metadata": {},
   "outputs": [],
   "source": [
    "i = np.identity(4 ,dtype = int )"
   ]
  },
  {
   "cell_type": "code",
   "execution_count": 45,
   "id": "958f43bb",
   "metadata": {},
   "outputs": [
    {
     "data": {
      "text/plain": [
       "array([[1, 0, 0, 0],\n",
       "       [0, 1, 0, 0],\n",
       "       [0, 0, 1, 0],\n",
       "       [0, 0, 0, 1]])"
      ]
     },
     "execution_count": 45,
     "metadata": {},
     "output_type": "execute_result"
    }
   ],
   "source": [
    "i"
   ]
  },
  {
   "cell_type": "code",
   "execution_count": 46,
   "id": "38dc673e",
   "metadata": {},
   "outputs": [
    {
     "data": {
      "text/plain": [
       "array([[1., 0., 0., 0.],\n",
       "       [0., 1., 0., 0.],\n",
       "       [0., 0., 1., 0.],\n",
       "       [0., 0., 0., 1.]])"
      ]
     },
     "execution_count": 46,
     "metadata": {},
     "output_type": "execute_result"
    }
   ],
   "source": [
    "i.astype(float)"
   ]
  },
  {
   "cell_type": "code",
   "execution_count": 47,
   "id": "1e4b9351",
   "metadata": {},
   "outputs": [
    {
     "data": {
      "text/plain": [
       "dtype('int32')"
      ]
     },
     "execution_count": 47,
     "metadata": {},
     "output_type": "execute_result"
    }
   ],
   "source": [
    "i.dtype"
   ]
  },
  {
   "cell_type": "code",
   "execution_count": 48,
   "id": "a7427d1d",
   "metadata": {},
   "outputs": [
    {
     "data": {
      "text/plain": [
       "numpy.ndarray"
      ]
     },
     "execution_count": 48,
     "metadata": {},
     "output_type": "execute_result"
    }
   ],
   "source": [
    "type(i)"
   ]
  },
  {
   "cell_type": "code",
   "execution_count": 53,
   "id": "565d744f",
   "metadata": {},
   "outputs": [
    {
     "data": {
      "text/plain": [
       "array([[1, 2, 3, 4, 5],\n",
       "       [1, 2, 3, 4, 5],\n",
       "       [1, 2, 3, 4, 5],\n",
       "       [1, 2, 3, 4, 5],\n",
       "       [1, 2, 3, 4, 5],\n",
       "       [1, 2, 3, 4, 5],\n",
       "       [1, 2, 3, 4, 5],\n",
       "       [1, 2, 3, 4, 5],\n",
       "       [1, 2, 3, 4, 5],\n",
       "       [1, 2, 3, 4, 5]])"
      ]
     },
     "execution_count": 53,
     "metadata": {},
     "output_type": "execute_result"
    }
   ],
   "source": [
    "np.full((10,5) , [1,2,3,4,5])"
   ]
  },
  {
   "cell_type": "code",
   "execution_count": 55,
   "id": "c94ae83d",
   "metadata": {},
   "outputs": [
    {
     "data": {
      "text/plain": [
       "array([[5, 5, 5],\n",
       "       [5, 5, 5],\n",
       "       [5, 5, 5]])"
      ]
     },
     "execution_count": 55,
     "metadata": {},
     "output_type": "execute_result"
    }
   ],
   "source": [
    "np.full((3,3) , 5)"
   ]
  },
  {
   "cell_type": "code",
   "execution_count": 56,
   "id": "5d493ad7",
   "metadata": {},
   "outputs": [
    {
     "data": {
      "text/plain": [
       "array([[1, 2, 3],\n",
       "       [2, 3, 4],\n",
       "       [3, 4, 5]])"
      ]
     },
     "execution_count": 56,
     "metadata": {},
     "output_type": "execute_result"
    }
   ],
   "source": [
    "m"
   ]
  },
  {
   "cell_type": "code",
   "execution_count": 57,
   "id": "7aeedd27",
   "metadata": {},
   "outputs": [
    {
     "data": {
      "text/plain": [
       "array([[1, 0, 0],\n",
       "       [2, 3, 0],\n",
       "       [3, 4, 5]])"
      ]
     },
     "execution_count": 57,
     "metadata": {},
     "output_type": "execute_result"
    }
   ],
   "source": [
    "np.tril(m)"
   ]
  },
  {
   "cell_type": "code",
   "execution_count": 58,
   "id": "6b02fe98",
   "metadata": {},
   "outputs": [
    {
     "data": {
      "text/plain": [
       "array([[1, 2, 3],\n",
       "       [0, 3, 4],\n",
       "       [0, 0, 5]])"
      ]
     },
     "execution_count": 58,
     "metadata": {},
     "output_type": "execute_result"
    }
   ],
   "source": [
    "np.triu(m)"
   ]
  },
  {
   "cell_type": "code",
   "execution_count": 59,
   "id": "f171ea33",
   "metadata": {},
   "outputs": [
    {
     "data": {
      "text/plain": [
       "array([[1, 0, 0, 0],\n",
       "       [0, 2, 0, 0],\n",
       "       [0, 0, 3, 0],\n",
       "       [0, 0, 0, 4]])"
      ]
     },
     "execution_count": 59,
     "metadata": {},
     "output_type": "execute_result"
    }
   ],
   "source": [
    "lst = [1,2,3,4]\n",
    "np.diag(lst)"
   ]
  },
  {
   "cell_type": "code",
   "execution_count": 60,
   "id": "86fb21ba",
   "metadata": {},
   "outputs": [],
   "source": [
    "# m.dot(m2)\n",
    "# np.dot((m1,m2))"
   ]
  },
  {
   "cell_type": "code",
   "execution_count": 61,
   "id": "f2d9a09b",
   "metadata": {},
   "outputs": [
    {
     "data": {
      "text/plain": [
       "array([[1, 2, 3],\n",
       "       [2, 3, 4],\n",
       "       [3, 4, 5]])"
      ]
     },
     "execution_count": 61,
     "metadata": {},
     "output_type": "execute_result"
    }
   ],
   "source": [
    "m"
   ]
  },
  {
   "cell_type": "code",
   "execution_count": 63,
   "id": "f59d6e63",
   "metadata": {},
   "outputs": [],
   "source": [
    "d = np.diag(m)"
   ]
  },
  {
   "cell_type": "code",
   "execution_count": 64,
   "id": "625e734d",
   "metadata": {},
   "outputs": [
    {
     "data": {
      "text/plain": [
       "array([[1, 0, 0],\n",
       "       [0, 3, 0],\n",
       "       [0, 0, 5]])"
      ]
     },
     "execution_count": 64,
     "metadata": {},
     "output_type": "execute_result"
    }
   ],
   "source": [
    "np.diag(d)"
   ]
  },
  {
   "cell_type": "code",
   "execution_count": 66,
   "id": "3614b6d1",
   "metadata": {},
   "outputs": [
    {
     "data": {
      "text/plain": [
       "9"
      ]
     },
     "execution_count": 66,
     "metadata": {},
     "output_type": "execute_result"
    }
   ],
   "source": [
    "np.diag(m).sum()"
   ]
  },
  {
   "cell_type": "code",
   "execution_count": 67,
   "id": "10b6adbd",
   "metadata": {},
   "outputs": [
    {
     "data": {
      "text/plain": [
       "9"
      ]
     },
     "execution_count": 67,
     "metadata": {},
     "output_type": "execute_result"
    }
   ],
   "source": [
    "1 + 3 + 5 "
   ]
  },
  {
   "cell_type": "code",
   "execution_count": 70,
   "id": "5ffcd099",
   "metadata": {},
   "outputs": [
    {
     "data": {
      "text/plain": [
       "9"
      ]
     },
     "execution_count": 70,
     "metadata": {},
     "output_type": "execute_result"
    }
   ],
   "source": [
    "m[0,0] + m[1,1] + m[2,2]"
   ]
  },
  {
   "cell_type": "code",
   "execution_count": 71,
   "id": "45546463",
   "metadata": {},
   "outputs": [
    {
     "data": {
      "text/plain": [
       "9"
      ]
     },
     "execution_count": 71,
     "metadata": {},
     "output_type": "execute_result"
    }
   ],
   "source": [
    "np.trace(m)  #m[0,0] + m[1,1] + m[2,2]"
   ]
  },
  {
   "cell_type": "code",
   "execution_count": 73,
   "id": "46bc1e1d",
   "metadata": {},
   "outputs": [
    {
     "data": {
      "text/plain": [
       "array([[1, 2, 3],\n",
       "       [3, 4, 5]])"
      ]
     },
     "execution_count": 73,
     "metadata": {},
     "output_type": "execute_result"
    }
   ],
   "source": [
    "m2 = np.array([[1,2,3] , [3,4,5]])\n",
    "m2"
   ]
  },
  {
   "cell_type": "code",
   "execution_count": 74,
   "id": "23ccfe94",
   "metadata": {},
   "outputs": [
    {
     "data": {
      "text/plain": [
       "array([[1, 3],\n",
       "       [2, 4],\n",
       "       [3, 5]])"
      ]
     },
     "execution_count": 74,
     "metadata": {},
     "output_type": "execute_result"
    }
   ],
   "source": [
    "m2.T"
   ]
  },
  {
   "cell_type": "code",
   "execution_count": 76,
   "id": "fd3c1b5f",
   "metadata": {},
   "outputs": [
    {
     "data": {
      "text/plain": [
       "array([[1, 2],\n",
       "       [3, 4]])"
      ]
     },
     "execution_count": 76,
     "metadata": {},
     "output_type": "execute_result"
    }
   ],
   "source": [
    "m3 = np.array([[1,2] , [3,4]])\n",
    "m3"
   ]
  },
  {
   "cell_type": "code",
   "execution_count": 77,
   "id": "eece9bba",
   "metadata": {},
   "outputs": [
    {
     "data": {
      "text/plain": [
       "-2"
      ]
     },
     "execution_count": 77,
     "metadata": {},
     "output_type": "execute_result"
    }
   ],
   "source": [
    "(1 * 4 ) - (2 * 3 )"
   ]
  },
  {
   "cell_type": "code",
   "execution_count": 78,
   "id": "c6774129",
   "metadata": {},
   "outputs": [
    {
     "data": {
      "text/plain": [
       "-2.0000000000000004"
      ]
     },
     "execution_count": 78,
     "metadata": {},
     "output_type": "execute_result"
    }
   ],
   "source": [
    "np.linalg.det(m3)"
   ]
  },
  {
   "cell_type": "code",
   "execution_count": 79,
   "id": "a852b4bb",
   "metadata": {},
   "outputs": [
    {
     "data": {
      "text/plain": [
       "array([[ 1, -2,  3],\n",
       "       [ 2,  0,  3],\n",
       "       [ 1,  5,  4]])"
      ]
     },
     "execution_count": 79,
     "metadata": {},
     "output_type": "execute_result"
    }
   ],
   "source": [
    "m4 = np.array([[1,-2,3],[2,0,3] , [1,5,4]])\n",
    "m4"
   ]
  },
  {
   "cell_type": "code",
   "execution_count": 80,
   "id": "7cb9632c",
   "metadata": {},
   "outputs": [
    {
     "data": {
      "text/plain": [
       "24.999999999999996"
      ]
     },
     "execution_count": 80,
     "metadata": {},
     "output_type": "execute_result"
    }
   ],
   "source": [
    "np.linalg.det(m4)"
   ]
  },
  {
   "cell_type": "code",
   "execution_count": 85,
   "id": "d258c037",
   "metadata": {},
   "outputs": [
    {
     "data": {
      "text/plain": [
       "array([[1, 2],\n",
       "       [3, 4]])"
      ]
     },
     "execution_count": 85,
     "metadata": {},
     "output_type": "execute_result"
    }
   ],
   "source": [
    "m3"
   ]
  },
  {
   "cell_type": "code",
   "execution_count": 86,
   "id": "aee5d021",
   "metadata": {},
   "outputs": [
    {
     "data": {
      "text/plain": [
       "array([[-2. ,  1. ],\n",
       "       [ 1.5, -0.5]])"
      ]
     },
     "execution_count": 86,
     "metadata": {},
     "output_type": "execute_result"
    }
   ],
   "source": [
    "np.linalg.inv(m3)"
   ]
  },
  {
   "cell_type": "code",
   "execution_count": 87,
   "id": "756e7d4e",
   "metadata": {},
   "outputs": [
    {
     "data": {
      "text/plain": [
       "array([[ 4, -2],\n",
       "       [-3,  1]])"
      ]
     },
     "execution_count": 87,
     "metadata": {},
     "output_type": "execute_result"
    }
   ],
   "source": [
    "# m.inv() = (1/det(m))\n",
    "m3_ = np.array([[4, -2],[-3, 1]])\n",
    "m3_"
   ]
  },
  {
   "cell_type": "code",
   "execution_count": 88,
   "id": "ae071dfe",
   "metadata": {},
   "outputs": [
    {
     "data": {
      "text/plain": [
       "array([[-2. ,  1. ],\n",
       "       [ 1.5, -0.5]])"
      ]
     },
     "execution_count": 88,
     "metadata": {},
     "output_type": "execute_result"
    }
   ],
   "source": [
    "(1/-2) * m3_"
   ]
  },
  {
   "cell_type": "code",
   "execution_count": 90,
   "id": "0a9053b6",
   "metadata": {},
   "outputs": [],
   "source": [
    "inv = np.linalg.inv(m3)"
   ]
  },
  {
   "cell_type": "code",
   "execution_count": 91,
   "id": "78066adc",
   "metadata": {},
   "outputs": [
    {
     "data": {
      "text/plain": [
       "array([[-2. ,  1. ],\n",
       "       [ 1.5, -0.5]])"
      ]
     },
     "execution_count": 91,
     "metadata": {},
     "output_type": "execute_result"
    }
   ],
   "source": [
    "inv"
   ]
  },
  {
   "cell_type": "code",
   "execution_count": 94,
   "id": "ad8e183e",
   "metadata": {},
   "outputs": [
    {
     "data": {
      "text/plain": [
       "array([[1.00000000e+00, 1.11022302e-16],\n",
       "       [0.00000000e+00, 1.00000000e+00]])"
      ]
     },
     "execution_count": 94,
     "metadata": {},
     "output_type": "execute_result"
    }
   ],
   "source": [
    "m3.dot(inv)"
   ]
  },
  {
   "cell_type": "code",
   "execution_count": 99,
   "id": "736465c3",
   "metadata": {},
   "outputs": [
    {
     "data": {
      "text/plain": [
       "array([[ 1,  2,  3],\n",
       "       [ 3,  5, 10],\n",
       "       [ 1,  4,  5]])"
      ]
     },
     "execution_count": 99,
     "metadata": {},
     "output_type": "execute_result"
    }
   ],
   "source": [
    "d = np.array([[1,2,3] , [3,5,10],[1,4,5]])\n",
    "d"
   ]
  },
  {
   "cell_type": "code",
   "execution_count": 102,
   "id": "ba176700",
   "metadata": {},
   "outputs": [
    {
     "data": {
      "text/plain": [
       "3"
      ]
     },
     "execution_count": 102,
     "metadata": {},
     "output_type": "execute_result"
    }
   ],
   "source": [
    "3 - 0  "
   ]
  },
  {
   "cell_type": "code",
   "execution_count": 101,
   "id": "05399f10",
   "metadata": {},
   "outputs": [
    {
     "data": {
      "text/plain": [
       "3"
      ]
     },
     "execution_count": 101,
     "metadata": {},
     "output_type": "execute_result"
    }
   ],
   "source": [
    "np.linalg.matrix_rank(d)"
   ]
  },
  {
   "cell_type": "code",
   "execution_count": 105,
   "id": "5ccb5119",
   "metadata": {},
   "outputs": [
    {
     "data": {
      "text/plain": [
       "array([[1, 2, 3],\n",
       "       [4, 2, 6],\n",
       "       [3, 4, 7]])"
      ]
     },
     "execution_count": 105,
     "metadata": {},
     "output_type": "execute_result"
    }
   ],
   "source": [
    "m = np.array([[1,2,3],[4,2,6],[3,4,7]])\n",
    "m\n",
    "# m.shape[0] == m.shape[1]"
   ]
  },
  {
   "cell_type": "code",
   "execution_count": 106,
   "id": "ae7249b0",
   "metadata": {},
   "outputs": [],
   "source": [
    "# inv\n",
    "# det\n",
    "# T\n",
    "# trace\n",
    "# rank\n",
    "# tril\n",
    "# triu"
   ]
  },
  {
   "cell_type": "code",
   "execution_count": 108,
   "id": "a930c0ae",
   "metadata": {},
   "outputs": [
    {
     "data": {
      "text/plain": [
       "array([[1, 0, 0, 0, 0, 2],\n",
       "       [1, 0, 1, 0, 2, 0],\n",
       "       [0, 0, 1, 2, 0, 1]])"
      ]
     },
     "execution_count": 108,
     "metadata": {},
     "output_type": "execute_result"
    }
   ],
   "source": [
    "s = np.array([[1,0,0,0,0,2],[1,0,1,0,2,0],[0,0,1,2,0,1]])\n",
    "s"
   ]
  },
  {
   "cell_type": "code",
   "execution_count": 109,
   "id": "e52e3c2e",
   "metadata": {},
   "outputs": [
    {
     "data": {
      "text/plain": [
       "18"
      ]
     },
     "execution_count": 109,
     "metadata": {},
     "output_type": "execute_result"
    }
   ],
   "source": [
    "s.size"
   ]
  },
  {
   "cell_type": "code",
   "execution_count": 110,
   "id": "e0df5234",
   "metadata": {},
   "outputs": [
    {
     "data": {
      "text/plain": [
       "18"
      ]
     },
     "execution_count": 110,
     "metadata": {},
     "output_type": "execute_result"
    }
   ],
   "source": [
    "s.shape[0] * s.shape[1]"
   ]
  },
  {
   "cell_type": "code",
   "execution_count": 111,
   "id": "279e4c94",
   "metadata": {},
   "outputs": [
    {
     "data": {
      "text/plain": [
       "8"
      ]
     },
     "execution_count": 111,
     "metadata": {},
     "output_type": "execute_result"
    }
   ],
   "source": [
    "np.count_nonzero(s)"
   ]
  },
  {
   "cell_type": "code",
   "execution_count": 115,
   "id": "cafc75e9",
   "metadata": {},
   "outputs": [
    {
     "data": {
      "text/plain": [
       "0.56"
      ]
     },
     "execution_count": 115,
     "metadata": {},
     "output_type": "execute_result"
    }
   ],
   "source": [
    "round(1 - (np.count_nonzero(s) / s.size) , 2)"
   ]
  },
  {
   "cell_type": "code",
   "execution_count": 116,
   "id": "2e361380",
   "metadata": {},
   "outputs": [],
   "source": [
    "from scipy.sparse import csr_matrix , csc_matrix"
   ]
  },
  {
   "cell_type": "code",
   "execution_count": 117,
   "id": "1ecc03fa",
   "metadata": {},
   "outputs": [
    {
     "data": {
      "text/plain": [
       "array([[1, 0, 0, 0, 0, 2],\n",
       "       [1, 0, 1, 0, 2, 0],\n",
       "       [0, 0, 1, 2, 0, 1]])"
      ]
     },
     "execution_count": 117,
     "metadata": {},
     "output_type": "execute_result"
    }
   ],
   "source": [
    "s"
   ]
  },
  {
   "cell_type": "code",
   "execution_count": 119,
   "id": "48a1bf03",
   "metadata": {},
   "outputs": [
    {
     "name": "stdout",
     "output_type": "stream",
     "text": [
      "  (0, 0)\t1\n",
      "  (0, 5)\t2\n",
      "  (1, 0)\t1\n",
      "  (1, 2)\t1\n",
      "  (1, 4)\t2\n",
      "  (2, 2)\t1\n",
      "  (2, 3)\t2\n",
      "  (2, 5)\t1\n"
     ]
    }
   ],
   "source": [
    "print(csr_matrix(s))"
   ]
  },
  {
   "cell_type": "code",
   "execution_count": 120,
   "id": "878073f4",
   "metadata": {},
   "outputs": [
    {
     "name": "stdout",
     "output_type": "stream",
     "text": [
      "  (0, 0)\t1\n",
      "  (1, 0)\t1\n",
      "  (1, 2)\t1\n",
      "  (2, 2)\t1\n",
      "  (2, 3)\t2\n",
      "  (1, 4)\t2\n",
      "  (0, 5)\t2\n",
      "  (2, 5)\t1\n"
     ]
    }
   ],
   "source": [
    "print(csc_matrix(s))"
   ]
  },
  {
   "cell_type": "code",
   "execution_count": 121,
   "id": "b78c6a6d",
   "metadata": {},
   "outputs": [
    {
     "data": {
      "text/plain": [
       "array([[1, 0, 0, 0, 0, 2],\n",
       "       [1, 0, 1, 0, 2, 0],\n",
       "       [0, 0, 1, 2, 0, 1]])"
      ]
     },
     "execution_count": 121,
     "metadata": {},
     "output_type": "execute_result"
    }
   ],
   "source": [
    "s"
   ]
  },
  {
   "cell_type": "code",
   "execution_count": 122,
   "id": "f33e11e1",
   "metadata": {},
   "outputs": [],
   "source": [
    "spars =  csc_matrix(s)"
   ]
  },
  {
   "cell_type": "code",
   "execution_count": 123,
   "id": "f507be01",
   "metadata": {},
   "outputs": [
    {
     "data": {
      "text/plain": [
       "matrix([[1, 0, 0, 0, 0, 2],\n",
       "        [1, 0, 1, 0, 2, 0],\n",
       "        [0, 0, 1, 2, 0, 1]], dtype=int32)"
      ]
     },
     "execution_count": 123,
     "metadata": {},
     "output_type": "execute_result"
    }
   ],
   "source": [
    "spars.todense()"
   ]
  },
  {
   "cell_type": "code",
   "execution_count": null,
   "id": "ff7a5aea",
   "metadata": {},
   "outputs": [],
   "source": []
  }
 ],
 "metadata": {
  "kernelspec": {
   "display_name": "Python 3 (ipykernel)",
   "language": "python",
   "name": "python3"
  },
  "language_info": {
   "codemirror_mode": {
    "name": "ipython",
    "version": 3
   },
   "file_extension": ".py",
   "mimetype": "text/x-python",
   "name": "python",
   "nbconvert_exporter": "python",
   "pygments_lexer": "ipython3",
   "version": "3.10.9"
  }
 },
 "nbformat": 4,
 "nbformat_minor": 5
}
