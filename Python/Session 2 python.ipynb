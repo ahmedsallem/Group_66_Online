{
 "cells": [
  {
   "cell_type": "markdown",
   "id": "07f14064",
   "metadata": {},
   "source": [
    "# Agenda \n",
    "    PYTHON OPERATORS\n",
    "             Arithmetic\n",
    "             Comparison\n",
    "             Assignment\n",
    "             Logical         \n",
    "    If Else Conditional Statement\n",
    "\n",
    "    list \n",
    "    \n",
    "    tuple \n",
    "    \n",
    "    set \n",
    "    \n",
    "    dictionary \n",
    "    \n",
    "    For Loops"
   ]
  },
  {
   "cell_type": "code",
   "execution_count": 2,
   "id": "eb94b38a",
   "metadata": {},
   "outputs": [],
   "source": [
    "x = 10 \n",
    "y = 10 \n",
    "z = 10 "
   ]
  },
  {
   "cell_type": "code",
   "execution_count": 3,
   "id": "e4a3c328",
   "metadata": {},
   "outputs": [],
   "source": [
    "x = y = z = 10"
   ]
  },
  {
   "cell_type": "code",
   "execution_count": 4,
   "id": "e343a4ba",
   "metadata": {},
   "outputs": [],
   "source": [
    "x , y , z = 10, 20 , 30 "
   ]
  },
  {
   "cell_type": "code",
   "execution_count": 5,
   "id": "09e05cb3",
   "metadata": {},
   "outputs": [],
   "source": [
    "name = \"amit learning\""
   ]
  },
  {
   "cell_type": "code",
   "execution_count": 6,
   "id": "1ab62956",
   "metadata": {},
   "outputs": [
    {
     "data": {
      "text/plain": [
       "'a'"
      ]
     },
     "execution_count": 6,
     "metadata": {},
     "output_type": "execute_result"
    }
   ],
   "source": [
    "name[0]"
   ]
  },
  {
   "cell_type": "code",
   "execution_count": 7,
   "id": "9ec87a34",
   "metadata": {},
   "outputs": [
    {
     "data": {
      "text/plain": [
       "'g'"
      ]
     },
     "execution_count": 7,
     "metadata": {},
     "output_type": "execute_result"
    }
   ],
   "source": [
    "name[-1]"
   ]
  },
  {
   "cell_type": "code",
   "execution_count": 8,
   "id": "97acd7a3",
   "metadata": {},
   "outputs": [],
   "source": [
    "age = 30 "
   ]
  },
  {
   "cell_type": "code",
   "execution_count": 9,
   "id": "550925b6",
   "metadata": {},
   "outputs": [
    {
     "name": "stdout",
     "output_type": "stream",
     "text": [
      "my name is  amit learning  and my age is  30\n"
     ]
    }
   ],
   "source": [
    "print(\"my name is \" , name , \" and my age is \" , age   ) # >>> \"my name is amit learning and my age is 30\""
   ]
  },
  {
   "cell_type": "code",
   "execution_count": 11,
   "id": "771119f3",
   "metadata": {},
   "outputs": [
    {
     "name": "stdout",
     "output_type": "stream",
     "text": [
      "my name is amit learning and my age is 30\n"
     ]
    }
   ],
   "source": [
    "print(\"my name is \"+ name + \" and my age is \"+ str(age) )   "
   ]
  },
  {
   "cell_type": "code",
   "execution_count": 12,
   "id": "ac2a6041",
   "metadata": {},
   "outputs": [
    {
     "name": "stdout",
     "output_type": "stream",
     "text": [
      "my name is amit learning and my age is 30\n"
     ]
    }
   ],
   "source": [
    "print(\"my name is {} and my age is {}\".format(name , age))"
   ]
  },
  {
   "cell_type": "code",
   "execution_count": 14,
   "id": "b5f5c2e1",
   "metadata": {},
   "outputs": [
    {
     "name": "stdout",
     "output_type": "stream",
     "text": [
      "my name is amit learning and my age is 30\n"
     ]
    }
   ],
   "source": [
    "print(f\"my name is {name} and my age is {age}\")"
   ]
  },
  {
   "cell_type": "markdown",
   "id": "45e18101",
   "metadata": {},
   "source": [
    "## PYTHON OPERATORS\n",
    "         Arithmetic"
   ]
  },
  {
   "cell_type": "code",
   "execution_count": 15,
   "id": "de7bcd87",
   "metadata": {},
   "outputs": [
    {
     "data": {
      "text/plain": [
       "24"
      ]
     },
     "execution_count": 15,
     "metadata": {},
     "output_type": "execute_result"
    }
   ],
   "source": [
    "12 + 12"
   ]
  },
  {
   "cell_type": "code",
   "execution_count": 16,
   "id": "6e045829",
   "metadata": {},
   "outputs": [
    {
     "data": {
      "text/plain": [
       "0"
      ]
     },
     "execution_count": 16,
     "metadata": {},
     "output_type": "execute_result"
    }
   ],
   "source": [
    "12 - 12"
   ]
  },
  {
   "cell_type": "code",
   "execution_count": 17,
   "id": "038361b8",
   "metadata": {},
   "outputs": [
    {
     "data": {
      "text/plain": [
       "144"
      ]
     },
     "execution_count": 17,
     "metadata": {},
     "output_type": "execute_result"
    }
   ],
   "source": [
    "12 * 12"
   ]
  },
  {
   "cell_type": "code",
   "execution_count": 23,
   "id": "f77bbb3a",
   "metadata": {},
   "outputs": [
    {
     "data": {
      "text/plain": [
       "float"
      ]
     },
     "execution_count": 23,
     "metadata": {},
     "output_type": "execute_result"
    }
   ],
   "source": [
    "type(12 / 12)"
   ]
  },
  {
   "cell_type": "code",
   "execution_count": 22,
   "id": "c4faa143",
   "metadata": {},
   "outputs": [
    {
     "data": {
      "text/plain": [
       "int"
      ]
     },
     "execution_count": 22,
     "metadata": {},
     "output_type": "execute_result"
    }
   ],
   "source": [
    "type(12 // 12)"
   ]
  },
  {
   "cell_type": "code",
   "execution_count": 25,
   "id": "466ec8ae",
   "metadata": {},
   "outputs": [
    {
     "data": {
      "text/plain": [
       "3"
      ]
     },
     "execution_count": 25,
     "metadata": {},
     "output_type": "execute_result"
    }
   ],
   "source": [
    "10 // 3 "
   ]
  },
  {
   "cell_type": "code",
   "execution_count": 26,
   "id": "bdb6c0e5",
   "metadata": {},
   "outputs": [
    {
     "data": {
      "text/plain": [
       "1"
      ]
     },
     "execution_count": 26,
     "metadata": {},
     "output_type": "execute_result"
    }
   ],
   "source": [
    "10 % 3     # 9 / 3  = 3   "
   ]
  },
  {
   "cell_type": "code",
   "execution_count": 27,
   "id": "f08e7e12",
   "metadata": {},
   "outputs": [
    {
     "data": {
      "text/plain": [
       "0"
      ]
     },
     "execution_count": 27,
     "metadata": {},
     "output_type": "execute_result"
    }
   ],
   "source": [
    "9 % 3 "
   ]
  },
  {
   "cell_type": "code",
   "execution_count": 28,
   "id": "781cc481",
   "metadata": {},
   "outputs": [],
   "source": [
    "# 5 , 6 ,7 "
   ]
  },
  {
   "cell_type": "code",
   "execution_count": 29,
   "id": "dfadc67b",
   "metadata": {},
   "outputs": [
    {
     "data": {
      "text/plain": [
       "9"
      ]
     },
     "execution_count": 29,
     "metadata": {},
     "output_type": "execute_result"
    }
   ],
   "source": [
    "pow(3 , 2 ) # 3 ^ 2 "
   ]
  },
  {
   "cell_type": "code",
   "execution_count": 30,
   "id": "f0d80199",
   "metadata": {},
   "outputs": [
    {
     "data": {
      "text/plain": [
       "9"
      ]
     },
     "execution_count": 30,
     "metadata": {},
     "output_type": "execute_result"
    }
   ],
   "source": [
    "3 ** 2 "
   ]
  },
  {
   "cell_type": "code",
   "execution_count": 31,
   "id": "7ccfa88f",
   "metadata": {},
   "outputs": [
    {
     "data": {
      "text/plain": [
       "3.0"
      ]
     },
     "execution_count": 31,
     "metadata": {},
     "output_type": "execute_result"
    }
   ],
   "source": [
    "x = 5\n",
    "y = 10 \n",
    "z = (10 + x * True) / (5 +  y * False)\n",
    "           # 15      /     5\n",
    "z"
   ]
  },
  {
   "cell_type": "markdown",
   "id": "6e257423",
   "metadata": {},
   "source": [
    "## PYTHON OPERATORS\n",
    "         Comparison   >> bool"
   ]
  },
  {
   "cell_type": "code",
   "execution_count": 33,
   "id": "b61847b5",
   "metadata": {},
   "outputs": [
    {
     "data": {
      "text/plain": [
       "False"
      ]
     },
     "execution_count": 33,
     "metadata": {},
     "output_type": "execute_result"
    }
   ],
   "source": [
    "10 > 20 "
   ]
  },
  {
   "cell_type": "code",
   "execution_count": 35,
   "id": "edb642e3",
   "metadata": {},
   "outputs": [
    {
     "data": {
      "text/plain": [
       "True"
      ]
     },
     "execution_count": 35,
     "metadata": {},
     "output_type": "execute_result"
    }
   ],
   "source": [
    "10 < 20 "
   ]
  },
  {
   "cell_type": "code",
   "execution_count": 37,
   "id": "b5426920",
   "metadata": {},
   "outputs": [
    {
     "data": {
      "text/plain": [
       "False"
      ]
     },
     "execution_count": 37,
     "metadata": {},
     "output_type": "execute_result"
    }
   ],
   "source": [
    "10 >= 20      #10 > 20 or 10 == 20 "
   ]
  },
  {
   "cell_type": "code",
   "execution_count": 38,
   "id": "85f2a98a",
   "metadata": {},
   "outputs": [
    {
     "data": {
      "text/plain": [
       "True"
      ]
     },
     "execution_count": 38,
     "metadata": {},
     "output_type": "execute_result"
    }
   ],
   "source": [
    "10 <= 20      #10 < 20 or 10 == 20"
   ]
  },
  {
   "cell_type": "code",
   "execution_count": 40,
   "id": "180ec2c9",
   "metadata": {},
   "outputs": [
    {
     "data": {
      "text/plain": [
       "True"
      ]
     },
     "execution_count": 40,
     "metadata": {},
     "output_type": "execute_result"
    }
   ],
   "source": [
    "10 == 10 "
   ]
  },
  {
   "cell_type": "code",
   "execution_count": 41,
   "id": "e46f2c40",
   "metadata": {},
   "outputs": [
    {
     "data": {
      "text/plain": [
       "False"
      ]
     },
     "execution_count": 41,
     "metadata": {},
     "output_type": "execute_result"
    }
   ],
   "source": [
    "10 != 10 "
   ]
  },
  {
   "cell_type": "markdown",
   "id": "9db95d80",
   "metadata": {},
   "source": [
    "## PYTHON OPERATORS\n",
    "         Logical"
   ]
  },
  {
   "cell_type": "code",
   "execution_count": 42,
   "id": "fb39cd6e",
   "metadata": {},
   "outputs": [],
   "source": [
    "x = 10 \n",
    "y = 20 "
   ]
  },
  {
   "cell_type": "code",
   "execution_count": 43,
   "id": "197a1b8f",
   "metadata": {},
   "outputs": [
    {
     "data": {
      "text/plain": [
       "False"
      ]
     },
     "execution_count": 43,
     "metadata": {},
     "output_type": "execute_result"
    }
   ],
   "source": [
    "x > y and x == y "
   ]
  },
  {
   "cell_type": "code",
   "execution_count": 44,
   "id": "657e8486",
   "metadata": {},
   "outputs": [
    {
     "data": {
      "text/plain": [
       "True"
      ]
     },
     "execution_count": 44,
     "metadata": {},
     "output_type": "execute_result"
    }
   ],
   "source": [
    "True and True "
   ]
  },
  {
   "cell_type": "code",
   "execution_count": 45,
   "id": "5f61ea59",
   "metadata": {},
   "outputs": [
    {
     "data": {
      "text/plain": [
       "False"
      ]
     },
     "execution_count": 45,
     "metadata": {},
     "output_type": "execute_result"
    }
   ],
   "source": [
    "False and True "
   ]
  },
  {
   "cell_type": "code",
   "execution_count": 46,
   "id": "721b3d3f",
   "metadata": {},
   "outputs": [
    {
     "data": {
      "text/plain": [
       "False"
      ]
     },
     "execution_count": 46,
     "metadata": {},
     "output_type": "execute_result"
    }
   ],
   "source": [
    "False and False "
   ]
  },
  {
   "cell_type": "code",
   "execution_count": 47,
   "id": "269e5bff",
   "metadata": {},
   "outputs": [
    {
     "data": {
      "text/plain": [
       "True"
      ]
     },
     "execution_count": 47,
     "metadata": {},
     "output_type": "execute_result"
    }
   ],
   "source": [
    "y > x or y == x "
   ]
  },
  {
   "cell_type": "code",
   "execution_count": 48,
   "id": "160d0f21",
   "metadata": {},
   "outputs": [
    {
     "data": {
      "text/plain": [
       "True"
      ]
     },
     "execution_count": 48,
     "metadata": {},
     "output_type": "execute_result"
    }
   ],
   "source": [
    "True or True "
   ]
  },
  {
   "cell_type": "code",
   "execution_count": 49,
   "id": "361d3d5d",
   "metadata": {},
   "outputs": [
    {
     "data": {
      "text/plain": [
       "True"
      ]
     },
     "execution_count": 49,
     "metadata": {},
     "output_type": "execute_result"
    }
   ],
   "source": [
    "True or False "
   ]
  },
  {
   "cell_type": "code",
   "execution_count": 50,
   "id": "104a3389",
   "metadata": {},
   "outputs": [
    {
     "data": {
      "text/plain": [
       "False"
      ]
     },
     "execution_count": 50,
     "metadata": {},
     "output_type": "execute_result"
    }
   ],
   "source": [
    "False or False "
   ]
  },
  {
   "cell_type": "code",
   "execution_count": 51,
   "id": "b20f0d4b",
   "metadata": {},
   "outputs": [
    {
     "data": {
      "text/plain": [
       "True"
      ]
     },
     "execution_count": 51,
     "metadata": {},
     "output_type": "execute_result"
    }
   ],
   "source": [
    "\"a\" in  \"amit\""
   ]
  },
  {
   "cell_type": "code",
   "execution_count": 52,
   "id": "35acf0f3",
   "metadata": {},
   "outputs": [
    {
     "data": {
      "text/plain": [
       "False"
      ]
     },
     "execution_count": 52,
     "metadata": {},
     "output_type": "execute_result"
    }
   ],
   "source": [
    "not True "
   ]
  },
  {
   "cell_type": "code",
   "execution_count": 53,
   "id": "11ed44ee",
   "metadata": {},
   "outputs": [
    {
     "data": {
      "text/plain": [
       "True"
      ]
     },
     "execution_count": 53,
     "metadata": {},
     "output_type": "execute_result"
    }
   ],
   "source": [
    "not False "
   ]
  },
  {
   "cell_type": "markdown",
   "id": "6a2e7fc9",
   "metadata": {},
   "source": [
    "## PYTHON OPERATORS\n",
    "         Assignment"
   ]
  },
  {
   "cell_type": "code",
   "execution_count": 54,
   "id": "4c72003d",
   "metadata": {},
   "outputs": [
    {
     "data": {
      "text/plain": [
       "11"
      ]
     },
     "execution_count": 54,
     "metadata": {},
     "output_type": "execute_result"
    }
   ],
   "source": [
    "x = 10 \n",
    "x = x + 1 \n",
    "x"
   ]
  },
  {
   "cell_type": "code",
   "execution_count": 55,
   "id": "2725d447",
   "metadata": {},
   "outputs": [],
   "source": [
    "x = 10 \n",
    "x += 1 "
   ]
  },
  {
   "cell_type": "code",
   "execution_count": 56,
   "id": "ae4c9a01",
   "metadata": {},
   "outputs": [
    {
     "data": {
      "text/plain": [
       "True"
      ]
     },
     "execution_count": 56,
     "metadata": {},
     "output_type": "execute_result"
    }
   ],
   "source": [
    "10 > 9 "
   ]
  },
  {
   "cell_type": "markdown",
   "id": "cd4d17ee",
   "metadata": {},
   "source": [
    "## If Else Conditional Statement"
   ]
  },
  {
   "cell_type": "code",
   "execution_count": 57,
   "id": "6aa0faa5",
   "metadata": {},
   "outputs": [],
   "source": [
    "# if condition :  condition >>> True \n",
    "#     statements....\n",
    "#     .........\n",
    "#     .....\n",
    "#     ...\n",
    "# else:\n",
    "#     statements....\n",
    "#     .........\n",
    "#     .....\n",
    "#     ..."
   ]
  },
  {
   "cell_type": "code",
   "execution_count": 64,
   "id": "1d2e110a",
   "metadata": {},
   "outputs": [
    {
     "name": "stdout",
     "output_type": "stream",
     "text": [
      "g equal to 40\n"
     ]
    }
   ],
   "source": [
    "print(\"g equal to 40\") if g == 40  else print(\"g not equal to 40\")"
   ]
  },
  {
   "cell_type": "code",
   "execution_count": 65,
   "id": "ec384a28",
   "metadata": {},
   "outputs": [
    {
     "name": "stdout",
     "output_type": "stream",
     "text": [
      "False\n"
     ]
    }
   ],
   "source": [
    "g = 30 \n",
    "x = True if g == 40  else False\n",
    "print(x)"
   ]
  },
  {
   "cell_type": "code",
   "execution_count": 58,
   "id": "f0309af8",
   "metadata": {},
   "outputs": [
    {
     "name": "stdout",
     "output_type": "stream",
     "text": [
      "g equal to 40\n"
     ]
    }
   ],
   "source": [
    "g = 40 \n",
    "if g == 40 :\n",
    "    print(\"g equal to 40\")\n",
    "else:\n",
    "    print(\"g not equal to 40\")"
   ]
  },
  {
   "cell_type": "code",
   "execution_count": 60,
   "id": "5cccbe24",
   "metadata": {},
   "outputs": [
    {
     "name": "stdout",
     "output_type": "stream",
     "text": [
      "g less than 50\n"
     ]
    }
   ],
   "source": [
    "g = 40 \n",
    "if g == 50 :  #False\n",
    "    print(\"g equal to 50\")\n",
    "elif g > 50:  #False\n",
    "    print(\"g greater than 50\")\n",
    "elif g < 50:  #False \n",
    "    print(\"g less than 50\")\n",
    "else:\n",
    "    print(\"error\")"
   ]
  },
  {
   "cell_type": "code",
   "execution_count": 63,
   "id": "e02c53d2",
   "metadata": {},
   "outputs": [
    {
     "name": "stdout",
     "output_type": "stream",
     "text": [
      "A_2\n"
     ]
    }
   ],
   "source": [
    "salary = 10000\n",
    "location = True \n",
    "if salary > 15000 and location == True :\n",
    "    print(\"A\")\n",
    "elif salary >= 10000 or location == False :\n",
    "    print(\"A_2\")\n",
    "else:\n",
    "    print(\"D\")"
   ]
  },
  {
   "cell_type": "code",
   "execution_count": 67,
   "id": "1ccbe1ce",
   "metadata": {},
   "outputs": [
    {
     "name": "stdout",
     "output_type": "stream",
     "text": [
      "enter your age: 18\n",
      "True\n"
     ]
    }
   ],
   "source": [
    "age = int(input(\"enter your age: \"))\n",
    "if age >= 18 :\n",
    "    print(True)\n",
    "else:\n",
    "    print(False)"
   ]
  },
  {
   "cell_type": "code",
   "execution_count": 69,
   "id": "e9c462f0",
   "metadata": {},
   "outputs": [
    {
     "name": "stdout",
     "output_type": "stream",
     "text": [
      "enter the num: 12\n",
      "Even\n"
     ]
    }
   ],
   "source": [
    "num = int(input(\"enter the num: \"))\n",
    "if num % 2 == 0 :\n",
    "    print(\"Even\")\n",
    "else:\n",
    "    print(\"Odd\")"
   ]
  },
  {
   "cell_type": "markdown",
   "id": "66fd07da",
   "metadata": {},
   "source": [
    "## list "
   ]
  },
  {
   "cell_type": "code",
   "execution_count": 70,
   "id": "817215ab",
   "metadata": {},
   "outputs": [],
   "source": [
    "# x = 10 \n",
    "# y = 12\n",
    "# z = 23\n",
    "# a = \"amit\"\n",
    "# b = True \n",
    "lst = [1,2,3,4,5,6]   #or lst = list([1,2,3,4,5])"
   ]
  },
  {
   "cell_type": "code",
   "execution_count": 71,
   "id": "1b772001",
   "metadata": {},
   "outputs": [
    {
     "data": {
      "text/plain": [
       "[1, 2, 3, 4, 5, 6]"
      ]
     },
     "execution_count": 71,
     "metadata": {},
     "output_type": "execute_result"
    }
   ],
   "source": [
    "lst"
   ]
  },
  {
   "cell_type": "code",
   "execution_count": 72,
   "id": "a82d2adb",
   "metadata": {},
   "outputs": [
    {
     "data": {
      "text/plain": [
       "6"
      ]
     },
     "execution_count": 72,
     "metadata": {},
     "output_type": "execute_result"
    }
   ],
   "source": [
    "len(lst)"
   ]
  },
  {
   "cell_type": "code",
   "execution_count": 73,
   "id": "1c2900c4",
   "metadata": {},
   "outputs": [],
   "source": [
    "x = 10"
   ]
  },
  {
   "cell_type": "code",
   "execution_count": 74,
   "id": "3bf0d040",
   "metadata": {},
   "outputs": [
    {
     "data": {
      "text/plain": [
       "int"
      ]
     },
     "execution_count": 74,
     "metadata": {},
     "output_type": "execute_result"
    }
   ],
   "source": [
    "type(x)"
   ]
  },
  {
   "cell_type": "code",
   "execution_count": 75,
   "id": "9894f02c",
   "metadata": {},
   "outputs": [
    {
     "data": {
      "text/plain": [
       "list"
      ]
     },
     "execution_count": 75,
     "metadata": {},
     "output_type": "execute_result"
    }
   ],
   "source": [
    "type(lst)"
   ]
  },
  {
   "cell_type": "code",
   "execution_count": 76,
   "id": "a4c79f4e",
   "metadata": {},
   "outputs": [
    {
     "data": {
      "text/plain": [
       "1"
      ]
     },
     "execution_count": 76,
     "metadata": {},
     "output_type": "execute_result"
    }
   ],
   "source": [
    "lst[0]"
   ]
  },
  {
   "cell_type": "code",
   "execution_count": 77,
   "id": "860a713e",
   "metadata": {},
   "outputs": [
    {
     "data": {
      "text/plain": [
       "6"
      ]
     },
     "execution_count": 77,
     "metadata": {},
     "output_type": "execute_result"
    }
   ],
   "source": [
    "lst[-1]"
   ]
  },
  {
   "cell_type": "code",
   "execution_count": 78,
   "id": "4586f66e",
   "metadata": {},
   "outputs": [],
   "source": [
    "#lst[start : end : step]"
   ]
  },
  {
   "cell_type": "code",
   "execution_count": 80,
   "id": "fa7a91b2",
   "metadata": {},
   "outputs": [
    {
     "data": {
      "text/plain": [
       "[1, 3]"
      ]
     },
     "execution_count": 80,
     "metadata": {},
     "output_type": "execute_result"
    }
   ],
   "source": [
    "lst[0:3:2]"
   ]
  },
  {
   "cell_type": "code",
   "execution_count": 82,
   "id": "a48ebc0a",
   "metadata": {},
   "outputs": [],
   "source": [
    "lst[0] = 10   #x = \"amit\"  x[0]=\"A\"  >>> error"
   ]
  },
  {
   "cell_type": "code",
   "execution_count": 83,
   "id": "46f0a1f4",
   "metadata": {},
   "outputs": [
    {
     "data": {
      "text/plain": [
       "[10, 2, 3, 4, 5, 6]"
      ]
     },
     "execution_count": 83,
     "metadata": {},
     "output_type": "execute_result"
    }
   ],
   "source": [
    "lst"
   ]
  },
  {
   "cell_type": "code",
   "execution_count": 116,
   "id": "184162ac",
   "metadata": {},
   "outputs": [],
   "source": [
    "lst = []"
   ]
  },
  {
   "cell_type": "code",
   "execution_count": 117,
   "id": "222fcc07",
   "metadata": {},
   "outputs": [
    {
     "data": {
      "text/plain": [
       "[]"
      ]
     },
     "execution_count": 117,
     "metadata": {},
     "output_type": "execute_result"
    }
   ],
   "source": [
    "lst"
   ]
  },
  {
   "cell_type": "code",
   "execution_count": 118,
   "id": "868c1ee6",
   "metadata": {},
   "outputs": [],
   "source": [
    "lst.append(1)"
   ]
  },
  {
   "cell_type": "code",
   "execution_count": 119,
   "id": "ab78eb21",
   "metadata": {},
   "outputs": [],
   "source": [
    "lst.append(2)"
   ]
  },
  {
   "cell_type": "code",
   "execution_count": 120,
   "id": "eb942ca8",
   "metadata": {},
   "outputs": [],
   "source": [
    "lst.append(3)"
   ]
  },
  {
   "cell_type": "code",
   "execution_count": 121,
   "id": "2b32d357",
   "metadata": {},
   "outputs": [
    {
     "data": {
      "text/plain": [
       "[1, 2, 3]"
      ]
     },
     "execution_count": 121,
     "metadata": {},
     "output_type": "execute_result"
    }
   ],
   "source": [
    "lst"
   ]
  },
  {
   "cell_type": "code",
   "execution_count": 122,
   "id": "976ed80f",
   "metadata": {},
   "outputs": [],
   "source": [
    "lst.insert(0,10)                     #lst.insert(index , value)"
   ]
  },
  {
   "cell_type": "code",
   "execution_count": 123,
   "id": "1bcf0aad",
   "metadata": {},
   "outputs": [
    {
     "data": {
      "text/plain": [
       "[10, 1, 2, 3]"
      ]
     },
     "execution_count": 123,
     "metadata": {},
     "output_type": "execute_result"
    }
   ],
   "source": [
    "lst"
   ]
  },
  {
   "cell_type": "code",
   "execution_count": 124,
   "id": "a60ddd8b",
   "metadata": {},
   "outputs": [],
   "source": [
    "lst.extend([4,5,6])"
   ]
  },
  {
   "cell_type": "code",
   "execution_count": 125,
   "id": "1549d87b",
   "metadata": {},
   "outputs": [
    {
     "data": {
      "text/plain": [
       "[10, 1, 2, 3, 4, 5, 6]"
      ]
     },
     "execution_count": 125,
     "metadata": {},
     "output_type": "execute_result"
    }
   ],
   "source": [
    "lst"
   ]
  },
  {
   "cell_type": "code",
   "execution_count": 126,
   "id": "ee9e36c4",
   "metadata": {},
   "outputs": [],
   "source": [
    "lst.remove(10)      #lst.remove(value)"
   ]
  },
  {
   "cell_type": "code",
   "execution_count": 127,
   "id": "c9fa2a08",
   "metadata": {},
   "outputs": [
    {
     "data": {
      "text/plain": [
       "[1, 2, 3, 4, 5, 6]"
      ]
     },
     "execution_count": 127,
     "metadata": {},
     "output_type": "execute_result"
    }
   ],
   "source": [
    "lst"
   ]
  },
  {
   "cell_type": "code",
   "execution_count": 128,
   "id": "e5d39fa7",
   "metadata": {},
   "outputs": [
    {
     "data": {
      "text/plain": [
       "6"
      ]
     },
     "execution_count": 128,
     "metadata": {},
     "output_type": "execute_result"
    }
   ],
   "source": [
    "lst.pop()  #lst.pop(index = -1)"
   ]
  },
  {
   "cell_type": "code",
   "execution_count": 129,
   "id": "0af49ac0",
   "metadata": {},
   "outputs": [
    {
     "data": {
      "text/plain": [
       "[1, 2, 3, 4, 5]"
      ]
     },
     "execution_count": 129,
     "metadata": {},
     "output_type": "execute_result"
    }
   ],
   "source": [
    "lst"
   ]
  },
  {
   "cell_type": "code",
   "execution_count": 130,
   "id": "3d00fd15",
   "metadata": {},
   "outputs": [
    {
     "data": {
      "text/plain": [
       "1"
      ]
     },
     "execution_count": 130,
     "metadata": {},
     "output_type": "execute_result"
    }
   ],
   "source": [
    "lst.pop(0)"
   ]
  },
  {
   "cell_type": "code",
   "execution_count": 131,
   "id": "5b208ade",
   "metadata": {},
   "outputs": [
    {
     "data": {
      "text/plain": [
       "[2, 3, 4, 5]"
      ]
     },
     "execution_count": 131,
     "metadata": {},
     "output_type": "execute_result"
    }
   ],
   "source": [
    "lst"
   ]
  },
  {
   "cell_type": "code",
   "execution_count": 132,
   "id": "4f695099",
   "metadata": {},
   "outputs": [],
   "source": [
    "lst.append(lst.pop(0))"
   ]
  },
  {
   "cell_type": "code",
   "execution_count": 133,
   "id": "5e37c116",
   "metadata": {},
   "outputs": [
    {
     "data": {
      "text/plain": [
       "[3, 4, 5, 2]"
      ]
     },
     "execution_count": 133,
     "metadata": {},
     "output_type": "execute_result"
    }
   ],
   "source": [
    "lst"
   ]
  },
  {
   "cell_type": "code",
   "execution_count": 134,
   "id": "463df633",
   "metadata": {},
   "outputs": [],
   "source": [
    "lst.append(lst.pop(0))"
   ]
  },
  {
   "cell_type": "code",
   "execution_count": 135,
   "id": "fc7021e8",
   "metadata": {},
   "outputs": [
    {
     "data": {
      "text/plain": [
       "[4, 5, 2, 3]"
      ]
     },
     "execution_count": 135,
     "metadata": {},
     "output_type": "execute_result"
    }
   ],
   "source": [
    "lst"
   ]
  },
  {
   "cell_type": "code",
   "execution_count": 136,
   "id": "7312fd5a",
   "metadata": {},
   "outputs": [],
   "source": [
    "lst.insert(0 , lst.pop(1))"
   ]
  },
  {
   "cell_type": "code",
   "execution_count": 137,
   "id": "19caadfb",
   "metadata": {},
   "outputs": [
    {
     "data": {
      "text/plain": [
       "[5, 4, 2, 3]"
      ]
     },
     "execution_count": 137,
     "metadata": {},
     "output_type": "execute_result"
    }
   ],
   "source": [
    "lst"
   ]
  },
  {
   "cell_type": "code",
   "execution_count": 138,
   "id": "7d256cea",
   "metadata": {},
   "outputs": [],
   "source": [
    "del lst[0]"
   ]
  },
  {
   "cell_type": "code",
   "execution_count": 139,
   "id": "14f7b508",
   "metadata": {},
   "outputs": [
    {
     "data": {
      "text/plain": [
       "[4, 2, 3]"
      ]
     },
     "execution_count": 139,
     "metadata": {},
     "output_type": "execute_result"
    }
   ],
   "source": [
    "lst"
   ]
  },
  {
   "cell_type": "code",
   "execution_count": 141,
   "id": "aab44eb8",
   "metadata": {},
   "outputs": [],
   "source": [
    "lst = lst * 2 "
   ]
  },
  {
   "cell_type": "code",
   "execution_count": 142,
   "id": "a189f1fa",
   "metadata": {},
   "outputs": [
    {
     "data": {
      "text/plain": [
       "[4, 2, 3, 4, 2, 3]"
      ]
     },
     "execution_count": 142,
     "metadata": {},
     "output_type": "execute_result"
    }
   ],
   "source": [
    "lst"
   ]
  },
  {
   "cell_type": "code",
   "execution_count": 143,
   "id": "6bb4fb6f",
   "metadata": {},
   "outputs": [
    {
     "data": {
      "text/plain": [
       "2"
      ]
     },
     "execution_count": 143,
     "metadata": {},
     "output_type": "execute_result"
    }
   ],
   "source": [
    "lst.count(2)"
   ]
  },
  {
   "cell_type": "code",
   "execution_count": 146,
   "id": "474c2a7a",
   "metadata": {},
   "outputs": [
    {
     "data": {
      "text/plain": [
       "0"
      ]
     },
     "execution_count": 146,
     "metadata": {},
     "output_type": "execute_result"
    }
   ],
   "source": [
    "lst.index(4)    #lst.index(value)"
   ]
  },
  {
   "cell_type": "code",
   "execution_count": 150,
   "id": "49a40d42",
   "metadata": {},
   "outputs": [
    {
     "data": {
      "text/plain": [
       "5"
      ]
     },
     "execution_count": 150,
     "metadata": {},
     "output_type": "execute_result"
    }
   ],
   "source": [
    "l = [1,2,3,[2,3,4,5]]\n",
    "l[3][3]                       #l[-1][-1]"
   ]
  },
  {
   "cell_type": "code",
   "execution_count": 151,
   "id": "224d1c4b",
   "metadata": {},
   "outputs": [],
   "source": [
    "l = [1,2,3,[2,3,4,5] , [\"A\" , \"B\" , [\"C\" , \"amit learning\" , \"D\"]]]"
   ]
  },
  {
   "cell_type": "code",
   "execution_count": 152,
   "id": "074190fb",
   "metadata": {},
   "outputs": [
    {
     "data": {
      "text/plain": [
       "['A', 'B', ['C', 'amit learning', 'D']]"
      ]
     },
     "execution_count": 152,
     "metadata": {},
     "output_type": "execute_result"
    }
   ],
   "source": [
    "l[-1]"
   ]
  },
  {
   "cell_type": "code",
   "execution_count": 153,
   "id": "f435dcf2",
   "metadata": {},
   "outputs": [
    {
     "data": {
      "text/plain": [
       "['C', 'amit learning', 'D']"
      ]
     },
     "execution_count": 153,
     "metadata": {},
     "output_type": "execute_result"
    }
   ],
   "source": [
    "l[-1][-1]"
   ]
  },
  {
   "cell_type": "code",
   "execution_count": 156,
   "id": "52e65d13",
   "metadata": {},
   "outputs": [],
   "source": [
    "l[-1][-1][1] = l[-1][-1][1].upper()"
   ]
  },
  {
   "cell_type": "code",
   "execution_count": 157,
   "id": "38730513",
   "metadata": {},
   "outputs": [
    {
     "data": {
      "text/plain": [
       "[1, 2, 3, [2, 3, 4, 5], ['A', 'B', ['C', 'AMIT LEARNING', 'D']]]"
      ]
     },
     "execution_count": 157,
     "metadata": {},
     "output_type": "execute_result"
    }
   ],
   "source": [
    "l"
   ]
  },
  {
   "cell_type": "code",
   "execution_count": 158,
   "id": "07985a91",
   "metadata": {},
   "outputs": [
    {
     "data": {
      "text/plain": [
       "['a', 'm', 'i', 't']"
      ]
     },
     "execution_count": 158,
     "metadata": {},
     "output_type": "execute_result"
    }
   ],
   "source": [
    "list(\"amit\")"
   ]
  },
  {
   "cell_type": "code",
   "execution_count": 159,
   "id": "5c0bde06",
   "metadata": {},
   "outputs": [
    {
     "data": {
      "text/plain": [
       "[4, 2, 3, 4, 2, 3]"
      ]
     },
     "execution_count": 159,
     "metadata": {},
     "output_type": "execute_result"
    }
   ],
   "source": [
    "lst"
   ]
  },
  {
   "cell_type": "code",
   "execution_count": 160,
   "id": "64c3727a",
   "metadata": {},
   "outputs": [],
   "source": [
    "lst2 = lst"
   ]
  },
  {
   "cell_type": "code",
   "execution_count": 161,
   "id": "5b13dd07",
   "metadata": {},
   "outputs": [
    {
     "data": {
      "text/plain": [
       "[4, 2, 3, 4, 2, 3]"
      ]
     },
     "execution_count": 161,
     "metadata": {},
     "output_type": "execute_result"
    }
   ],
   "source": [
    "lst2"
   ]
  },
  {
   "cell_type": "code",
   "execution_count": 162,
   "id": "0693dcab",
   "metadata": {},
   "outputs": [],
   "source": [
    "lst2.clear()"
   ]
  },
  {
   "cell_type": "code",
   "execution_count": 163,
   "id": "5a53630d",
   "metadata": {},
   "outputs": [
    {
     "data": {
      "text/plain": [
       "[]"
      ]
     },
     "execution_count": 163,
     "metadata": {},
     "output_type": "execute_result"
    }
   ],
   "source": [
    "lst2"
   ]
  },
  {
   "cell_type": "code",
   "execution_count": 164,
   "id": "fd40088f",
   "metadata": {},
   "outputs": [
    {
     "data": {
      "text/plain": [
       "[]"
      ]
     },
     "execution_count": 164,
     "metadata": {},
     "output_type": "execute_result"
    }
   ],
   "source": [
    "lst"
   ]
  },
  {
   "cell_type": "code",
   "execution_count": 165,
   "id": "4594624f",
   "metadata": {},
   "outputs": [],
   "source": [
    "lst = [4, 2, 3, 4, 2, 3]"
   ]
  },
  {
   "cell_type": "code",
   "execution_count": 166,
   "id": "54fe68eb",
   "metadata": {},
   "outputs": [
    {
     "data": {
      "text/plain": [
       "2111871204224"
      ]
     },
     "execution_count": 166,
     "metadata": {},
     "output_type": "execute_result"
    }
   ],
   "source": [
    "id(lst)"
   ]
  },
  {
   "cell_type": "code",
   "execution_count": 167,
   "id": "ef0e2337",
   "metadata": {},
   "outputs": [],
   "source": [
    "lst2 = lst"
   ]
  },
  {
   "cell_type": "code",
   "execution_count": 168,
   "id": "0030ef7f",
   "metadata": {},
   "outputs": [
    {
     "data": {
      "text/plain": [
       "2111871204224"
      ]
     },
     "execution_count": 168,
     "metadata": {},
     "output_type": "execute_result"
    }
   ],
   "source": [
    "id(lst2)"
   ]
  },
  {
   "cell_type": "code",
   "execution_count": 169,
   "id": "7b6b3ea3",
   "metadata": {},
   "outputs": [],
   "source": [
    "lst2 = lst.copy()"
   ]
  },
  {
   "cell_type": "code",
   "execution_count": 170,
   "id": "a21b54ac",
   "metadata": {},
   "outputs": [],
   "source": [
    "lst2.append(10)"
   ]
  },
  {
   "cell_type": "code",
   "execution_count": 171,
   "id": "8968d121",
   "metadata": {},
   "outputs": [
    {
     "data": {
      "text/plain": [
       "[4, 2, 3, 4, 2, 3, 10]"
      ]
     },
     "execution_count": 171,
     "metadata": {},
     "output_type": "execute_result"
    }
   ],
   "source": [
    "lst2"
   ]
  },
  {
   "cell_type": "code",
   "execution_count": 172,
   "id": "f81501a7",
   "metadata": {},
   "outputs": [
    {
     "data": {
      "text/plain": [
       "[4, 2, 3, 4, 2, 3]"
      ]
     },
     "execution_count": 172,
     "metadata": {},
     "output_type": "execute_result"
    }
   ],
   "source": [
    "lst"
   ]
  },
  {
   "cell_type": "code",
   "execution_count": 173,
   "id": "da12f7a1",
   "metadata": {},
   "outputs": [],
   "source": [
    "del lst2 "
   ]
  },
  {
   "cell_type": "code",
   "execution_count": 175,
   "id": "ba702878",
   "metadata": {},
   "outputs": [],
   "source": [
    "# lst2"
   ]
  },
  {
   "cell_type": "code",
   "execution_count": 181,
   "id": "9bb76a2a",
   "metadata": {},
   "outputs": [],
   "source": [
    "lst2 = lst[:]"
   ]
  },
  {
   "cell_type": "code",
   "execution_count": 182,
   "id": "f1298a93",
   "metadata": {},
   "outputs": [],
   "source": [
    "lst2.clear()"
   ]
  },
  {
   "cell_type": "code",
   "execution_count": 183,
   "id": "d41fa484",
   "metadata": {},
   "outputs": [
    {
     "data": {
      "text/plain": [
       "[4, 2, 3, 4, 2, 3]"
      ]
     },
     "execution_count": 183,
     "metadata": {},
     "output_type": "execute_result"
    }
   ],
   "source": [
    "lst"
   ]
  },
  {
   "cell_type": "code",
   "execution_count": 231,
   "id": "6a1ff1c9",
   "metadata": {},
   "outputs": [
    {
     "data": {
      "text/plain": [
       "[1, 4, 3, 4, 5, 6, 7, 6, 5, 6, 7, 8, 1, 3]"
      ]
     },
     "execution_count": 231,
     "metadata": {},
     "output_type": "execute_result"
    }
   ],
   "source": [
    "lst"
   ]
  },
  {
   "cell_type": "code",
   "execution_count": 232,
   "id": "3ed4b349",
   "metadata": {},
   "outputs": [],
   "source": [
    "lst.sort()"
   ]
  },
  {
   "cell_type": "code",
   "execution_count": 233,
   "id": "89138e14",
   "metadata": {},
   "outputs": [
    {
     "data": {
      "text/plain": [
       "[1, 1, 3, 3, 4, 4, 5, 5, 6, 6, 6, 7, 7, 8]"
      ]
     },
     "execution_count": 233,
     "metadata": {},
     "output_type": "execute_result"
    }
   ],
   "source": [
    "lst"
   ]
  },
  {
   "cell_type": "code",
   "execution_count": 234,
   "id": "24ebd3a5",
   "metadata": {},
   "outputs": [],
   "source": [
    "lst.reverse()"
   ]
  },
  {
   "cell_type": "code",
   "execution_count": 235,
   "id": "10bcf057",
   "metadata": {},
   "outputs": [
    {
     "data": {
      "text/plain": [
       "[8, 7, 7, 6, 6, 6, 5, 5, 4, 4, 3, 3, 1, 1]"
      ]
     },
     "execution_count": 235,
     "metadata": {},
     "output_type": "execute_result"
    }
   ],
   "source": [
    "lst"
   ]
  },
  {
   "cell_type": "code",
   "execution_count": 236,
   "id": "4899a52d",
   "metadata": {},
   "outputs": [],
   "source": [
    "# list \n",
    "# lst = []  or lst = list()\n",
    "# lst[0] or lst[-1]\n",
    "# lst.append(value)\n",
    "# lst.insert(index , value)\n",
    "# lst.extend(seq)\n",
    "# lst.remove(value)\n",
    "# lst.pop(index = -1)\n",
    "# lst.clear()\n",
    "# del lst[index]\n",
    "# del lst\n",
    "# lst.index(value)\n",
    "# lst.count(value)\n",
    "# lst.sort()\n",
    "# lst.reverse()\n",
    "# len(lst)\n",
    "# type(lst)\n",
    "# sum(lst)\n",
    "# max(lst)\n",
    "# min(lst)"
   ]
  },
  {
   "cell_type": "code",
   "execution_count": 184,
   "id": "c0fc2250",
   "metadata": {},
   "outputs": [],
   "source": [
    "# for i in lst:\n",
    "#     statements....\n",
    "#     ......\n",
    "#     ....\n",
    "#     ...."
   ]
  },
  {
   "cell_type": "code",
   "execution_count": 187,
   "id": "1bd4487f",
   "metadata": {},
   "outputs": [],
   "source": [
    "l = []\n",
    "for i in lst:\n",
    "    l.append(i * 2)"
   ]
  },
  {
   "cell_type": "code",
   "execution_count": 188,
   "id": "bf5ea1d7",
   "metadata": {},
   "outputs": [
    {
     "data": {
      "text/plain": [
       "[8, 4, 6, 8, 4, 6]"
      ]
     },
     "execution_count": 188,
     "metadata": {},
     "output_type": "execute_result"
    }
   ],
   "source": [
    "l"
   ]
  },
  {
   "cell_type": "code",
   "execution_count": 191,
   "id": "c8c96873",
   "metadata": {},
   "outputs": [
    {
     "name": "stdout",
     "output_type": "stream",
     "text": [
      "1\n",
      "2\n",
      "3\n",
      "4\n",
      "5\n",
      "6\n",
      "7\n",
      "8\n",
      "9\n",
      "10\n"
     ]
    }
   ],
   "source": [
    "for i in range(1 , 11 , 1):    #range(start , end , step)\n",
    "    print(i)"
   ]
  },
  {
   "cell_type": "code",
   "execution_count": 196,
   "id": "12e2c46b",
   "metadata": {},
   "outputs": [
    {
     "name": "stdout",
     "output_type": "stream",
     "text": [
      "1 is odd\n",
      "4 is even\n",
      "3 is odd\n",
      "4 is even\n",
      "5 is odd\n",
      "6 is even\n",
      "7 is odd\n",
      "6 is even\n",
      "5 is odd\n",
      "6 is even\n",
      "7 is odd\n",
      "8 is even\n",
      "1 is odd\n",
      "3 is odd\n"
     ]
    }
   ],
   "source": [
    "lst = [1,4,3,4,5,6,7,6,5,6,7,8,1,3]\n",
    "for i in lst:\n",
    "    if i % 2 == 0:\n",
    "        print(f\"{i} is even\")\n",
    "    else:\n",
    "        print(f\"{i} is odd\")"
   ]
  },
  {
   "cell_type": "code",
   "execution_count": 197,
   "id": "8fa6cf45",
   "metadata": {},
   "outputs": [
    {
     "data": {
      "text/plain": [
       "[1, 4, 3, 4, 5, 6, 7, 6, 5, 6, 7, 8, 1, 3]"
      ]
     },
     "execution_count": 197,
     "metadata": {},
     "output_type": "execute_result"
    }
   ],
   "source": [
    "lst"
   ]
  },
  {
   "cell_type": "code",
   "execution_count": 198,
   "id": "e844ed94",
   "metadata": {},
   "outputs": [],
   "source": [
    "l = []\n",
    "for i in lst:\n",
    "    l.append(i * 2)"
   ]
  },
  {
   "cell_type": "code",
   "execution_count": 199,
   "id": "f0ce201e",
   "metadata": {},
   "outputs": [
    {
     "data": {
      "text/plain": [
       "[2, 8, 6, 8, 10, 12, 14, 12, 10, 12, 14, 16, 2, 6]"
      ]
     },
     "execution_count": 199,
     "metadata": {},
     "output_type": "execute_result"
    }
   ],
   "source": [
    "l"
   ]
  },
  {
   "cell_type": "code",
   "execution_count": 200,
   "id": "7ef266ec",
   "metadata": {},
   "outputs": [
    {
     "data": {
      "text/plain": [
       "[2, 8, 6, 8, 10, 12, 14, 12, 10, 12, 14, 16, 2, 6]"
      ]
     },
     "execution_count": 200,
     "metadata": {},
     "output_type": "execute_result"
    }
   ],
   "source": [
    "[i * 2  for i in lst]"
   ]
  },
  {
   "cell_type": "code",
   "execution_count": 205,
   "id": "fd0f0b11",
   "metadata": {},
   "outputs": [
    {
     "name": "stdout",
     "output_type": "stream",
     "text": [
      "[4, 4, 6, 6, 6, 8]\n",
      "[1, 3, 5, 7, 5, 7, 1, 3]\n"
     ]
    }
   ],
   "source": [
    "print([i for i in lst if i % 2 == 0 ])   # even \n",
    "print([i for i in lst if i % 2 != 0 ])   # odd"
   ]
  },
  {
   "cell_type": "code",
   "execution_count": 204,
   "id": "fd0957ed",
   "metadata": {},
   "outputs": [
    {
     "data": {
      "text/plain": [
       "['odd',\n",
       " 'even',\n",
       " 'odd',\n",
       " 'even',\n",
       " 'odd',\n",
       " 'even',\n",
       " 'odd',\n",
       " 'even',\n",
       " 'odd',\n",
       " 'even',\n",
       " 'odd',\n",
       " 'even',\n",
       " 'odd',\n",
       " 'odd']"
      ]
     },
     "execution_count": 204,
     "metadata": {},
     "output_type": "execute_result"
    }
   ],
   "source": [
    "[\"even\" if i % 2 == 0 else \"odd\" for i in lst ]"
   ]
  },
  {
   "cell_type": "code",
   "execution_count": 207,
   "id": "4ac50a32",
   "metadata": {},
   "outputs": [],
   "source": [
    "# while condition : \n",
    "#     statements...\n",
    "#     .......\n",
    "#     .....\n",
    "#     ....\n",
    "#     counter +=1 "
   ]
  },
  {
   "cell_type": "code",
   "execution_count": 210,
   "id": "f9ee067d",
   "metadata": {},
   "outputs": [
    {
     "name": "stdout",
     "output_type": "stream",
     "text": [
      "0 amit\n",
      "1 amit\n",
      "2 amit\n",
      "3 amit\n",
      "4 amit\n",
      "5 amit\n",
      "6 amit\n",
      "7 amit\n",
      "8 amit\n",
      "9 amit\n"
     ]
    }
   ],
   "source": [
    "x = 0 \n",
    "while x < 10 : #True    ..... 10 < 10 >> False  \n",
    "    print(x , \"amit\")\n",
    "    x += 1 "
   ]
  },
  {
   "cell_type": "code",
   "execution_count": 211,
   "id": "a405f150",
   "metadata": {},
   "outputs": [
    {
     "data": {
      "text/plain": [
       "[1, 4, 3, 4, 5, 6, 7, 6, 5, 6, 7, 8, 1, 3]"
      ]
     },
     "execution_count": 211,
     "metadata": {},
     "output_type": "execute_result"
    }
   ],
   "source": [
    "lst"
   ]
  },
  {
   "cell_type": "code",
   "execution_count": 214,
   "id": "9c55138d",
   "metadata": {},
   "outputs": [
    {
     "name": "stdout",
     "output_type": "stream",
     "text": [
      "0 1\n",
      "1 4\n",
      "2 3\n",
      "3 4\n",
      "4 5\n",
      "5 6\n",
      "6 7\n",
      "7 6\n",
      "8 5\n",
      "9 6\n",
      "10 7\n",
      "11 8\n",
      "12 1\n",
      "13 3\n"
     ]
    }
   ],
   "source": [
    "x = 0 \n",
    "while x < len(lst):\n",
    "    print(x ,  lst[x])\n",
    "    x += 1 "
   ]
  },
  {
   "cell_type": "markdown",
   "id": "c3bade3b",
   "metadata": {},
   "source": [
    "    tuple \n",
    "\n",
    "    set \n",
    "\n",
    "    dictionary "
   ]
  },
  {
   "cell_type": "code",
   "execution_count": 256,
   "id": "91aa3104",
   "metadata": {},
   "outputs": [
    {
     "data": {
      "text/plain": [
       "2111877494912"
      ]
     },
     "execution_count": 256,
     "metadata": {},
     "output_type": "execute_result"
    }
   ],
   "source": [
    "t = (1,2,3,4,5,6)  #or t= tuple(seq)\n",
    "id(t)"
   ]
  },
  {
   "cell_type": "code",
   "execution_count": 257,
   "id": "ab1bd0f3",
   "metadata": {},
   "outputs": [
    {
     "data": {
      "text/plain": [
       "tuple"
      ]
     },
     "execution_count": 257,
     "metadata": {},
     "output_type": "execute_result"
    }
   ],
   "source": [
    "type(t)"
   ]
  },
  {
   "cell_type": "code",
   "execution_count": 258,
   "id": "d673f865",
   "metadata": {},
   "outputs": [
    {
     "data": {
      "text/plain": [
       "6"
      ]
     },
     "execution_count": 258,
     "metadata": {},
     "output_type": "execute_result"
    }
   ],
   "source": [
    "len(t)"
   ]
  },
  {
   "cell_type": "code",
   "execution_count": 259,
   "id": "8c07726b",
   "metadata": {},
   "outputs": [
    {
     "data": {
      "text/plain": [
       "21"
      ]
     },
     "execution_count": 259,
     "metadata": {},
     "output_type": "execute_result"
    }
   ],
   "source": [
    "sum(t)"
   ]
  },
  {
   "cell_type": "code",
   "execution_count": 260,
   "id": "a655b889",
   "metadata": {},
   "outputs": [
    {
     "data": {
      "text/plain": [
       "6"
      ]
     },
     "execution_count": 260,
     "metadata": {},
     "output_type": "execute_result"
    }
   ],
   "source": [
    "max(t)"
   ]
  },
  {
   "cell_type": "code",
   "execution_count": 261,
   "id": "e1f6addb",
   "metadata": {},
   "outputs": [
    {
     "data": {
      "text/plain": [
       "1"
      ]
     },
     "execution_count": 261,
     "metadata": {},
     "output_type": "execute_result"
    }
   ],
   "source": [
    "min(t)"
   ]
  },
  {
   "cell_type": "code",
   "execution_count": 262,
   "id": "81b6bada",
   "metadata": {},
   "outputs": [
    {
     "data": {
      "text/plain": [
       "1"
      ]
     },
     "execution_count": 262,
     "metadata": {},
     "output_type": "execute_result"
    }
   ],
   "source": [
    "t[0]"
   ]
  },
  {
   "cell_type": "code",
   "execution_count": 263,
   "id": "fb5805d9",
   "metadata": {},
   "outputs": [
    {
     "data": {
      "text/plain": [
       "6"
      ]
     },
     "execution_count": 263,
     "metadata": {},
     "output_type": "execute_result"
    }
   ],
   "source": [
    "t[-1]"
   ]
  },
  {
   "cell_type": "code",
   "execution_count": 264,
   "id": "980cdc48",
   "metadata": {},
   "outputs": [],
   "source": [
    "a , b, c = t[0:3]"
   ]
  },
  {
   "cell_type": "code",
   "execution_count": 265,
   "id": "255fa03f",
   "metadata": {},
   "outputs": [
    {
     "data": {
      "text/plain": [
       "1"
      ]
     },
     "execution_count": 265,
     "metadata": {},
     "output_type": "execute_result"
    }
   ],
   "source": [
    "a"
   ]
  },
  {
   "cell_type": "code",
   "execution_count": 266,
   "id": "b3897fd0",
   "metadata": {},
   "outputs": [
    {
     "data": {
      "text/plain": [
       "2"
      ]
     },
     "execution_count": 266,
     "metadata": {},
     "output_type": "execute_result"
    }
   ],
   "source": [
    "b"
   ]
  },
  {
   "cell_type": "code",
   "execution_count": 267,
   "id": "c87aed8c",
   "metadata": {},
   "outputs": [
    {
     "data": {
      "text/plain": [
       "3"
      ]
     },
     "execution_count": 267,
     "metadata": {},
     "output_type": "execute_result"
    }
   ],
   "source": [
    "c"
   ]
  },
  {
   "cell_type": "code",
   "execution_count": 268,
   "id": "20a9e935",
   "metadata": {},
   "outputs": [
    {
     "data": {
      "text/plain": [
       "(1, 2, 3, 4, 5, 6)"
      ]
     },
     "execution_count": 268,
     "metadata": {},
     "output_type": "execute_result"
    }
   ],
   "source": [
    "t"
   ]
  },
  {
   "cell_type": "code",
   "execution_count": 269,
   "id": "67350909",
   "metadata": {},
   "outputs": [
    {
     "data": {
      "text/plain": [
       "(6, 5, 4, 3, 2, 1)"
      ]
     },
     "execution_count": 269,
     "metadata": {},
     "output_type": "execute_result"
    }
   ],
   "source": [
    "t[::-1]"
   ]
  },
  {
   "cell_type": "code",
   "execution_count": 270,
   "id": "22036ce3",
   "metadata": {},
   "outputs": [],
   "source": [
    "lst[0] = 1"
   ]
  },
  {
   "cell_type": "code",
   "execution_count": 271,
   "id": "1bd86cd3",
   "metadata": {},
   "outputs": [
    {
     "data": {
      "text/plain": [
       "[1, 7, 7, 6, 6, 6, 5, 5, 4, 4, 3, 3, 1, 1]"
      ]
     },
     "execution_count": 271,
     "metadata": {},
     "output_type": "execute_result"
    }
   ],
   "source": [
    "lst"
   ]
  },
  {
   "cell_type": "code",
   "execution_count": 272,
   "id": "2d7dab0c",
   "metadata": {},
   "outputs": [],
   "source": [
    "# t[0] = 10    #immutable "
   ]
  },
  {
   "cell_type": "code",
   "execution_count": 273,
   "id": "86b0b06f",
   "metadata": {},
   "outputs": [],
   "source": [
    "lst_t = list(t)"
   ]
  },
  {
   "cell_type": "code",
   "execution_count": 274,
   "id": "a750f617",
   "metadata": {},
   "outputs": [
    {
     "data": {
      "text/plain": [
       "[1, 2, 3, 4, 5, 6]"
      ]
     },
     "execution_count": 274,
     "metadata": {},
     "output_type": "execute_result"
    }
   ],
   "source": [
    "lst_t"
   ]
  },
  {
   "cell_type": "code",
   "execution_count": 275,
   "id": "4a527763",
   "metadata": {},
   "outputs": [],
   "source": [
    "lst_t.append(10)"
   ]
  },
  {
   "cell_type": "code",
   "execution_count": 276,
   "id": "2af3a6e5",
   "metadata": {},
   "outputs": [
    {
     "data": {
      "text/plain": [
       "[1, 2, 3, 4, 5, 6, 10]"
      ]
     },
     "execution_count": 276,
     "metadata": {},
     "output_type": "execute_result"
    }
   ],
   "source": [
    "lst_t"
   ]
  },
  {
   "cell_type": "code",
   "execution_count": 277,
   "id": "6b978645",
   "metadata": {},
   "outputs": [],
   "source": [
    "t = tuple(lst_t)"
   ]
  },
  {
   "cell_type": "code",
   "execution_count": 278,
   "id": "8513bcea",
   "metadata": {},
   "outputs": [
    {
     "data": {
      "text/plain": [
       "(1, 2, 3, 4, 5, 6, 10)"
      ]
     },
     "execution_count": 278,
     "metadata": {},
     "output_type": "execute_result"
    }
   ],
   "source": [
    "t"
   ]
  },
  {
   "cell_type": "code",
   "execution_count": 279,
   "id": "c2840f51",
   "metadata": {},
   "outputs": [
    {
     "data": {
      "text/plain": [
       "2111877495296"
      ]
     },
     "execution_count": 279,
     "metadata": {},
     "output_type": "execute_result"
    }
   ],
   "source": [
    "id(t)"
   ]
  },
  {
   "cell_type": "code",
   "execution_count": 280,
   "id": "28002ff7",
   "metadata": {},
   "outputs": [
    {
     "data": {
      "text/plain": [
       "(1, 2, 3, 4, 5, 6, 10)"
      ]
     },
     "execution_count": 280,
     "metadata": {},
     "output_type": "execute_result"
    }
   ],
   "source": [
    "t"
   ]
  },
  {
   "cell_type": "code",
   "execution_count": 282,
   "id": "115c7b3e",
   "metadata": {},
   "outputs": [
    {
     "data": {
      "text/plain": [
       "(1, 2, 3, 4, 5, 6, 10, 10)"
      ]
     },
     "execution_count": 282,
     "metadata": {},
     "output_type": "execute_result"
    }
   ],
   "source": [
    "t + (10,)"
   ]
  },
  {
   "cell_type": "code",
   "execution_count": 285,
   "id": "d46bae4f",
   "metadata": {},
   "outputs": [],
   "source": [
    "lst =  [(10,20,30) , (30,40,50) , (50,60,70)]\n",
    "    #>>[(10,20,100) , (30,40,100) , (50,60,100)]\n"
   ]
  },
  {
   "cell_type": "code",
   "execution_count": 291,
   "id": "5ff7a15d",
   "metadata": {},
   "outputs": [
    {
     "data": {
      "text/plain": [
       "[(10, 20, 100), (30, 40, 100), (50, 60, 100)]"
      ]
     },
     "execution_count": 291,
     "metadata": {},
     "output_type": "execute_result"
    }
   ],
   "source": [
    "[ i[:-1]+(100,) for i in lst]"
   ]
  },
  {
   "cell_type": "code",
   "execution_count": 297,
   "id": "86ca62c2",
   "metadata": {},
   "outputs": [
    {
     "name": "stdout",
     "output_type": "stream",
     "text": [
      "[(10, 20, 100), (30, 40, 100), (50, 60, 100)]\n"
     ]
    }
   ],
   "source": [
    "t  =[]\n",
    "for i in lst:\n",
    "    i = list(i)\n",
    "    i[-1] = 100\n",
    "    i = tuple(i)\n",
    "    t.append(i)\n",
    "print(t)"
   ]
  },
  {
   "cell_type": "code",
   "execution_count": 301,
   "id": "08032d16",
   "metadata": {},
   "outputs": [
    {
     "data": {
      "text/plain": [
       "7"
      ]
     },
     "execution_count": 301,
     "metadata": {},
     "output_type": "execute_result"
    }
   ],
   "source": [
    "t = ( 1,2,3,4,5,6,7,8)\n",
    "t.index(8)"
   ]
  },
  {
   "cell_type": "code",
   "execution_count": 302,
   "id": "118933dd",
   "metadata": {},
   "outputs": [
    {
     "data": {
      "text/plain": [
       "1"
      ]
     },
     "execution_count": 302,
     "metadata": {},
     "output_type": "execute_result"
    }
   ],
   "source": [
    "t.count(1)"
   ]
  },
  {
   "cell_type": "markdown",
   "id": "1620b5ae",
   "metadata": {},
   "source": [
    "### Set "
   ]
  },
  {
   "cell_type": "code",
   "execution_count": 305,
   "id": "00024b15",
   "metadata": {},
   "outputs": [],
   "source": [
    "s = {1,2,3,4,5,6,6}   #or  s = set(seq)"
   ]
  },
  {
   "cell_type": "code",
   "execution_count": 306,
   "id": "8b10e8d7",
   "metadata": {},
   "outputs": [
    {
     "data": {
      "text/plain": [
       "{1, 2, 3, 4, 5, 6}"
      ]
     },
     "execution_count": 306,
     "metadata": {},
     "output_type": "execute_result"
    }
   ],
   "source": [
    "s"
   ]
  },
  {
   "cell_type": "code",
   "execution_count": 307,
   "id": "a2caa0d6",
   "metadata": {},
   "outputs": [
    {
     "data": {
      "text/plain": [
       "set"
      ]
     },
     "execution_count": 307,
     "metadata": {},
     "output_type": "execute_result"
    }
   ],
   "source": [
    "type(s)"
   ]
  },
  {
   "cell_type": "code",
   "execution_count": 308,
   "id": "ae51a719",
   "metadata": {},
   "outputs": [
    {
     "data": {
      "text/plain": [
       "6"
      ]
     },
     "execution_count": 308,
     "metadata": {},
     "output_type": "execute_result"
    }
   ],
   "source": [
    "len(s)"
   ]
  },
  {
   "cell_type": "code",
   "execution_count": 309,
   "id": "c59959e2",
   "metadata": {},
   "outputs": [
    {
     "data": {
      "text/plain": [
       "21"
      ]
     },
     "execution_count": 309,
     "metadata": {},
     "output_type": "execute_result"
    }
   ],
   "source": [
    "sum(s)"
   ]
  },
  {
   "cell_type": "code",
   "execution_count": 310,
   "id": "18532501",
   "metadata": {},
   "outputs": [
    {
     "data": {
      "text/plain": [
       "6"
      ]
     },
     "execution_count": 310,
     "metadata": {},
     "output_type": "execute_result"
    }
   ],
   "source": [
    "max(s)"
   ]
  },
  {
   "cell_type": "code",
   "execution_count": 311,
   "id": "0b010a87",
   "metadata": {},
   "outputs": [
    {
     "data": {
      "text/plain": [
       "1"
      ]
     },
     "execution_count": 311,
     "metadata": {},
     "output_type": "execute_result"
    }
   ],
   "source": [
    "min(s)"
   ]
  },
  {
   "cell_type": "code",
   "execution_count": 313,
   "id": "70a960d9",
   "metadata": {},
   "outputs": [
    {
     "data": {
      "text/plain": [
       "True"
      ]
     },
     "execution_count": 313,
     "metadata": {},
     "output_type": "execute_result"
    }
   ],
   "source": [
    "1 in s"
   ]
  },
  {
   "cell_type": "code",
   "execution_count": 316,
   "id": "e42e47fb",
   "metadata": {},
   "outputs": [],
   "source": [
    "s = set()"
   ]
  },
  {
   "cell_type": "code",
   "execution_count": 317,
   "id": "1e276dce",
   "metadata": {},
   "outputs": [],
   "source": [
    "s.add(1)"
   ]
  },
  {
   "cell_type": "code",
   "execution_count": 319,
   "id": "d2153ea2",
   "metadata": {},
   "outputs": [],
   "source": [
    "s.add(2)\n",
    "s.add(3)"
   ]
  },
  {
   "cell_type": "code",
   "execution_count": 320,
   "id": "7e77aa9b",
   "metadata": {},
   "outputs": [
    {
     "data": {
      "text/plain": [
       "{1, 2, 3}"
      ]
     },
     "execution_count": 320,
     "metadata": {},
     "output_type": "execute_result"
    }
   ],
   "source": [
    "s"
   ]
  },
  {
   "cell_type": "code",
   "execution_count": 321,
   "id": "fd32a0c9",
   "metadata": {},
   "outputs": [],
   "source": [
    "A = {1,2,3,4}\n",
    "B = {3,4,5,6}"
   ]
  },
  {
   "cell_type": "code",
   "execution_count": 326,
   "id": "201ca3e9",
   "metadata": {},
   "outputs": [
    {
     "data": {
      "text/plain": [
       "{3, 4}"
      ]
     },
     "execution_count": 326,
     "metadata": {},
     "output_type": "execute_result"
    }
   ],
   "source": [
    "A.intersection(B)   #or A & B"
   ]
  },
  {
   "cell_type": "code",
   "execution_count": 327,
   "id": "7e747553",
   "metadata": {},
   "outputs": [
    {
     "data": {
      "text/plain": [
       "{3, 4}"
      ]
     },
     "execution_count": 327,
     "metadata": {},
     "output_type": "execute_result"
    }
   ],
   "source": [
    "A & B"
   ]
  },
  {
   "cell_type": "code",
   "execution_count": 328,
   "id": "4873d9eb",
   "metadata": {},
   "outputs": [
    {
     "data": {
      "text/plain": [
       "{1, 2, 3, 4, 5, 6}"
      ]
     },
     "execution_count": 328,
     "metadata": {},
     "output_type": "execute_result"
    }
   ],
   "source": [
    "A.union(B)"
   ]
  },
  {
   "cell_type": "code",
   "execution_count": 329,
   "id": "5b18dbe7",
   "metadata": {},
   "outputs": [
    {
     "data": {
      "text/plain": [
       "{1, 2}"
      ]
     },
     "execution_count": 329,
     "metadata": {},
     "output_type": "execute_result"
    }
   ],
   "source": [
    "A.difference(B)  #or A - B"
   ]
  },
  {
   "cell_type": "code",
   "execution_count": 335,
   "id": "964635f6",
   "metadata": {},
   "outputs": [
    {
     "data": {
      "text/plain": [
       "{1, 2}"
      ]
     },
     "execution_count": 335,
     "metadata": {},
     "output_type": "execute_result"
    }
   ],
   "source": [
    "A - B"
   ]
  },
  {
   "cell_type": "code",
   "execution_count": 337,
   "id": "91d17d8e",
   "metadata": {},
   "outputs": [
    {
     "data": {
      "text/plain": [
       "{5, 6}"
      ]
     },
     "execution_count": 337,
     "metadata": {},
     "output_type": "execute_result"
    }
   ],
   "source": [
    "B.difference(A)   #or B - A"
   ]
  },
  {
   "cell_type": "code",
   "execution_count": 338,
   "id": "3a6d036f",
   "metadata": {},
   "outputs": [
    {
     "data": {
      "text/plain": [
       "{1, 2, 5, 6}"
      ]
     },
     "execution_count": 338,
     "metadata": {},
     "output_type": "execute_result"
    }
   ],
   "source": [
    "A ^ B     #>> A.union(B) - A.intersection(B)"
   ]
  },
  {
   "cell_type": "code",
   "execution_count": 339,
   "id": "444c53ca",
   "metadata": {},
   "outputs": [
    {
     "data": {
      "text/plain": [
       "{1, 2, 5, 6}"
      ]
     },
     "execution_count": 339,
     "metadata": {},
     "output_type": "execute_result"
    }
   ],
   "source": [
    "A.union(B) - A.intersection(B)"
   ]
  },
  {
   "cell_type": "code",
   "execution_count": 340,
   "id": "4556132e",
   "metadata": {},
   "outputs": [
    {
     "data": {
      "text/plain": [
       "{3, 4, 5, 6}"
      ]
     },
     "execution_count": 340,
     "metadata": {},
     "output_type": "execute_result"
    }
   ],
   "source": [
    "B"
   ]
  },
  {
   "cell_type": "code",
   "execution_count": 341,
   "id": "eea40056",
   "metadata": {},
   "outputs": [],
   "source": [
    "A.update(B)"
   ]
  },
  {
   "cell_type": "code",
   "execution_count": 342,
   "id": "302b3346",
   "metadata": {},
   "outputs": [
    {
     "data": {
      "text/plain": [
       "{1, 2, 3, 4, 5, 6}"
      ]
     },
     "execution_count": 342,
     "metadata": {},
     "output_type": "execute_result"
    }
   ],
   "source": [
    "A"
   ]
  },
  {
   "cell_type": "code",
   "execution_count": 343,
   "id": "26fb1fe2",
   "metadata": {},
   "outputs": [
    {
     "data": {
      "text/plain": [
       "{1, 2, 3, 4, 5, 6}"
      ]
     },
     "execution_count": 343,
     "metadata": {},
     "output_type": "execute_result"
    }
   ],
   "source": [
    "A"
   ]
  },
  {
   "cell_type": "code",
   "execution_count": 344,
   "id": "3e492896",
   "metadata": {},
   "outputs": [
    {
     "data": {
      "text/plain": [
       "{3, 4, 5, 6}"
      ]
     },
     "execution_count": 344,
     "metadata": {},
     "output_type": "execute_result"
    }
   ],
   "source": [
    "B"
   ]
  },
  {
   "cell_type": "code",
   "execution_count": 347,
   "id": "7c855f84",
   "metadata": {},
   "outputs": [],
   "source": [
    "A.intersection_update(B)"
   ]
  },
  {
   "cell_type": "code",
   "execution_count": 348,
   "id": "fdf41173",
   "metadata": {},
   "outputs": [
    {
     "data": {
      "text/plain": [
       "{3, 4, 5, 6}"
      ]
     },
     "execution_count": 348,
     "metadata": {},
     "output_type": "execute_result"
    }
   ],
   "source": [
    "A"
   ]
  },
  {
   "cell_type": "markdown",
   "id": "8f03e36f",
   "metadata": {},
   "source": [
    "## Dict"
   ]
  },
  {
   "cell_type": "code",
   "execution_count": 349,
   "id": "0afc02ed",
   "metadata": {},
   "outputs": [],
   "source": [
    "# d = {\"k\":value , \"k1\": value}   #or d = dict(seq)\n",
    "d = {\"name\":\"amit\" , \"age\":30}"
   ]
  },
  {
   "cell_type": "code",
   "execution_count": 350,
   "id": "f61c5047",
   "metadata": {},
   "outputs": [
    {
     "data": {
      "text/plain": [
       "dict"
      ]
     },
     "execution_count": 350,
     "metadata": {},
     "output_type": "execute_result"
    }
   ],
   "source": [
    "type(d)"
   ]
  },
  {
   "cell_type": "code",
   "execution_count": 351,
   "id": "55699aa7",
   "metadata": {},
   "outputs": [
    {
     "data": {
      "text/plain": [
       "2"
      ]
     },
     "execution_count": 351,
     "metadata": {},
     "output_type": "execute_result"
    }
   ],
   "source": [
    "len(d)"
   ]
  },
  {
   "cell_type": "code",
   "execution_count": 353,
   "id": "7e6d3775",
   "metadata": {},
   "outputs": [
    {
     "data": {
      "text/plain": [
       "'amit'"
      ]
     },
     "execution_count": 353,
     "metadata": {},
     "output_type": "execute_result"
    }
   ],
   "source": [
    "d[\"name\"]"
   ]
  },
  {
   "cell_type": "code",
   "execution_count": 354,
   "id": "636daef7",
   "metadata": {},
   "outputs": [
    {
     "data": {
      "text/plain": [
       "30"
      ]
     },
     "execution_count": 354,
     "metadata": {},
     "output_type": "execute_result"
    }
   ],
   "source": [
    "d[\"age\"]"
   ]
  },
  {
   "cell_type": "code",
   "execution_count": 355,
   "id": "add449b5",
   "metadata": {},
   "outputs": [],
   "source": [
    "d[\"address\"] = \"A123\""
   ]
  },
  {
   "cell_type": "code",
   "execution_count": 356,
   "id": "0867f902",
   "metadata": {},
   "outputs": [
    {
     "data": {
      "text/plain": [
       "{'name': 'amit', 'age': 30, 'address': 'A123'}"
      ]
     },
     "execution_count": 356,
     "metadata": {},
     "output_type": "execute_result"
    }
   ],
   "source": [
    "d"
   ]
  },
  {
   "cell_type": "code",
   "execution_count": 357,
   "id": "5b6378d8",
   "metadata": {},
   "outputs": [],
   "source": [
    "d[\"address\"] = \"Maadi\""
   ]
  },
  {
   "cell_type": "code",
   "execution_count": 358,
   "id": "9d3249f8",
   "metadata": {},
   "outputs": [
    {
     "data": {
      "text/plain": [
       "{'name': 'amit', 'age': 30, 'address': 'Maadi'}"
      ]
     },
     "execution_count": 358,
     "metadata": {},
     "output_type": "execute_result"
    }
   ],
   "source": [
    "d"
   ]
  },
  {
   "cell_type": "code",
   "execution_count": 360,
   "id": "192e8a94",
   "metadata": {},
   "outputs": [
    {
     "data": {
      "text/plain": [
       "'amit'"
      ]
     },
     "execution_count": 360,
     "metadata": {},
     "output_type": "execute_result"
    }
   ],
   "source": [
    "d.get(\"name\")"
   ]
  },
  {
   "cell_type": "code",
   "execution_count": 361,
   "id": "632c7b36",
   "metadata": {},
   "outputs": [
    {
     "data": {
      "text/plain": [
       "dict_keys(['name', 'age', 'address'])"
      ]
     },
     "execution_count": 361,
     "metadata": {},
     "output_type": "execute_result"
    }
   ],
   "source": [
    "d.keys()"
   ]
  },
  {
   "cell_type": "code",
   "execution_count": 363,
   "id": "8e9b004d",
   "metadata": {},
   "outputs": [
    {
     "name": "stdout",
     "output_type": "stream",
     "text": [
      "amit\n",
      "30\n",
      "Maadi\n"
     ]
    }
   ],
   "source": [
    "for i in d.keys():\n",
    "    print(d[i])"
   ]
  },
  {
   "cell_type": "code",
   "execution_count": 364,
   "id": "8d2a8f5b",
   "metadata": {},
   "outputs": [
    {
     "data": {
      "text/plain": [
       "dict_values(['amit', 30, 'Maadi'])"
      ]
     },
     "execution_count": 364,
     "metadata": {},
     "output_type": "execute_result"
    }
   ],
   "source": [
    "d.values()"
   ]
  },
  {
   "cell_type": "code",
   "execution_count": 365,
   "id": "5cded4a4",
   "metadata": {},
   "outputs": [
    {
     "name": "stdout",
     "output_type": "stream",
     "text": [
      "amit\n",
      "30\n",
      "Maadi\n"
     ]
    }
   ],
   "source": [
    "for i in d.values():\n",
    "    print(i)"
   ]
  },
  {
   "cell_type": "code",
   "execution_count": 366,
   "id": "9bba7542",
   "metadata": {},
   "outputs": [
    {
     "data": {
      "text/plain": [
       "dict_items([('name', 'amit'), ('age', 30), ('address', 'Maadi')])"
      ]
     },
     "execution_count": 366,
     "metadata": {},
     "output_type": "execute_result"
    }
   ],
   "source": [
    "d.items()"
   ]
  },
  {
   "cell_type": "code",
   "execution_count": 368,
   "id": "436793b6",
   "metadata": {},
   "outputs": [
    {
     "name": "stdout",
     "output_type": "stream",
     "text": [
      "name is amit\n",
      "age is 30\n",
      "address is Maadi\n"
     ]
    }
   ],
   "source": [
    "for i in d.items():\n",
    "    print(f\"{i[0]} is {i[1]}\")"
   ]
  },
  {
   "cell_type": "code",
   "execution_count": 378,
   "id": "0cda9651",
   "metadata": {},
   "outputs": [],
   "source": [
    "d2 = {'name': [\"ahmed\" , \"mohamed\" , \"sayed\"], 'age': [23, 25 , 29] , 'address': ['Maadi' , \"123\" , \"234\"]}"
   ]
  },
  {
   "cell_type": "code",
   "execution_count": 379,
   "id": "969ad05d",
   "metadata": {},
   "outputs": [
    {
     "data": {
      "text/plain": [
       "{'name': ['ahmed', 'mohamed', 'sayed'],\n",
       " 'age': [23, 25, 29],\n",
       " 'address': ['Maadi', '123', '234']}"
      ]
     },
     "execution_count": 379,
     "metadata": {},
     "output_type": "execute_result"
    }
   ],
   "source": [
    "d2"
   ]
  },
  {
   "cell_type": "code",
   "execution_count": 380,
   "id": "c4e13649",
   "metadata": {},
   "outputs": [],
   "source": [
    "# import pandas as pd"
   ]
  },
  {
   "cell_type": "code",
   "execution_count": 382,
   "id": "a6b130f1",
   "metadata": {},
   "outputs": [],
   "source": [
    "# pd.DataFrame(d2)"
   ]
  },
  {
   "cell_type": "code",
   "execution_count": 401,
   "id": "f9f70c05",
   "metadata": {},
   "outputs": [],
   "source": [
    "d = {\"k1\":[1,2,3,4,5,6,7,{1:1 , 2:[1,2,3,4,5,{\"k2\":[\"amit\" , \"learning\" , [2,3,4,5,6,{\"k3\":[\"  Amit_learning  \"]}]]}]}]}"
   ]
  },
  {
   "cell_type": "code",
   "execution_count": 402,
   "id": "08a36f61",
   "metadata": {},
   "outputs": [],
   "source": [
    "result = d[\"k1\"][-1][2][-1]['k2'][-1][-1][\"k3\"][0].strip().upper()\n",
    "result\n",
    "d[\"k1\"][-1][2][-1]['k2'][-1][-1][\"k3\"][0] = result"
   ]
  },
  {
   "cell_type": "code",
   "execution_count": 403,
   "id": "3cacb5b8",
   "metadata": {},
   "outputs": [
    {
     "data": {
      "text/plain": [
       "{'k1': [1,\n",
       "  2,\n",
       "  3,\n",
       "  4,\n",
       "  5,\n",
       "  6,\n",
       "  7,\n",
       "  {1: 1,\n",
       "   2: [1,\n",
       "    2,\n",
       "    3,\n",
       "    4,\n",
       "    5,\n",
       "    {'k2': ['amit',\n",
       "      'learning',\n",
       "      [2, 3, 4, 5, 6, {'k3': ['AMIT_LEARNING']}]]}]}]}"
      ]
     },
     "execution_count": 403,
     "metadata": {},
     "output_type": "execute_result"
    }
   ],
   "source": [
    "d"
   ]
  },
  {
   "cell_type": "code",
   "execution_count": 406,
   "id": "1c4a8da8",
   "metadata": {},
   "outputs": [],
   "source": [
    "lst = [1,2,3,4,5,6,7,8]"
   ]
  },
  {
   "cell_type": "code",
   "execution_count": 408,
   "id": "8e147466",
   "metadata": {},
   "outputs": [
    {
     "name": "stdout",
     "output_type": "stream",
     "text": [
      "1\n",
      "2\n",
      "3\n",
      "4\n"
     ]
    }
   ],
   "source": [
    "for i in lst:\n",
    "    if i == 5 :  1 != 5 false ,  2 != 5 false , 3 != 5 false , 4 != 5 false , 5 == 5 True \n",
    "        break\n",
    "    else:    1  True ,  2 True , 3 True  , 4 True \n",
    "        print(i)"
   ]
  },
  {
   "cell_type": "code",
   "execution_count": 411,
   "id": "76b3f753",
   "metadata": {},
   "outputs": [
    {
     "name": "stdout",
     "output_type": "stream",
     "text": [
      "1\n",
      "2\n",
      "3\n",
      "4\n",
      "6\n",
      "7\n",
      "8\n"
     ]
    }
   ],
   "source": [
    "for i in lst :\n",
    "    if i == 5 :  #5 == 5 >> True \n",
    "        continue   \n",
    "        print(i)\n",
    "    else:\n",
    "        print(i)"
   ]
  },
  {
   "cell_type": "code",
   "execution_count": 413,
   "id": "e327ae4c",
   "metadata": {},
   "outputs": [
    {
     "name": "stdout",
     "output_type": "stream",
     "text": [
      "1\n",
      "2\n",
      "3\n",
      "4\n",
      "5\n",
      "6\n",
      "7\n",
      "8\n"
     ]
    }
   ],
   "source": [
    "for i in lst :\n",
    "    if i == 5 :  #5 == 5 >> True \n",
    "        pass   \n",
    "        print(i)\n",
    "    else:\n",
    "        print(i)"
   ]
  },
  {
   "cell_type": "code",
   "execution_count": 415,
   "id": "c65deaf5",
   "metadata": {},
   "outputs": [],
   "source": []
  },
  {
   "cell_type": "code",
   "execution_count": null,
   "id": "5cd8cf5d",
   "metadata": {},
   "outputs": [],
   "source": []
  }
 ],
 "metadata": {
  "kernelspec": {
   "display_name": "Python 3 (ipykernel)",
   "language": "python",
   "name": "python3"
  },
  "language_info": {
   "codemirror_mode": {
    "name": "ipython",
    "version": 3
   },
   "file_extension": ".py",
   "mimetype": "text/x-python",
   "name": "python",
   "nbconvert_exporter": "python",
   "pygments_lexer": "ipython3",
   "version": "3.10.9"
  }
 },
 "nbformat": 4,
 "nbformat_minor": 5
}
