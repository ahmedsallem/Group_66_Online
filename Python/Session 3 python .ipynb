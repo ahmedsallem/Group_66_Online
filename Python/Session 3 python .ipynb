{
 "cells": [
  {
   "cell_type": "code",
   "execution_count": 1,
   "id": "801626bf",
   "metadata": {},
   "outputs": [],
   "source": [
    "# Functions \n",
    "# scope \n",
    "# file handling \n",
    "# module "
   ]
  },
  {
   "cell_type": "code",
   "execution_count": 2,
   "id": "4c3e5389",
   "metadata": {},
   "outputs": [
    {
     "data": {
      "text/plain": [
       "15"
      ]
     },
     "execution_count": 2,
     "metadata": {},
     "output_type": "execute_result"
    }
   ],
   "source": [
    "lst = [1,2,3,4,5]\n",
    "sum(lst)"
   ]
  },
  {
   "cell_type": "code",
   "execution_count": 3,
   "id": "e2c5ca28",
   "metadata": {},
   "outputs": [
    {
     "data": {
      "text/plain": [
       "1"
      ]
     },
     "execution_count": 3,
     "metadata": {},
     "output_type": "execute_result"
    }
   ],
   "source": [
    "min(lst)"
   ]
  },
  {
   "cell_type": "code",
   "execution_count": 4,
   "id": "206d6c54",
   "metadata": {},
   "outputs": [
    {
     "data": {
      "text/plain": [
       "5"
      ]
     },
     "execution_count": 4,
     "metadata": {},
     "output_type": "execute_result"
    }
   ],
   "source": [
    "max(lst)"
   ]
  },
  {
   "cell_type": "code",
   "execution_count": 5,
   "id": "1a2a0c44",
   "metadata": {},
   "outputs": [
    {
     "name": "stdout",
     "output_type": "stream",
     "text": [
      "[1, 2, 3, 4, 5]\n"
     ]
    }
   ],
   "source": [
    "print(lst)"
   ]
  },
  {
   "cell_type": "code",
   "execution_count": 18,
   "id": "a28825ad",
   "metadata": {},
   "outputs": [],
   "source": [
    "def say_hello(name):\n",
    "    return f\"hello {name}\"   "
   ]
  },
  {
   "cell_type": "code",
   "execution_count": 19,
   "id": "cbf796e3",
   "metadata": {},
   "outputs": [],
   "source": [
    "result = say_hello(\"amit\")"
   ]
  },
  {
   "cell_type": "code",
   "execution_count": 20,
   "id": "97c82cca",
   "metadata": {},
   "outputs": [
    {
     "data": {
      "text/plain": [
       "'hello amit'"
      ]
     },
     "execution_count": 20,
     "metadata": {},
     "output_type": "execute_result"
    }
   ],
   "source": [
    "result"
   ]
  },
  {
   "cell_type": "code",
   "execution_count": 31,
   "id": "3a70d4dc",
   "metadata": {},
   "outputs": [],
   "source": [
    "def add(*num):\n",
    "    s = 0\n",
    "    for i in num:\n",
    "        s = s +  i \n",
    "    return s "
   ]
  },
  {
   "cell_type": "code",
   "execution_count": 32,
   "id": "d0d56dd9",
   "metadata": {},
   "outputs": [
    {
     "data": {
      "text/plain": [
       "24"
      ]
     },
     "execution_count": 32,
     "metadata": {},
     "output_type": "execute_result"
    }
   ],
   "source": [
    "add(12,12 )"
   ]
  },
  {
   "cell_type": "code",
   "execution_count": 33,
   "id": "121df46f",
   "metadata": {},
   "outputs": [
    {
     "data": {
      "text/plain": [
       "6"
      ]
     },
     "execution_count": 33,
     "metadata": {},
     "output_type": "execute_result"
    }
   ],
   "source": [
    "add(1,2,3)"
   ]
  },
  {
   "cell_type": "code",
   "execution_count": 34,
   "id": "395aa969",
   "metadata": {},
   "outputs": [
    {
     "data": {
      "text/plain": [
       "55"
      ]
     },
     "execution_count": 34,
     "metadata": {},
     "output_type": "execute_result"
    }
   ],
   "source": [
    "add(1,2,3,4,5,6,7,8,9,10)"
   ]
  },
  {
   "cell_type": "code",
   "execution_count": 35,
   "id": "f05244b1",
   "metadata": {},
   "outputs": [],
   "source": [
    "def add(*num):\n",
    "    return sum(num)"
   ]
  },
  {
   "cell_type": "code",
   "execution_count": 37,
   "id": "ae68b31c",
   "metadata": {},
   "outputs": [
    {
     "data": {
      "text/plain": [
       "67"
      ]
     },
     "execution_count": 37,
     "metadata": {},
     "output_type": "execute_result"
    }
   ],
   "source": [
    "add(1,2,3,4,5,6,7,8,9,10 , 12)"
   ]
  },
  {
   "cell_type": "code",
   "execution_count": 39,
   "id": "274a6297",
   "metadata": {},
   "outputs": [
    {
     "name": "stdout",
     "output_type": "stream",
     "text": [
      "enter your num: 12\n"
     ]
    },
    {
     "data": {
      "text/plain": [
       "'12 is Even'"
      ]
     },
     "execution_count": 39,
     "metadata": {},
     "output_type": "execute_result"
    }
   ],
   "source": [
    "def check(n):\n",
    "    if n % 2 == 0:\n",
    "        return f\"{n} is Even\"\n",
    "    else:\n",
    "        return f\"{n} is Odd\"\n",
    "\n",
    "\n",
    "x = int(input(\"enter your num: \"))\n",
    "check(x)"
   ]
  },
  {
   "cell_type": "code",
   "execution_count": 40,
   "id": "304fa1de",
   "metadata": {},
   "outputs": [
    {
     "name": "stdout",
     "output_type": "stream",
     "text": [
      "Enter a variable name: @name @#$\n"
     ]
    }
   ],
   "source": [
    "illegal_chars = \"0123456789!@#$%^&*()-+=[]{}|\\\\;:'\\\",.<>/?`~ \"\n",
    "def check_var(var_name):\n",
    "    clean_txt = ''\n",
    "    for i in var_name:\n",
    "        if i in illegal_chars:\n",
    "            continue\n",
    "        else:\n",
    "            clean_txt += i \n",
    "    return clean_txt\n",
    "   \n",
    "userinput = input(\"Enter a variable name: \")"
   ]
  },
  {
   "cell_type": "code",
   "execution_count": 41,
   "id": "fcb9a20e",
   "metadata": {},
   "outputs": [
    {
     "data": {
      "text/plain": [
       "'name'"
      ]
     },
     "execution_count": 41,
     "metadata": {},
     "output_type": "execute_result"
    }
   ],
   "source": [
    "check_var(userinput)"
   ]
  },
  {
   "cell_type": "code",
   "execution_count": 42,
   "id": "3edb44ef",
   "metadata": {},
   "outputs": [],
   "source": [
    "fun = lambda x : x * 2  "
   ]
  },
  {
   "cell_type": "code",
   "execution_count": 43,
   "id": "fbcf1cc8",
   "metadata": {},
   "outputs": [
    {
     "data": {
      "text/plain": [
       "20"
      ]
     },
     "execution_count": 43,
     "metadata": {},
     "output_type": "execute_result"
    }
   ],
   "source": [
    "fun(10)"
   ]
  },
  {
   "cell_type": "code",
   "execution_count": 44,
   "id": "0e3c1cf1",
   "metadata": {},
   "outputs": [],
   "source": [
    "def fun(n):\n",
    "    return n * 2 "
   ]
  },
  {
   "cell_type": "code",
   "execution_count": 45,
   "id": "5df1f3b0",
   "metadata": {},
   "outputs": [
    {
     "data": {
      "text/plain": [
       "20"
      ]
     },
     "execution_count": 45,
     "metadata": {},
     "output_type": "execute_result"
    }
   ],
   "source": [
    "fun(10)"
   ]
  },
  {
   "cell_type": "code",
   "execution_count": 46,
   "id": "8bfb8e78",
   "metadata": {},
   "outputs": [
    {
     "data": {
      "text/plain": [
       "[4, 6, 8, 10, 12, 14, 10, 8, 6, 4]"
      ]
     },
     "execution_count": 46,
     "metadata": {},
     "output_type": "execute_result"
    }
   ],
   "source": [
    "# list(map(fun , seq))\n",
    "lst = [2,3,4,5,6,7,5,4,3,2]\n",
    "list(map(lambda x : x * 2  , lst))"
   ]
  },
  {
   "cell_type": "code",
   "execution_count": 47,
   "id": "41be8e63",
   "metadata": {},
   "outputs": [
    {
     "data": {
      "text/plain": [
       "[2, 4, 6, 4, 2]"
      ]
     },
     "execution_count": 47,
     "metadata": {},
     "output_type": "execute_result"
    }
   ],
   "source": [
    "# list(filter(fun , seq))\n",
    "def check(num):\n",
    "    if num % 2 == 0 :\n",
    "        return True \n",
    "    else:\n",
    "        return False\n",
    "list(filter(check , lst))"
   ]
  },
  {
   "cell_type": "code",
   "execution_count": 49,
   "id": "3e6a1236",
   "metadata": {},
   "outputs": [
    {
     "data": {
      "text/plain": [
       "[2, 4, 6, 4, 2]"
      ]
     },
     "execution_count": 49,
     "metadata": {},
     "output_type": "execute_result"
    }
   ],
   "source": [
    "list(filter(lambda x : x % 2 == 0  , lst))"
   ]
  },
  {
   "cell_type": "code",
   "execution_count": null,
   "id": "e1a555fe",
   "metadata": {},
   "outputs": [],
   "source": []
  },
  {
   "cell_type": "code",
   "execution_count": null,
   "id": "655dfc5d",
   "metadata": {},
   "outputs": [],
   "source": []
  },
  {
   "cell_type": "code",
   "execution_count": 48,
   "id": "f0fc151a",
   "metadata": {},
   "outputs": [
    {
     "data": {
      "text/plain": [
       "[3, 5, 7, 5, 3]"
      ]
     },
     "execution_count": 48,
     "metadata": {},
     "output_type": "execute_result"
    }
   ],
   "source": [
    "# list(filter(fun , seq))\n",
    "def check(num):\n",
    "    if num % 2 != 0 :\n",
    "        return True \n",
    "    else:\n",
    "        return False\n",
    "list(filter(check , lst))"
   ]
  },
  {
   "cell_type": "code",
   "execution_count": 50,
   "id": "a4044995",
   "metadata": {},
   "outputs": [
    {
     "data": {
      "text/plain": [
       "[3, 5, 7, 5, 3]"
      ]
     },
     "execution_count": 50,
     "metadata": {},
     "output_type": "execute_result"
    }
   ],
   "source": [
    "list(filter(lambda x : x % 2 != 0  , lst))"
   ]
  },
  {
   "cell_type": "code",
   "execution_count": 51,
   "id": "9d0e8702",
   "metadata": {},
   "outputs": [
    {
     "data": {
      "text/plain": [
       "[2, 3, 4, 5, 6, 7, 5, 4, 3, 2]"
      ]
     },
     "execution_count": 51,
     "metadata": {},
     "output_type": "execute_result"
    }
   ],
   "source": [
    "lst"
   ]
  },
  {
   "cell_type": "code",
   "execution_count": 52,
   "id": "e4028b79",
   "metadata": {},
   "outputs": [
    {
     "data": {
      "text/plain": [
       "['2 is Even',\n",
       " '3 is Odd',\n",
       " '4 is Even',\n",
       " '5 is Odd',\n",
       " '6 is Even',\n",
       " '7 is Odd',\n",
       " '5 is Odd',\n",
       " '4 is Even',\n",
       " '3 is Odd',\n",
       " '2 is Even']"
      ]
     },
     "execution_count": 52,
     "metadata": {},
     "output_type": "execute_result"
    }
   ],
   "source": [
    "def check(num):\n",
    "    if num % 2 == 0 :\n",
    "        return f\"{num} is Even\"\n",
    "    else:\n",
    "        return f\"{num} is Odd\"\n",
    "    \n",
    "list(map(check , lst))"
   ]
  },
  {
   "cell_type": "code",
   "execution_count": 54,
   "id": "fb043d76",
   "metadata": {},
   "outputs": [
    {
     "data": {
      "text/plain": [
       "['2 is Even',\n",
       " '3 is Odd',\n",
       " '4 is Even',\n",
       " '5 is Odd',\n",
       " '6 is Even',\n",
       " '7 is Odd',\n",
       " '5 is Odd',\n",
       " '4 is Even',\n",
       " '3 is Odd',\n",
       " '2 is Even']"
      ]
     },
     "execution_count": 54,
     "metadata": {},
     "output_type": "execute_result"
    }
   ],
   "source": [
    "list(map(lambda x: f\"{x} is Even\" if x % 2 ==0 else f\"{x} is Odd\"   , lst) )"
   ]
  },
  {
   "cell_type": "code",
   "execution_count": 55,
   "id": "ee0be889",
   "metadata": {},
   "outputs": [],
   "source": [
    "# !5 = 5 * 4 * 3 * 2 * 1\n",
    "def f(n):\n",
    "    if n >=1 :\n",
    "        if n == 1 :\n",
    "            return 1 \n",
    "        else:\n",
    "            return n * f(n - 1)    # 5 * (4 * (3 * (2 *(1))))"
   ]
  },
  {
   "cell_type": "code",
   "execution_count": 56,
   "id": "b0f8e05c",
   "metadata": {},
   "outputs": [
    {
     "data": {
      "text/plain": [
       "120"
      ]
     },
     "execution_count": 56,
     "metadata": {},
     "output_type": "execute_result"
    }
   ],
   "source": [
    "f(5)"
   ]
  },
  {
   "cell_type": "code",
   "execution_count": 57,
   "id": "ce2ed06d",
   "metadata": {},
   "outputs": [
    {
     "data": {
      "text/plain": [
       "1"
      ]
     },
     "execution_count": 57,
     "metadata": {},
     "output_type": "execute_result"
    }
   ],
   "source": [
    "f(1)"
   ]
  },
  {
   "cell_type": "code",
   "execution_count": 58,
   "id": "e70ae230",
   "metadata": {},
   "outputs": [],
   "source": [
    "f(-10)"
   ]
  },
  {
   "cell_type": "code",
   "execution_count": 59,
   "id": "91126994",
   "metadata": {},
   "outputs": [],
   "source": [
    "# print()\n",
    "# len()\n",
    "# sum()\n",
    "# max()\n",
    "# min()\n",
    "# ..\n",
    "# ...\n",
    "# .\n",
    "# def fun_name():\n",
    "#     .\n",
    "#     ....\n",
    "#     ..\n",
    "#     .\n",
    "#     .\n",
    "#     .\n",
    "#     return sdfghjds\n",
    "# lambda x , y : y * x \n",
    "# map(fun , seq)\n",
    "# filter(fun , seq)\n"
   ]
  },
  {
   "cell_type": "code",
   "execution_count": 83,
   "id": "f0a1808f",
   "metadata": {
    "scrolled": true
   },
   "outputs": [
    {
     "name": "stdout",
     "output_type": "stream",
     "text": [
      "local\n",
      "Global\n"
     ]
    }
   ],
   "source": [
    "x = \"Global\"\n",
    "def outer():\n",
    "    global y\n",
    "    y  = \"local\"\n",
    "    print(y)\n",
    "    m = \"amit\"\n",
    "outer()\n",
    "print(x)"
   ]
  },
  {
   "cell_type": "code",
   "execution_count": 85,
   "id": "8fb19824",
   "metadata": {},
   "outputs": [
    {
     "data": {
      "text/plain": [
       "'local'"
      ]
     },
     "execution_count": 85,
     "metadata": {},
     "output_type": "execute_result"
    }
   ],
   "source": [
    "y"
   ]
  },
  {
   "cell_type": "code",
   "execution_count": 86,
   "id": "10b830f6",
   "metadata": {},
   "outputs": [
    {
     "ename": "NameError",
     "evalue": "name 'm' is not defined",
     "output_type": "error",
     "traceback": [
      "\u001b[1;31m---------------------------------------------------------------------------\u001b[0m",
      "\u001b[1;31mNameError\u001b[0m                                 Traceback (most recent call last)",
      "Cell \u001b[1;32mIn[86], line 1\u001b[0m\n\u001b[1;32m----> 1\u001b[0m \u001b[43mm\u001b[49m\n",
      "\u001b[1;31mNameError\u001b[0m: name 'm' is not defined"
     ]
    }
   ],
   "source": [
    "m"
   ]
  },
  {
   "cell_type": "code",
   "execution_count": 61,
   "id": "2dbf4cb2",
   "metadata": {},
   "outputs": [
    {
     "name": "stdout",
     "output_type": "stream",
     "text": [
      "local\n",
      "local\n"
     ]
    }
   ],
   "source": [
    "x = \"Global\"\n",
    "def outer():\n",
    "    global x \n",
    "    x = \"local\"\n",
    "    print(x)\n",
    "outer()\n",
    "print(x)"
   ]
  },
  {
   "cell_type": "code",
   "execution_count": 95,
   "id": "9817261d",
   "metadata": {},
   "outputs": [
    {
     "name": "stdout",
     "output_type": "stream",
     "text": [
      "inner\n",
      "local\n",
      "Global\n"
     ]
    }
   ],
   "source": [
    "x = \"Global\"\n",
    "def outer():\n",
    "    x = \"local\"\n",
    "    def inner():\n",
    "        x = \"inner\"\n",
    "        print(x)\n",
    "        \n",
    "    inner()\n",
    "    print(x)\n",
    "outer()\n",
    "print(x)"
   ]
  },
  {
   "cell_type": "code",
   "execution_count": 63,
   "id": "65194f8c",
   "metadata": {},
   "outputs": [
    {
     "name": "stdout",
     "output_type": "stream",
     "text": [
      "inner\n",
      "inner\n",
      "Global\n"
     ]
    }
   ],
   "source": [
    "x = \"Global\"\n",
    "def outer():\n",
    "    x = \"local\"\n",
    "    def inner():\n",
    "        nonlocal x \n",
    "        x = \"inner\"\n",
    "        print(x)\n",
    "    inner()\n",
    "    print(x)\n",
    "outer()\n",
    "print(x)"
   ]
  },
  {
   "cell_type": "code",
   "execution_count": 73,
   "id": "d1f43782",
   "metadata": {},
   "outputs": [
    {
     "name": "stdout",
     "output_type": "stream",
     "text": [
      "inner\n",
      "local\n",
      "inner\n"
     ]
    }
   ],
   "source": [
    "x = \"Global\"\n",
    "def outer():\n",
    "    x = \"local\"\n",
    "    def inner():\n",
    "        global x \n",
    "        x = \"inner\"\n",
    "        print(x)\n",
    "    inner()\n",
    "    print(x)\n",
    "outer()\n",
    "print(x)"
   ]
  },
  {
   "cell_type": "code",
   "execution_count": 71,
   "id": "127bd9dc",
   "metadata": {},
   "outputs": [
    {
     "name": "stdout",
     "output_type": "stream",
     "text": [
      "inner\n"
     ]
    }
   ],
   "source": [
    "print(x)"
   ]
  },
  {
   "cell_type": "code",
   "execution_count": 109,
   "id": "e51fed5d",
   "metadata": {},
   "outputs": [
    {
     "data": {
      "text/plain": [
       "0.8137030498186418"
      ]
     },
     "execution_count": 109,
     "metadata": {},
     "output_type": "execute_result"
    }
   ],
   "source": [
    "# import modulename\n",
    "# import modulename as md \n",
    "# from modulename import add , mul\n",
    "# from modulename import * \n",
    "import random as rm\n",
    "rm.random()"
   ]
  },
  {
   "cell_type": "code",
   "execution_count": 110,
   "id": "1477852b",
   "metadata": {},
   "outputs": [],
   "source": [
    "# from random import * "
   ]
  },
  {
   "cell_type": "code",
   "execution_count": 111,
   "id": "35ab8204",
   "metadata": {},
   "outputs": [],
   "source": [
    "# random()"
   ]
  },
  {
   "cell_type": "code",
   "execution_count": 119,
   "id": "0f05e974",
   "metadata": {},
   "outputs": [
    {
     "data": {
      "text/plain": [
       "0"
      ]
     },
     "execution_count": 119,
     "metadata": {},
     "output_type": "execute_result"
    }
   ],
   "source": [
    "rm.randint(0 , 10)  # return >> start : end "
   ]
  },
  {
   "cell_type": "code",
   "execution_count": 122,
   "id": "9a372d0a",
   "metadata": {},
   "outputs": [
    {
     "data": {
      "text/plain": [
       "4"
      ]
     },
     "execution_count": 122,
     "metadata": {},
     "output_type": "execute_result"
    }
   ],
   "source": [
    "rm.randrange(0 , 10 ) # return >> start : end-1 "
   ]
  },
  {
   "cell_type": "code",
   "execution_count": 124,
   "id": "3e45782e",
   "metadata": {},
   "outputs": [],
   "source": [
    "# dir(rm)"
   ]
  },
  {
   "cell_type": "code",
   "execution_count": 125,
   "id": "1490a76e",
   "metadata": {},
   "outputs": [],
   "source": [
    "import module as md "
   ]
  },
  {
   "cell_type": "code",
   "execution_count": 126,
   "id": "0ab7cfb2",
   "metadata": {},
   "outputs": [
    {
     "data": {
      "text/plain": [
       "['__builtins__',\n",
       " '__cached__',\n",
       " '__doc__',\n",
       " '__file__',\n",
       " '__loader__',\n",
       " '__name__',\n",
       " '__package__',\n",
       " '__spec__',\n",
       " 'add',\n",
       " 'even',\n",
       " 'mul',\n",
       " 'odd']"
      ]
     },
     "execution_count": 126,
     "metadata": {},
     "output_type": "execute_result"
    }
   ],
   "source": [
    "dir(md)"
   ]
  },
  {
   "cell_type": "code",
   "execution_count": 127,
   "id": "f744895f",
   "metadata": {},
   "outputs": [
    {
     "data": {
      "text/plain": [
       "[2, 4, 4, 2]"
      ]
     },
     "execution_count": 127,
     "metadata": {},
     "output_type": "execute_result"
    }
   ],
   "source": [
    "md.even([1,2,3,4,5,4,3,2])"
   ]
  },
  {
   "cell_type": "code",
   "execution_count": 128,
   "id": "07241bfd",
   "metadata": {},
   "outputs": [
    {
     "data": {
      "text/plain": [
       "[1, 3, 5, 3]"
      ]
     },
     "execution_count": 128,
     "metadata": {},
     "output_type": "execute_result"
    }
   ],
   "source": [
    "md.odd([1,2,3,4,5,4,3,2])"
   ]
  },
  {
   "cell_type": "code",
   "execution_count": 129,
   "id": "c467dd84",
   "metadata": {},
   "outputs": [
    {
     "data": {
      "text/plain": [
       "15"
      ]
     },
     "execution_count": 129,
     "metadata": {},
     "output_type": "execute_result"
    }
   ],
   "source": [
    "md.add(1,2,3,4,5)"
   ]
  },
  {
   "cell_type": "code",
   "execution_count": 130,
   "id": "532ae894",
   "metadata": {},
   "outputs": [
    {
     "data": {
      "text/plain": [
       "24"
      ]
     },
     "execution_count": 130,
     "metadata": {},
     "output_type": "execute_result"
    }
   ],
   "source": [
    "md.mul(2,3,4)"
   ]
  },
  {
   "cell_type": "code",
   "execution_count": 131,
   "id": "e50ee024",
   "metadata": {},
   "outputs": [],
   "source": [
    "import numpy as np "
   ]
  },
  {
   "cell_type": "code",
   "execution_count": 133,
   "id": "4c6c43f9",
   "metadata": {},
   "outputs": [],
   "source": [
    "# dir(np)"
   ]
  },
  {
   "cell_type": "code",
   "execution_count": 146,
   "id": "6b578701",
   "metadata": {},
   "outputs": [
    {
     "data": {
      "text/plain": [
       "'alal'"
      ]
     },
     "execution_count": 146,
     "metadata": {},
     "output_type": "execute_result"
    }
   ],
   "source": [
    "# lal   >> True     lal\n",
    "# lala  >> False    alal\n",
    "x = \"lala\"\n",
    "x[ : : -1]"
   ]
  },
  {
   "cell_type": "code",
   "execution_count": 147,
   "id": "c427592d",
   "metadata": {},
   "outputs": [],
   "source": [
    "def fun():\n",
    "    pass\n",
    "    "
   ]
  },
  {
   "cell_type": "code",
   "execution_count": 150,
   "id": "8fd23af1",
   "metadata": {},
   "outputs": [],
   "source": [
    "for i in lst :\n",
    "    pass"
   ]
  },
  {
   "cell_type": "code",
   "execution_count": 152,
   "id": "8d57de64",
   "metadata": {},
   "outputs": [],
   "source": [
    "if 5 == 5 :\n",
    "    pass   "
   ]
  },
  {
   "cell_type": "code",
   "execution_count": 153,
   "id": "2ba466b2",
   "metadata": {},
   "outputs": [],
   "source": [
    "class Cars:\n",
    "    pass"
   ]
  },
  {
   "cell_type": "code",
   "execution_count": 154,
   "id": "655dfa74",
   "metadata": {},
   "outputs": [],
   "source": [
    "def check_str(word):\n",
    "    if word == word[: : -1]:\n",
    "        return True \n",
    "    else:\n",
    "        return False "
   ]
  },
  {
   "cell_type": "code",
   "execution_count": 157,
   "id": "b957aaab",
   "metadata": {},
   "outputs": [
    {
     "name": "stdout",
     "output_type": "stream",
     "text": [
      "Enter your word: laal\n"
     ]
    },
    {
     "data": {
      "text/plain": [
       "True"
      ]
     },
     "execution_count": 157,
     "metadata": {},
     "output_type": "execute_result"
    }
   ],
   "source": [
    "check_str(input(\"Enter your word: \"))"
   ]
  },
  {
   "cell_type": "code",
   "execution_count": 158,
   "id": "a8c5158a",
   "metadata": {},
   "outputs": [],
   "source": [
    "lst = [\"amit\" , \"learning\" , \"deep\" , \"machine\" , \"mohamed\" ]\n",
    "def check_len(l):\n",
    "    for i in l:\n",
    "        print(f\"The length of {i} is {len(i)} \")"
   ]
  },
  {
   "cell_type": "code",
   "execution_count": 159,
   "id": "aade142c",
   "metadata": {},
   "outputs": [
    {
     "name": "stdout",
     "output_type": "stream",
     "text": [
      "The length of amit is 4 \n",
      "The length of learning is 8 \n",
      "The length of deep is 4 \n",
      "The length of machine is 7 \n",
      "The length of mohamed is 7 \n"
     ]
    }
   ],
   "source": [
    "check_len(lst)"
   ]
  },
  {
   "cell_type": "code",
   "execution_count": 160,
   "id": "44ff08d5",
   "metadata": {},
   "outputs": [],
   "source": [
    "def max_len(l):\n",
    "    max_l = -1\n",
    "    word = \"\"\n",
    "    for i in l:\n",
    "        if len(i) >= max_l:  # len(amit) 4 > -1 >> max_l = 4 , word = \"amit\" /// i= learning 8 > 4 >>\n",
    "            max_l = len(i)            # max_l = 8 , word = learning \n",
    "            word = i\n",
    "    return f\"max length is {max_l} \\nword is {word}\""
   ]
  },
  {
   "cell_type": "code",
   "execution_count": 162,
   "id": "29be2cf7",
   "metadata": {},
   "outputs": [
    {
     "name": "stdout",
     "output_type": "stream",
     "text": [
      "max length is 8 \n",
      "word is learning\n"
     ]
    }
   ],
   "source": [
    "print(max_len(lst))"
   ]
  },
  {
   "cell_type": "code",
   "execution_count": 165,
   "id": "240fb276",
   "metadata": {},
   "outputs": [
    {
     "data": {
      "text/plain": [
       "'mohamed'"
      ]
     },
     "execution_count": 165,
     "metadata": {},
     "output_type": "execute_result"
    }
   ],
   "source": [
    "max(lst)"
   ]
  },
  {
   "cell_type": "code",
   "execution_count": 166,
   "id": "4c2958b8",
   "metadata": {},
   "outputs": [
    {
     "data": {
      "text/plain": [
       "8"
      ]
     },
     "execution_count": 166,
     "metadata": {},
     "output_type": "execute_result"
    }
   ],
   "source": [
    "# max( len(i)  for i in lst)"
   ]
  },
  {
   "cell_type": "code",
   "execution_count": 169,
   "id": "99ef556c",
   "metadata": {},
   "outputs": [
    {
     "data": {
      "text/plain": [
       "[(4, 'amit'), (8, 'learning'), (4, 'deep'), (7, 'machine'), (7, 'mohamed')]"
      ]
     },
     "execution_count": 169,
     "metadata": {},
     "output_type": "execute_result"
    }
   ],
   "source": [
    "[(len(i) , i ) for i in lst]"
   ]
  },
  {
   "cell_type": "code",
   "execution_count": 176,
   "id": "2b3b284e",
   "metadata": {},
   "outputs": [
    {
     "data": {
      "text/plain": [
       "[(10, 20, 30, 100), (20, 100), (40, 50, 100)]"
      ]
     },
     "execution_count": 176,
     "metadata": {},
     "output_type": "execute_result"
    }
   ],
   "source": [
    "lst = [(10,20,30,12) , (20,30) , (40,50,60)]\n",
    "# [(10,20,100) , (20,30,100) , (40,50,100)]\n",
    "[i[:-1]+ (100,) for i in lst]"
   ]
  },
  {
   "cell_type": "code",
   "execution_count": 174,
   "id": "b0be08a3",
   "metadata": {},
   "outputs": [
    {
     "data": {
      "text/plain": [
       "(10, 20, 30)"
      ]
     },
     "execution_count": 174,
     "metadata": {},
     "output_type": "execute_result"
    }
   ],
   "source": [
    "t = (10,20,30,12)\n",
    "t[0:-1]"
   ]
  },
  {
   "cell_type": "code",
   "execution_count": 177,
   "id": "1551edf2",
   "metadata": {},
   "outputs": [],
   "source": [
    "lst = [1,2,3,4,5]"
   ]
  },
  {
   "cell_type": "code",
   "execution_count": 178,
   "id": "8ed4cebc",
   "metadata": {},
   "outputs": [
    {
     "data": {
      "text/plain": [
       "[1, 2, 3, 4, 5]"
      ]
     },
     "execution_count": 178,
     "metadata": {},
     "output_type": "execute_result"
    }
   ],
   "source": [
    "lst"
   ]
  },
  {
   "cell_type": "code",
   "execution_count": 179,
   "id": "e7b8ad78",
   "metadata": {},
   "outputs": [],
   "source": [
    "lst.remove(5)"
   ]
  },
  {
   "cell_type": "code",
   "execution_count": 180,
   "id": "4343b825",
   "metadata": {},
   "outputs": [
    {
     "data": {
      "text/plain": [
       "[1, 2, 3, 4]"
      ]
     },
     "execution_count": 180,
     "metadata": {},
     "output_type": "execute_result"
    }
   ],
   "source": [
    "lst"
   ]
  },
  {
   "cell_type": "code",
   "execution_count": 182,
   "id": "49425208",
   "metadata": {},
   "outputs": [
    {
     "ename": "ValueError",
     "evalue": "list.remove(x): x not in list",
     "output_type": "error",
     "traceback": [
      "\u001b[1;31m---------------------------------------------------------------------------\u001b[0m",
      "\u001b[1;31mValueError\u001b[0m                                Traceback (most recent call last)",
      "Cell \u001b[1;32mIn[182], line 1\u001b[0m\n\u001b[1;32m----> 1\u001b[0m \u001b[43mlst\u001b[49m\u001b[38;5;241;43m.\u001b[39;49m\u001b[43mremove\u001b[49m\u001b[43m(\u001b[49m\u001b[38;5;241;43m7\u001b[39;49m\u001b[43m)\u001b[49m\n\u001b[0;32m      2\u001b[0m \u001b[38;5;28mprint\u001b[39m(\u001b[38;5;124m\"\u001b[39m\u001b[38;5;124mhamada\u001b[39m\u001b[38;5;124m\"\u001b[39m)\n",
      "\u001b[1;31mValueError\u001b[0m: list.remove(x): x not in list"
     ]
    }
   ],
   "source": [
    "lst.remove(7)\n",
    "print(\"hamada\")"
   ]
  },
  {
   "cell_type": "code",
   "execution_count": 192,
   "id": "22fc73b6",
   "metadata": {},
   "outputs": [
    {
     "name": "stdout",
     "output_type": "stream",
     "text": [
      "x not in list\n",
      "try and except Done\n"
     ]
    }
   ],
   "source": [
    "try:\n",
    "    lst.remove(2)\n",
    "except:\n",
    "    print(\"x not in list\")\n",
    "else:\n",
    "    print(\"Good\")\n",
    "finally:\n",
    "    print(\"try and except Done\")"
   ]
  },
  {
   "cell_type": "code",
   "execution_count": 194,
   "id": "7bbc9f77",
   "metadata": {},
   "outputs": [],
   "source": [
    "# function \n",
    "# scope global nonlocal\n",
    "# lambda \n",
    "# fiter() \n",
    "# map() \n",
    "# try:\n",
    "# except:"
   ]
  },
  {
   "cell_type": "code",
   "execution_count": 195,
   "id": "758c7003",
   "metadata": {},
   "outputs": [],
   "source": [
    "fun = lambda x ,y , z : x * y * z  "
   ]
  },
  {
   "cell_type": "code",
   "execution_count": 196,
   "id": "7a8abebc",
   "metadata": {},
   "outputs": [
    {
     "data": {
      "text/plain": [
       "6"
      ]
     },
     "execution_count": 196,
     "metadata": {},
     "output_type": "execute_result"
    }
   ],
   "source": [
    "fun(1,2,3)"
   ]
  },
  {
   "cell_type": "code",
   "execution_count": 200,
   "id": "f2bcd0c2",
   "metadata": {},
   "outputs": [
    {
     "data": {
      "text/plain": [
       "[0, 0, 2, 0, 4, 6]"
      ]
     },
     "execution_count": 200,
     "metadata": {},
     "output_type": "execute_result"
    }
   ],
   "source": [
    "list(map(lambda x: x if x % 2 == 0 else 0 , [1,1,2,3,4,6]))"
   ]
  },
  {
   "cell_type": "code",
   "execution_count": 201,
   "id": "7a8e83d7",
   "metadata": {},
   "outputs": [
    {
     "data": {
      "text/plain": [
       "[2, 4, 6]"
      ]
     },
     "execution_count": 201,
     "metadata": {},
     "output_type": "execute_result"
    }
   ],
   "source": [
    "list(filter( lambda x : x % 2 ==0  , [1,1,2,3,4,6]))"
   ]
  },
  {
   "cell_type": "code",
   "execution_count": 202,
   "id": "8e64b601",
   "metadata": {},
   "outputs": [],
   "source": [
    "def check(n):\n",
    "    if n % 2 ==0:\n",
    "        return True \n",
    "    else:\n",
    "        False"
   ]
  },
  {
   "cell_type": "code",
   "execution_count": 203,
   "id": "704baed7",
   "metadata": {},
   "outputs": [
    {
     "data": {
      "text/plain": [
       "[2, 4, 6]"
      ]
     },
     "execution_count": 203,
     "metadata": {},
     "output_type": "execute_result"
    }
   ],
   "source": [
    "list(filter( check , [1,1,2,3,4,6]))"
   ]
  },
  {
   "cell_type": "code",
   "execution_count": null,
   "id": "872d9824",
   "metadata": {},
   "outputs": [],
   "source": []
  }
 ],
 "metadata": {
  "kernelspec": {
   "display_name": "Python 3 (ipykernel)",
   "language": "python",
   "name": "python3"
  },
  "language_info": {
   "codemirror_mode": {
    "name": "ipython",
    "version": 3
   },
   "file_extension": ".py",
   "mimetype": "text/x-python",
   "name": "python",
   "nbconvert_exporter": "python",
   "pygments_lexer": "ipython3",
   "version": "3.10.9"
  }
 },
 "nbformat": 4,
 "nbformat_minor": 5
}
