{
 "cells": [
  {
   "cell_type": "code",
   "execution_count": 1,
   "id": "b0952f11",
   "metadata": {},
   "outputs": [],
   "source": [
    "# function \n",
    "# scope \n",
    "# lambda \n",
    "# filter(fun , seq)\n",
    "# map(fun , seq)\n",
    "# try:\n",
    "#     print(x)\n",
    "# except:\n",
    "#     print(\"\")\n",
    "# else:\n",
    "    \n",
    "# finally:\n",
    "    "
   ]
  },
  {
   "cell_type": "code",
   "execution_count": 2,
   "id": "481407f4",
   "metadata": {},
   "outputs": [],
   "source": [
    "# file handling .txt\n",
    "\n",
    "# OOP "
   ]
  },
  {
   "cell_type": "code",
   "execution_count": 3,
   "id": "01dcd10a",
   "metadata": {},
   "outputs": [
    {
     "ename": "NameError",
     "evalue": "name 'x' is not defined",
     "output_type": "error",
     "traceback": [
      "\u001b[1;31m---------------------------------------------------------------------------\u001b[0m",
      "\u001b[1;31mNameError\u001b[0m                                 Traceback (most recent call last)",
      "Cell \u001b[1;32mIn[3], line 1\u001b[0m\n\u001b[1;32m----> 1\u001b[0m \u001b[38;5;28mprint\u001b[39m(\u001b[43mx\u001b[49m)\n",
      "\u001b[1;31mNameError\u001b[0m: name 'x' is not defined"
     ]
    }
   ],
   "source": [
    "print(x)"
   ]
  },
  {
   "cell_type": "code",
   "execution_count": 4,
   "id": "e3182410",
   "metadata": {},
   "outputs": [
    {
     "ename": "ZeroDivisionError",
     "evalue": "division by zero",
     "output_type": "error",
     "traceback": [
      "\u001b[1;31m---------------------------------------------------------------------------\u001b[0m",
      "\u001b[1;31mZeroDivisionError\u001b[0m                         Traceback (most recent call last)",
      "Cell \u001b[1;32mIn[4], line 1\u001b[0m\n\u001b[1;32m----> 1\u001b[0m \u001b[38;5;28mprint\u001b[39m(\u001b[38;5;241;43m10\u001b[39;49m\u001b[38;5;241;43m/\u001b[39;49m\u001b[38;5;241;43m0\u001b[39;49m)\n",
      "\u001b[1;31mZeroDivisionError\u001b[0m: division by zero"
     ]
    }
   ],
   "source": [
    "print(10/0)"
   ]
  },
  {
   "cell_type": "code",
   "execution_count": 6,
   "id": "acf780c3",
   "metadata": {},
   "outputs": [
    {
     "ename": "NameError",
     "evalue": "name 'x' is not defined",
     "output_type": "error",
     "traceback": [
      "\u001b[1;31m---------------------------------------------------------------------------\u001b[0m",
      "\u001b[1;31mNameError\u001b[0m                                 Traceback (most recent call last)",
      "Cell \u001b[1;32mIn[6], line 1\u001b[0m\n\u001b[1;32m----> 1\u001b[0m \u001b[38;5;28mprint\u001b[39m(\u001b[38;5;241m10\u001b[39m\u001b[38;5;241m/\u001b[39m\u001b[43mx\u001b[49m)\n",
      "\u001b[1;31mNameError\u001b[0m: name 'x' is not defined"
     ]
    }
   ],
   "source": [
    "print(10/x)"
   ]
  },
  {
   "cell_type": "code",
   "execution_count": 7,
   "id": "ba906769",
   "metadata": {},
   "outputs": [
    {
     "ename": "ValueError",
     "evalue": "list.remove(x): x not in list",
     "output_type": "error",
     "traceback": [
      "\u001b[1;31m---------------------------------------------------------------------------\u001b[0m",
      "\u001b[1;31mValueError\u001b[0m                                Traceback (most recent call last)",
      "Cell \u001b[1;32mIn[7], line 2\u001b[0m\n\u001b[0;32m      1\u001b[0m lst \u001b[38;5;241m=\u001b[39m [\u001b[38;5;241m1\u001b[39m,\u001b[38;5;241m2\u001b[39m,\u001b[38;5;241m3\u001b[39m,\u001b[38;5;241m4\u001b[39m]\n\u001b[1;32m----> 2\u001b[0m \u001b[43mlst\u001b[49m\u001b[38;5;241;43m.\u001b[39;49m\u001b[43mremove\u001b[49m\u001b[43m(\u001b[49m\u001b[38;5;241;43m5\u001b[39;49m\u001b[43m)\u001b[49m\n",
      "\u001b[1;31mValueError\u001b[0m: list.remove(x): x not in list"
     ]
    }
   ],
   "source": [
    "lst = [1,2,3,4]\n",
    "lst.remove(5)"
   ]
  },
  {
   "cell_type": "code",
   "execution_count": 8,
   "id": "6fbd8212",
   "metadata": {},
   "outputs": [
    {
     "name": "stdout",
     "output_type": "stream",
     "text": [
      "the error:  name 'x' is not defined\n"
     ]
    }
   ],
   "source": [
    "try:\n",
    "    print(x)\n",
    "except Exception as e :\n",
    "    print(\"the error: \" , e )"
   ]
  },
  {
   "cell_type": "code",
   "execution_count": 9,
   "id": "a00ed987",
   "metadata": {},
   "outputs": [
    {
     "name": "stdout",
     "output_type": "stream",
     "text": [
      "the error:  division by zero\n"
     ]
    }
   ],
   "source": [
    "try:\n",
    "    print(10/0)\n",
    "except Exception as e :\n",
    "    print(\"the error: \" , e )"
   ]
  },
  {
   "cell_type": "code",
   "execution_count": 10,
   "id": "f515ab91",
   "metadata": {},
   "outputs": [
    {
     "name": "stdout",
     "output_type": "stream",
     "text": [
      "the error:  list.remove(x): x not in list\n"
     ]
    }
   ],
   "source": [
    "try:\n",
    "    lst = [1,2,3,4]\n",
    "    lst.remove(5)\n",
    "except Exception as e :\n",
    "    print(\"the error: \" , e )"
   ]
  },
  {
   "cell_type": "code",
   "execution_count": 14,
   "id": "ffb1629d",
   "metadata": {},
   "outputs": [],
   "source": [
    "f = open(\"test.txt\" , \"x\")  #mode >> \"r\" or \"w\" or \"a\"  or \"x\" or \"r+\""
   ]
  },
  {
   "cell_type": "code",
   "execution_count": 18,
   "id": "ac7cbee5",
   "metadata": {},
   "outputs": [],
   "source": [
    "f = open(\"test.txt\" , \"r\")"
   ]
  },
  {
   "cell_type": "code",
   "execution_count": 19,
   "id": "162ed785",
   "metadata": {},
   "outputs": [
    {
     "data": {
      "text/plain": [
       "'my name is amit and my age is 10.'"
      ]
     },
     "execution_count": 19,
     "metadata": {},
     "output_type": "execute_result"
    }
   ],
   "source": [
    "f.read()"
   ]
  },
  {
   "cell_type": "code",
   "execution_count": 21,
   "id": "eff8ed32",
   "metadata": {},
   "outputs": [
    {
     "ename": "UnsupportedOperation",
     "evalue": "not writable",
     "output_type": "error",
     "traceback": [
      "\u001b[1;31m---------------------------------------------------------------------------\u001b[0m",
      "\u001b[1;31mUnsupportedOperation\u001b[0m                      Traceback (most recent call last)",
      "Cell \u001b[1;32mIn[21], line 1\u001b[0m\n\u001b[1;32m----> 1\u001b[0m \u001b[43mf\u001b[49m\u001b[38;5;241;43m.\u001b[39;49m\u001b[43mwrite\u001b[49m\u001b[43m(\u001b[49m\u001b[38;5;124;43m\"\u001b[39;49m\u001b[38;5;124;43mhello\u001b[39;49m\u001b[38;5;124;43m\"\u001b[39;49m\u001b[43m)\u001b[49m\n",
      "\u001b[1;31mUnsupportedOperation\u001b[0m: not writable"
     ]
    }
   ],
   "source": [
    "f.write(\"hello\")"
   ]
  },
  {
   "cell_type": "code",
   "execution_count": 26,
   "id": "05aea537",
   "metadata": {},
   "outputs": [],
   "source": [
    "f = open(\"test3.txt\" , \"w\")"
   ]
  },
  {
   "cell_type": "code",
   "execution_count": 27,
   "id": "48fe168f",
   "metadata": {},
   "outputs": [
    {
     "data": {
      "text/plain": [
       "17"
      ]
     },
     "execution_count": 27,
     "metadata": {},
     "output_type": "execute_result"
    }
   ],
   "source": [
    "f.write(\"helloooooo, test3\")"
   ]
  },
  {
   "cell_type": "code",
   "execution_count": 28,
   "id": "db7f4111",
   "metadata": {},
   "outputs": [],
   "source": [
    "f.close()"
   ]
  },
  {
   "cell_type": "code",
   "execution_count": 29,
   "id": "4b3eea2a",
   "metadata": {},
   "outputs": [],
   "source": [
    "f = open(\"test2.txt\" , \"a\")"
   ]
  },
  {
   "cell_type": "code",
   "execution_count": 30,
   "id": "1da127fa",
   "metadata": {},
   "outputs": [
    {
     "data": {
      "text/plain": [
       "5"
      ]
     },
     "execution_count": 30,
     "metadata": {},
     "output_type": "execute_result"
    }
   ],
   "source": [
    "f.write(\" Amit\")"
   ]
  },
  {
   "cell_type": "code",
   "execution_count": 31,
   "id": "f1101477",
   "metadata": {},
   "outputs": [],
   "source": [
    "f.close()"
   ]
  },
  {
   "cell_type": "code",
   "execution_count": 32,
   "id": "9006a25b",
   "metadata": {},
   "outputs": [],
   "source": [
    "f = open(\"test2.txt\" , \"r+\")"
   ]
  },
  {
   "cell_type": "code",
   "execution_count": 33,
   "id": "ef642f4c",
   "metadata": {},
   "outputs": [
    {
     "data": {
      "text/plain": [
       "'helloooooo Amit'"
      ]
     },
     "execution_count": 33,
     "metadata": {},
     "output_type": "execute_result"
    }
   ],
   "source": [
    "f.read()"
   ]
  },
  {
   "cell_type": "code",
   "execution_count": 34,
   "id": "748d2185",
   "metadata": {},
   "outputs": [
    {
     "data": {
      "text/plain": [
       "8"
      ]
     },
     "execution_count": 34,
     "metadata": {},
     "output_type": "execute_result"
    }
   ],
   "source": [
    "f.write(\" welcome\")"
   ]
  },
  {
   "cell_type": "code",
   "execution_count": 35,
   "id": "a01a5bb1",
   "metadata": {},
   "outputs": [],
   "source": [
    "f.close()"
   ]
  },
  {
   "cell_type": "code",
   "execution_count": 53,
   "id": "6f9e205e",
   "metadata": {},
   "outputs": [
    {
     "name": "stdout",
     "output_type": "stream",
     "text": [
      "['helloooooo', 'Amit', 'welcome', 'اهلا', 'وسهلا', 'اميت', 'my', 'name', 'is', 'amitmy', 'name', 'is', 'amitmy', 'name', 'is', 'amitmy', 'name', 'is', 'amit']\n"
     ]
    }
   ],
   "source": [
    "with open(\"test2.txt\" , \"r+\" ,encoding=\"utf-8\" ) as f :\n",
    "    print(f.read().split())"
   ]
  },
  {
   "cell_type": "code",
   "execution_count": 48,
   "id": "85b5d3b5",
   "metadata": {},
   "outputs": [
    {
     "name": "stdout",
     "output_type": "stream",
     "text": [
      "['helloooooo Amit welcome\\n', 'اهلا وسهلا اميت ']\n"
     ]
    }
   ],
   "source": [
    "with open(\"test2.txt\" , \"r+\" ,encoding=\"utf-8\" ) as f :\n",
    "    print(f.readlines())"
   ]
  },
  {
   "cell_type": "code",
   "execution_count": 57,
   "id": "2a070fe0",
   "metadata": {},
   "outputs": [
    {
     "data": {
      "text/plain": [
       "['helloooooo', 'Amit', 'welcome']"
      ]
     },
     "execution_count": 57,
     "metadata": {},
     "output_type": "execute_result"
    }
   ],
   "source": [
    "'helloooooo Amit welcome'.split()"
   ]
  },
  {
   "cell_type": "code",
   "execution_count": 58,
   "id": "c3d07bdc",
   "metadata": {},
   "outputs": [],
   "source": [
    "# ['helloooooo Amit welcome\\n', 'اهلا وسهلا اميت '].split()"
   ]
  },
  {
   "cell_type": "code",
   "execution_count": 59,
   "id": "e98fa500",
   "metadata": {},
   "outputs": [],
   "source": [
    "# OOP"
   ]
  },
  {
   "cell_type": "code",
   "execution_count": 62,
   "id": "f95d3077",
   "metadata": {},
   "outputs": [],
   "source": [
    "# create class\n",
    "class ClassName: \n",
    "    pass"
   ]
  },
  {
   "cell_type": "code",
   "execution_count": 63,
   "id": "75ed5d56",
   "metadata": {},
   "outputs": [],
   "source": [
    "# create object\n",
    "object_name = ClassName()"
   ]
  },
  {
   "cell_type": "code",
   "execution_count": 64,
   "id": "02b2ff05",
   "metadata": {},
   "outputs": [
    {
     "data": {
      "text/plain": [
       "True"
      ]
     },
     "execution_count": 64,
     "metadata": {},
     "output_type": "execute_result"
    }
   ],
   "source": [
    "isinstance(object_name ,ClassName)"
   ]
  },
  {
   "cell_type": "code",
   "execution_count": 166,
   "id": "46d8f6a9",
   "metadata": {},
   "outputs": [],
   "source": [
    "class Cars:\n",
    "    #class attribute\n",
    "    counter = 0  \n",
    "    def __init__(self , name , age , color , speed):\n",
    "        #instance attribute \n",
    "        self.name  = name \n",
    "        self.age   = age\n",
    "        self.color = color\n",
    "        self.speed = speed\n",
    "        Cars.counter += 1  \n",
    "    #instance method\n",
    "    def show(self):\n",
    "        print(f\"Name  :{self.name}\")\n",
    "        print(f\"Age   :{self.age}\")\n",
    "        print(f\"Color :{self.color}\")\n",
    "        print(f\"Speed :{self.speed}\")\n",
    "    \n",
    "    #class method \n",
    "    @classmethod\n",
    "    def n_cars(cls):\n",
    "        print(f\"Number of cars is: {cls.counter}\")\n",
    "        \n",
    "    #static method\n",
    "    @staticmethod\n",
    "    def time(distance , speed):\n",
    "        return f\"Time: {distance/speed}\""
   ]
  },
  {
   "cell_type": "code",
   "execution_count": 167,
   "id": "64b349b5",
   "metadata": {},
   "outputs": [],
   "source": [
    "BMW = Cars(\"BMW\" , 3 , \"black\" , 250)"
   ]
  },
  {
   "cell_type": "code",
   "execution_count": 168,
   "id": "d2b789ce",
   "metadata": {},
   "outputs": [
    {
     "name": "stdout",
     "output_type": "stream",
     "text": [
      "Name  :FIAT\n",
      "Age   :10\n",
      "Color :blue\n",
      "Speed :150\n"
     ]
    }
   ],
   "source": [
    "FIAT = Cars(\"FIAT\" , 10 , \"blue\" , 150)\n",
    "FIAT.show()"
   ]
  },
  {
   "cell_type": "code",
   "execution_count": 169,
   "id": "be0c5f40",
   "metadata": {},
   "outputs": [
    {
     "name": "stdout",
     "output_type": "stream",
     "text": [
      "FIAT\n",
      "BMW\n"
     ]
    }
   ],
   "source": [
    "print(FIAT.name)\n",
    "print(BMW.name)"
   ]
  },
  {
   "cell_type": "code",
   "execution_count": 170,
   "id": "060c8be0",
   "metadata": {},
   "outputs": [
    {
     "name": "stdout",
     "output_type": "stream",
     "text": [
      "Name  :BMW\n",
      "Age   :3\n",
      "Color :black\n",
      "Speed :250\n"
     ]
    }
   ],
   "source": [
    "BMW.show()"
   ]
  },
  {
   "cell_type": "code",
   "execution_count": 171,
   "id": "137bf4ac",
   "metadata": {},
   "outputs": [
    {
     "name": "stdout",
     "output_type": "stream",
     "text": [
      "Name  :FIAT\n",
      "Age   :10\n",
      "Color :blue\n",
      "Speed :150\n"
     ]
    }
   ],
   "source": [
    "FIAT.show()"
   ]
  },
  {
   "cell_type": "code",
   "execution_count": 172,
   "id": "d59f07a2",
   "metadata": {},
   "outputs": [
    {
     "name": "stdout",
     "output_type": "stream",
     "text": [
      "Number of cars is: 2\n"
     ]
    }
   ],
   "source": [
    "Cars.n_cars()"
   ]
  },
  {
   "cell_type": "code",
   "execution_count": 173,
   "id": "1bb0e31b",
   "metadata": {},
   "outputs": [
    {
     "name": "stdout",
     "output_type": "stream",
     "text": [
      "Number of cars is: 2\n"
     ]
    }
   ],
   "source": [
    "BMW.n_cars()"
   ]
  },
  {
   "cell_type": "code",
   "execution_count": 174,
   "id": "c4765077",
   "metadata": {},
   "outputs": [
    {
     "name": "stdout",
     "output_type": "stream",
     "text": [
      "Number of cars is: 2\n"
     ]
    }
   ],
   "source": [
    "FIAT.n_cars()"
   ]
  },
  {
   "cell_type": "code",
   "execution_count": 175,
   "id": "3c457192",
   "metadata": {},
   "outputs": [
    {
     "data": {
      "text/plain": [
       "'Time: 4.0'"
      ]
     },
     "execution_count": 175,
     "metadata": {},
     "output_type": "execute_result"
    }
   ],
   "source": [
    "Cars.time(1000 , 250)"
   ]
  },
  {
   "cell_type": "code",
   "execution_count": 177,
   "id": "2ed8b22a",
   "metadata": {},
   "outputs": [
    {
     "data": {
      "text/plain": [
       "'Time: 2.857142857142857'"
      ]
     },
     "execution_count": 177,
     "metadata": {},
     "output_type": "execute_result"
    }
   ],
   "source": [
    "BMW.time(1000 , 350)"
   ]
  },
  {
   "cell_type": "code",
   "execution_count": 178,
   "id": "79e4fc83",
   "metadata": {},
   "outputs": [],
   "source": [
    "# Students \n",
    "#     #instance attribute \n",
    "# >>  name\n",
    "#     age\n",
    "#     n_courses\n",
    "#     grades\n",
    "#     #instance method\n",
    "# >>  display(self)\n",
    "#     @classmethod\n",
    "# >>  n_students\n",
    "#     @staticmethod\n",
    "# >>  summ(*grades):\n",
    "#         return sum(grades)"
   ]
  },
  {
   "cell_type": "code",
   "execution_count": 203,
   "id": "4b41dff3",
   "metadata": {},
   "outputs": [],
   "source": [
    "class Cars:\n",
    "    #class attribute\n",
    "    counter = 0  \n",
    "    def __init__(self , name , age , color , speed):\n",
    "        #instance attribute \n",
    "        self.__name1  = name \n",
    "        self.__age1   = age\n",
    "        self.__color1 = color\n",
    "        self.__speed1 = speed\n",
    "        Cars.counter += 1  \n",
    "    #instance method\n",
    "    def show(self):\n",
    "        print(f\"Name  :{self.__name1}\")\n",
    "        print(f\"Age   :{self.__age1}\")\n",
    "        print(f\"Color :{self.__color1}\")\n",
    "        print(f\"Speed :{self.__speed1}\")\n",
    "    \n",
    "    #class method \n",
    "    @classmethod\n",
    "    def n_cars(cls):\n",
    "        print(f\"Number of cars is: {cls.counter}\")\n",
    "        \n",
    "    #static method\n",
    "    @staticmethod\n",
    "    def time(distance , speed):\n",
    "        return f\"Time: {distance/speed}\""
   ]
  },
  {
   "cell_type": "code",
   "execution_count": 204,
   "id": "3419285d",
   "metadata": {},
   "outputs": [],
   "source": [
    "BMW = Cars(\"BMW\" , 3 , \"black\" , 250)"
   ]
  },
  {
   "cell_type": "code",
   "execution_count": 205,
   "id": "20d2989c",
   "metadata": {},
   "outputs": [
    {
     "name": "stdout",
     "output_type": "stream",
     "text": [
      "Name  :FIAT\n",
      "Age   :10\n",
      "Color :blue\n",
      "Speed :150\n"
     ]
    }
   ],
   "source": [
    "FIAT = Cars(\"FIAT\" , 10 , \"blue\" , 150)\n",
    "FIAT.show()"
   ]
  },
  {
   "cell_type": "code",
   "execution_count": 206,
   "id": "52c0dc81",
   "metadata": {},
   "outputs": [
    {
     "ename": "AttributeError",
     "evalue": "'Cars' object has no attribute '__name'",
     "output_type": "error",
     "traceback": [
      "\u001b[1;31m---------------------------------------------------------------------------\u001b[0m",
      "\u001b[1;31mAttributeError\u001b[0m                            Traceback (most recent call last)",
      "Cell \u001b[1;32mIn[206], line 1\u001b[0m\n\u001b[1;32m----> 1\u001b[0m \u001b[38;5;28mprint\u001b[39m(\u001b[43mFIAT\u001b[49m\u001b[38;5;241;43m.\u001b[39;49m\u001b[43m__name\u001b[49m)\n\u001b[0;32m      2\u001b[0m \u001b[38;5;28mprint\u001b[39m(BMW\u001b[38;5;241m.\u001b[39m__name)\n",
      "\u001b[1;31mAttributeError\u001b[0m: 'Cars' object has no attribute '__name'"
     ]
    }
   ],
   "source": [
    "print(FIAT.__name)\n",
    "print(BMW.__name)"
   ]
  },
  {
   "cell_type": "code",
   "execution_count": 194,
   "id": "063ae28e",
   "metadata": {},
   "outputs": [],
   "source": [
    "FIAT.age = 30"
   ]
  },
  {
   "cell_type": "code",
   "execution_count": 195,
   "id": "2a3096e4",
   "metadata": {},
   "outputs": [
    {
     "data": {
      "text/plain": [
       "30"
      ]
     },
     "execution_count": 195,
     "metadata": {},
     "output_type": "execute_result"
    }
   ],
   "source": [
    "FIAT.age"
   ]
  },
  {
   "cell_type": "code",
   "execution_count": 196,
   "id": "9f1e91b6",
   "metadata": {},
   "outputs": [
    {
     "name": "stdout",
     "output_type": "stream",
     "text": [
      "Name  :FIAT\n",
      "Age   :10\n",
      "Color :blue\n",
      "Speed :150\n"
     ]
    }
   ],
   "source": [
    "FIAT.show()"
   ]
  },
  {
   "cell_type": "code",
   "execution_count": 212,
   "id": "27f0c4a7",
   "metadata": {},
   "outputs": [],
   "source": [
    "# FIAT._Cars__age1 = 12"
   ]
  },
  {
   "cell_type": "code",
   "execution_count": 214,
   "id": "0a03179e",
   "metadata": {},
   "outputs": [],
   "source": [
    "# FIAT.show()"
   ]
  },
  {
   "cell_type": "code",
   "execution_count": 215,
   "id": "5e1f52f9",
   "metadata": {},
   "outputs": [],
   "source": [
    "class ShoppingCart:\n",
    "    pass"
   ]
  },
  {
   "cell_type": "code",
   "execution_count": 217,
   "id": "edd40300",
   "metadata": {},
   "outputs": [],
   "source": [
    "person1 = ShoppingCart()\n",
    "person2 = ShoppingCart()\n",
    "person3 = ShoppingCart()"
   ]
  },
  {
   "cell_type": "code",
   "execution_count": null,
   "id": "7d1c5bf5",
   "metadata": {},
   "outputs": [],
   "source": [
    "person1.add_item(\"orange\" , 10)\n",
    "person1.add_item(\"apple\" , 50)>>> [(\"orange\" , 10) , (\"apple\" , 50) .......].append((\"apple\" , 50))\n",
    "person1.remove(\"orange\")  >> [(\"apple\" , 50) .......]\n",
    "person1.total_price() >> total price is 50....\n",
    "person1.show() >> item : apple  price : 50 \n",
    "                  item : .....  price : ...\n"
   ]
  },
  {
   "cell_type": "code",
   "execution_count": 228,
   "id": "43bdbb97",
   "metadata": {},
   "outputs": [
    {
     "name": "stdout",
     "output_type": "stream",
     "text": [
      "  C_CONTIGUOUS : True\n",
      "  F_CONTIGUOUS : True\n",
      "  OWNDATA : False\n",
      "  WRITEABLE : True\n",
      "  ALIGNED : True\n",
      "  WRITEBACKIFCOPY : False\n",
      "\n"
     ]
    }
   ],
   "source": [
    "import numpy as np\n",
    "x = np.array([6,-1,2,3] , order=\"C\" , ndmin=2 , dtype = float)\n",
    "print(x.flags)"
   ]
  },
  {
   "cell_type": "code",
   "execution_count": 229,
   "id": "2cb597ff",
   "metadata": {},
   "outputs": [
    {
     "data": {
      "text/plain": [
       "array([[ 6., -1.,  2.,  3.]])"
      ]
     },
     "execution_count": 229,
     "metadata": {},
     "output_type": "execute_result"
    }
   ],
   "source": [
    "x"
   ]
  },
  {
   "cell_type": "code",
   "execution_count": 244,
   "id": "aba929f6",
   "metadata": {},
   "outputs": [
    {
     "data": {
      "text/plain": [
       "array([[3211315, 6029370],\n",
       "       [6029361, 7536725],\n",
       "       [4390971, 7471205]])"
      ]
     },
     "execution_count": 244,
     "metadata": {},
     "output_type": "execute_result"
    }
   ],
   "source": [
    "x = np.empty([3,2], dtype=int , order = \"f\")\n",
    "x"
   ]
  },
  {
   "cell_type": "code",
   "execution_count": 247,
   "id": "211035ee",
   "metadata": {},
   "outputs": [
    {
     "ename": "ValueError",
     "evalue": "itemsize cannot be zero in type",
     "output_type": "error",
     "traceback": [
      "\u001b[1;31m---------------------------------------------------------------------------\u001b[0m",
      "\u001b[1;31mValueError\u001b[0m                                Traceback (most recent call last)",
      "Cell \u001b[1;32mIn[247], line 2\u001b[0m\n\u001b[0;32m      1\u001b[0m s \u001b[38;5;241m=\u001b[39m \u001b[38;5;124m'\u001b[39m\u001b[38;5;124mHelloWorld\u001b[39m\u001b[38;5;124m'\u001b[39m\n\u001b[1;32m----> 2\u001b[0m a \u001b[38;5;241m=\u001b[39m \u001b[43mnp\u001b[49m\u001b[38;5;241;43m.\u001b[39;49m\u001b[43mfrombuffer\u001b[49m\u001b[43m(\u001b[49m\u001b[43ms\u001b[49m\u001b[43m,\u001b[49m\u001b[43m \u001b[49m\u001b[43mdtype\u001b[49m\u001b[38;5;241;43m=\u001b[39;49m\u001b[38;5;28;43mstr\u001b[39;49m\u001b[43m)\u001b[49m\n\u001b[0;32m      3\u001b[0m a\n",
      "\u001b[1;31mValueError\u001b[0m: itemsize cannot be zero in type"
     ]
    }
   ],
   "source": [
    "s = 'HelloWorld'\n",
    "a = np.frombuffer(s, dtype=str)\n",
    "a"
   ]
  },
  {
   "cell_type": "code",
   "execution_count": 253,
   "id": "29a44577",
   "metadata": {},
   "outputs": [
    {
     "ename": "ValueError",
     "evalue": "itemsize cannot be zero in type",
     "output_type": "error",
     "traceback": [
      "\u001b[1;31m---------------------------------------------------------------------------\u001b[0m",
      "\u001b[1;31mValueError\u001b[0m                                Traceback (most recent call last)",
      "Cell \u001b[1;32mIn[253], line 1\u001b[0m\n\u001b[1;32m----> 1\u001b[0m \u001b[43mnp\u001b[49m\u001b[38;5;241;43m.\u001b[39;49m\u001b[43mfrombuffer\u001b[49m\u001b[43m(\u001b[49m\u001b[38;5;124;43m\"\u001b[39;49m\u001b[38;5;124;43mamit\u001b[39;49m\u001b[38;5;124;43m\"\u001b[39;49m\u001b[43m \u001b[49m\u001b[43m,\u001b[49m\u001b[43m \u001b[49m\u001b[43mdtype\u001b[49m\u001b[38;5;241;43m=\u001b[39;49m\u001b[43m \u001b[49m\u001b[38;5;124;43m\"\u001b[39;49m\u001b[38;5;124;43mS\u001b[39;49m\u001b[38;5;124;43m\"\u001b[39;49m\u001b[43m)\u001b[49m\n",
      "\u001b[1;31mValueError\u001b[0m: itemsize cannot be zero in type"
     ]
    }
   ],
   "source": [
    "np.frombuffer(\"amit\" , dtype= \"S\")"
   ]
  },
  {
   "cell_type": "code",
   "execution_count": null,
   "id": "df60172c",
   "metadata": {},
   "outputs": [],
   "source": []
  }
 ],
 "metadata": {
  "kernelspec": {
   "display_name": "Python 3 (ipykernel)",
   "language": "python",
   "name": "python3"
  },
  "language_info": {
   "codemirror_mode": {
    "name": "ipython",
    "version": 3
   },
   "file_extension": ".py",
   "mimetype": "text/x-python",
   "name": "python",
   "nbconvert_exporter": "python",
   "pygments_lexer": "ipython3",
   "version": "3.10.9"
  }
 },
 "nbformat": 4,
 "nbformat_minor": 5
}
