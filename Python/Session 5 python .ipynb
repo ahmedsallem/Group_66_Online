{
 "cells": [
  {
   "cell_type": "code",
   "execution_count": 2,
   "id": "e4423177",
   "metadata": {},
   "outputs": [],
   "source": [
    "class Students:\n",
    "    def __init__(self , name , age):\n",
    "        #instance attributes\n",
    "        self.name = name\n",
    "        self.age = age \n",
    "    \n",
    "    #instance method\n",
    "    def show(self):\n",
    "        print(f\"Student name: {self.name}\")\n",
    "        print(f\"Student age: {self.age}\")"
   ]
  },
  {
   "cell_type": "code",
   "execution_count": 5,
   "id": "3781e89e",
   "metadata": {},
   "outputs": [],
   "source": [
    "s1 = Students(\"Mohamed\" , 25)\n",
    "s2 = Students(\"Ahmed\" , 23)"
   ]
  },
  {
   "cell_type": "code",
   "execution_count": 6,
   "id": "0436b859",
   "metadata": {},
   "outputs": [
    {
     "data": {
      "text/plain": [
       "'Mohamed'"
      ]
     },
     "execution_count": 6,
     "metadata": {},
     "output_type": "execute_result"
    }
   ],
   "source": [
    "s1.name"
   ]
  },
  {
   "cell_type": "code",
   "execution_count": 7,
   "id": "12241019",
   "metadata": {},
   "outputs": [
    {
     "name": "stdout",
     "output_type": "stream",
     "text": [
      "Student name: Mohamed\n",
      "Student age: 25\n"
     ]
    }
   ],
   "source": [
    "s1.show()"
   ]
  },
  {
   "cell_type": "code",
   "execution_count": 8,
   "id": "0a431dc3",
   "metadata": {},
   "outputs": [
    {
     "data": {
      "text/plain": [
       "'Ahmed'"
      ]
     },
     "execution_count": 8,
     "metadata": {},
     "output_type": "execute_result"
    }
   ],
   "source": [
    "s2.name"
   ]
  },
  {
   "cell_type": "code",
   "execution_count": 9,
   "id": "362a0e96",
   "metadata": {},
   "outputs": [
    {
     "name": "stdout",
     "output_type": "stream",
     "text": [
      "Student name: Ahmed\n",
      "Student age: 23\n"
     ]
    }
   ],
   "source": [
    "s2.show()"
   ]
  },
  {
   "cell_type": "code",
   "execution_count": 27,
   "id": "7cbb6eb9",
   "metadata": {},
   "outputs": [],
   "source": [
    "class Students:\n",
    "    #class attribute \n",
    "    counter = 0\n",
    "    def __init__(self , name , age):\n",
    "        #instance attributes\n",
    "        self.name = name\n",
    "        self.age = age \n",
    "        Students.counter +=1\n",
    "    \n",
    "    #instance method\n",
    "    def show(self):\n",
    "        print(f\"Student name: {self.name}\")\n",
    "        print(f\"Student age: {self.age}\")\n",
    "    \n",
    "    @classmethod\n",
    "    def nstudent(cls):\n",
    "        print(f\"Number of students is: {cls.counter}\")\n",
    "        \n",
    "    @staticmethod\n",
    "    def add(*n):\n",
    "        return sum(n)"
   ]
  },
  {
   "cell_type": "code",
   "execution_count": 28,
   "id": "514519a2",
   "metadata": {},
   "outputs": [],
   "source": [
    "s1 = Students(\"Mohamed\" , 25)\n",
    "s2 = Students(\"Ahmed\" , 23)\n",
    "s3 = Students(\"abdo\" , 24)"
   ]
  },
  {
   "cell_type": "code",
   "execution_count": 29,
   "id": "2887cba0",
   "metadata": {},
   "outputs": [
    {
     "data": {
      "text/plain": [
       "'Mohamed'"
      ]
     },
     "execution_count": 29,
     "metadata": {},
     "output_type": "execute_result"
    }
   ],
   "source": [
    "s1.name"
   ]
  },
  {
   "cell_type": "code",
   "execution_count": 30,
   "id": "dc3964d9",
   "metadata": {},
   "outputs": [
    {
     "name": "stdout",
     "output_type": "stream",
     "text": [
      "Student name: Mohamed\n",
      "Student age: 25\n"
     ]
    }
   ],
   "source": [
    "s1.show()"
   ]
  },
  {
   "cell_type": "code",
   "execution_count": 31,
   "id": "841d376b",
   "metadata": {},
   "outputs": [
    {
     "data": {
      "text/plain": [
       "'Ahmed'"
      ]
     },
     "execution_count": 31,
     "metadata": {},
     "output_type": "execute_result"
    }
   ],
   "source": [
    "s2.name"
   ]
  },
  {
   "cell_type": "code",
   "execution_count": 32,
   "id": "02c34c5f",
   "metadata": {},
   "outputs": [
    {
     "name": "stdout",
     "output_type": "stream",
     "text": [
      "Student name: Ahmed\n",
      "Student age: 23\n"
     ]
    }
   ],
   "source": [
    "s2.show()"
   ]
  },
  {
   "cell_type": "code",
   "execution_count": 33,
   "id": "be577741",
   "metadata": {},
   "outputs": [
    {
     "name": "stdout",
     "output_type": "stream",
     "text": [
      "Number of students is: 3\n"
     ]
    }
   ],
   "source": [
    "s2.nstudent()"
   ]
  },
  {
   "cell_type": "code",
   "execution_count": 34,
   "id": "297f9617",
   "metadata": {},
   "outputs": [
    {
     "name": "stdout",
     "output_type": "stream",
     "text": [
      "Number of students is: 3\n"
     ]
    }
   ],
   "source": [
    "Students.nstudent()"
   ]
  },
  {
   "cell_type": "code",
   "execution_count": 35,
   "id": "72402772",
   "metadata": {},
   "outputs": [
    {
     "data": {
      "text/plain": [
       "36"
      ]
     },
     "execution_count": 35,
     "metadata": {},
     "output_type": "execute_result"
    }
   ],
   "source": [
    "s2.add(9,8,9,10)"
   ]
  },
  {
   "cell_type": "code",
   "execution_count": null,
   "id": "445de58a",
   "metadata": {},
   "outputs": [],
   "source": []
  },
  {
   "cell_type": "code",
   "execution_count": null,
   "id": "0ad72583",
   "metadata": {},
   "outputs": [],
   "source": []
  },
  {
   "cell_type": "code",
   "execution_count": null,
   "id": "1287ad4e",
   "metadata": {},
   "outputs": [],
   "source": []
  },
  {
   "cell_type": "code",
   "execution_count": 39,
   "id": "7588296d",
   "metadata": {},
   "outputs": [],
   "source": [
    "class Students:\n",
    "    def __init__(self , name , age):\n",
    "        #instance attributes\n",
    "        self.__name = name\n",
    "        self.__age = age \n",
    "    \n",
    "    #instance method\n",
    "    def show(self):\n",
    "        print(f\"Student name: {self.__name}\")\n",
    "        print(f\"Student age: {self.__age}\")"
   ]
  },
  {
   "cell_type": "code",
   "execution_count": 40,
   "id": "acc55c2a",
   "metadata": {},
   "outputs": [],
   "source": [
    "s1 = Students(\"Mohamed\" , 25)\n",
    "s2 = Students(\"Ahmed\" , 23)"
   ]
  },
  {
   "cell_type": "code",
   "execution_count": 46,
   "id": "c1302fbf",
   "metadata": {},
   "outputs": [],
   "source": [
    "s1.name = \"mo\""
   ]
  },
  {
   "cell_type": "code",
   "execution_count": 47,
   "id": "4c797340",
   "metadata": {},
   "outputs": [
    {
     "name": "stdout",
     "output_type": "stream",
     "text": [
      "Student name: Mohamed\n",
      "Student age: 25\n"
     ]
    }
   ],
   "source": [
    "s1.show()"
   ]
  },
  {
   "cell_type": "code",
   "execution_count": 52,
   "id": "7de06fde",
   "metadata": {},
   "outputs": [
    {
     "name": "stdout",
     "output_type": "stream",
     "text": [
      "The error: 'Students' object has no attribute 'name'\n"
     ]
    }
   ],
   "source": [
    "try:\n",
    "    s2.name\n",
    "except Exception as e :\n",
    "    print(\"The error:\",e)"
   ]
  },
  {
   "cell_type": "code",
   "execution_count": 50,
   "id": "1f56f4e0",
   "metadata": {},
   "outputs": [
    {
     "name": "stdout",
     "output_type": "stream",
     "text": [
      "Student name: Ahmed\n",
      "Student age: 23\n"
     ]
    }
   ],
   "source": [
    "s2.show()"
   ]
  },
  {
   "cell_type": "code",
   "execution_count": 54,
   "id": "c5a38aba",
   "metadata": {},
   "outputs": [],
   "source": [
    "s2._Students__name = \"A7med\""
   ]
  },
  {
   "cell_type": "code",
   "execution_count": 55,
   "id": "ecce524f",
   "metadata": {},
   "outputs": [
    {
     "name": "stdout",
     "output_type": "stream",
     "text": [
      "Student name: A7med\n",
      "Student age: 23\n"
     ]
    }
   ],
   "source": [
    "s2.show()"
   ]
  },
  {
   "cell_type": "code",
   "execution_count": 56,
   "id": "a103a820",
   "metadata": {},
   "outputs": [
    {
     "data": {
      "text/plain": [
       "3"
      ]
     },
     "execution_count": 56,
     "metadata": {},
     "output_type": "execute_result"
    }
   ],
   "source": [
    "x = [1,2,3]\n",
    "y = \"amit\"\n",
    "len(x)"
   ]
  },
  {
   "cell_type": "code",
   "execution_count": 57,
   "id": "6e548340",
   "metadata": {},
   "outputs": [
    {
     "data": {
      "text/plain": [
       "4"
      ]
     },
     "execution_count": 57,
     "metadata": {},
     "output_type": "execute_result"
    }
   ],
   "source": [
    "len(y)"
   ]
  },
  {
   "cell_type": "code",
   "execution_count": 58,
   "id": "aa64960d",
   "metadata": {},
   "outputs": [],
   "source": [
    "class Person:\n",
    "    def __init__(self , name , age):\n",
    "        self.name = name\n",
    "        self.age = age\n",
    "    def show(self):\n",
    "        print(\"Person name:\",self.name)\n",
    "        print(\"Person age :\",self.age)"
   ]
  },
  {
   "cell_type": "code",
   "execution_count": 59,
   "id": "80facb5a",
   "metadata": {},
   "outputs": [],
   "source": [
    "p1 = Person(\"Ahmed\" , 30)"
   ]
  },
  {
   "cell_type": "code",
   "execution_count": 60,
   "id": "c93a114e",
   "metadata": {},
   "outputs": [
    {
     "name": "stdout",
     "output_type": "stream",
     "text": [
      "Person name: Ahmed\n",
      "Person age : 30\n"
     ]
    }
   ],
   "source": [
    "p1.show()"
   ]
  },
  {
   "cell_type": "code",
   "execution_count": 86,
   "id": "054fedcc",
   "metadata": {},
   "outputs": [],
   "source": [
    "class Student(Person):\n",
    "    def __init__(self,name  , age , grades):\n",
    "        Person.__init__(self,name , age)\n",
    "        self.grades = grades\n",
    "    def show(self):\n",
    "        print(\"Student name:\",self.name)\n",
    "        print(\"Student age :\",self.age)\n",
    "        for i in self.grades:\n",
    "            print(f\"Student grades: {i}\")"
   ]
  },
  {
   "cell_type": "code",
   "execution_count": 88,
   "id": "b20fd74c",
   "metadata": {},
   "outputs": [],
   "source": [
    "s1 = Student(\"Mo\" , 20  ,[23,24,25])"
   ]
  },
  {
   "cell_type": "code",
   "execution_count": 89,
   "id": "a0be3114",
   "metadata": {
    "scrolled": true
   },
   "outputs": [
    {
     "name": "stdout",
     "output_type": "stream",
     "text": [
      "Student name: Mo\n",
      "Student age : 20\n",
      "Student grades: 23\n",
      "Student grades: 24\n",
      "Student grades: 25\n"
     ]
    }
   ],
   "source": [
    "s1.show()"
   ]
  },
  {
   "cell_type": "code",
   "execution_count": 75,
   "id": "805fc437",
   "metadata": {},
   "outputs": [
    {
     "name": "stdout",
     "output_type": "stream",
     "text": [
      "Person name: Ahmed\n",
      "Person age : 30\n"
     ]
    }
   ],
   "source": [
    "p1.show()"
   ]
  },
  {
   "cell_type": "code",
   "execution_count": 116,
   "id": "595c9da5",
   "metadata": {},
   "outputs": [],
   "source": [
    "class ShoppingCart:\n",
    "    def __init__(self):\n",
    "        self.items = []    #[(\"orange\" , 50) , (\"apple\" , 60) , , , , , ]\n",
    "    def add_item(self , item , price):\n",
    "        self.items.append((item , price))\n",
    "        print(\"Done!  ... \")\n",
    "    def remove_item(self ,item):\n",
    "        for i in self.items:\n",
    "            if i[0] == item:\n",
    "                self.items.remove(i)\n",
    "                print(\"Done!!\")\n",
    "    def total_price(self):\n",
    "        total = 0\n",
    "        for i in self.items:\n",
    "            total += i[1]\n",
    "        print(f\"Total price:{total} \")"
   ]
  },
  {
   "cell_type": "code",
   "execution_count": 117,
   "id": "b1441504",
   "metadata": {},
   "outputs": [],
   "source": [
    "p1 = ShoppingCart()"
   ]
  },
  {
   "cell_type": "code",
   "execution_count": 118,
   "id": "1e05ecdc",
   "metadata": {},
   "outputs": [
    {
     "name": "stdout",
     "output_type": "stream",
     "text": [
      "Done!  ... \n"
     ]
    }
   ],
   "source": [
    "p1.add_item(\"orange\" , 50)"
   ]
  },
  {
   "cell_type": "code",
   "execution_count": 119,
   "id": "b04e0fcc",
   "metadata": {},
   "outputs": [
    {
     "data": {
      "text/plain": [
       "[('orange', 50)]"
      ]
     },
     "execution_count": 119,
     "metadata": {},
     "output_type": "execute_result"
    }
   ],
   "source": [
    "p1.items"
   ]
  },
  {
   "cell_type": "code",
   "execution_count": 120,
   "id": "80e669f2",
   "metadata": {},
   "outputs": [
    {
     "name": "stdout",
     "output_type": "stream",
     "text": [
      "Done!  ... \n"
     ]
    }
   ],
   "source": [
    "p1.add_item(\"Apple\" , 60)"
   ]
  },
  {
   "cell_type": "code",
   "execution_count": 121,
   "id": "055551c9",
   "metadata": {},
   "outputs": [
    {
     "data": {
      "text/plain": [
       "[('orange', 50), ('Apple', 60)]"
      ]
     },
     "execution_count": 121,
     "metadata": {},
     "output_type": "execute_result"
    }
   ],
   "source": [
    "p1.items"
   ]
  },
  {
   "cell_type": "code",
   "execution_count": 122,
   "id": "6dcf51ae",
   "metadata": {},
   "outputs": [],
   "source": [
    "# p1.remove_item(\"orange\")"
   ]
  },
  {
   "cell_type": "code",
   "execution_count": 123,
   "id": "d66cd8ff",
   "metadata": {},
   "outputs": [
    {
     "data": {
      "text/plain": [
       "[('orange', 50), ('Apple', 60)]"
      ]
     },
     "execution_count": 123,
     "metadata": {},
     "output_type": "execute_result"
    }
   ],
   "source": [
    "p1.items"
   ]
  },
  {
   "cell_type": "code",
   "execution_count": 124,
   "id": "8edeed3e",
   "metadata": {},
   "outputs": [
    {
     "name": "stdout",
     "output_type": "stream",
     "text": [
      "Total price:110 \n"
     ]
    }
   ],
   "source": [
    "p1.total_price()"
   ]
  },
  {
   "cell_type": "code",
   "execution_count": null,
   "id": "bfca8107",
   "metadata": {},
   "outputs": [],
   "source": []
  },
  {
   "cell_type": "markdown",
   "id": "76a10ab7",
   "metadata": {},
   "source": [
    "# Magic method"
   ]
  },
  {
   "cell_type": "code",
   "execution_count": 129,
   "id": "538397bc",
   "metadata": {},
   "outputs": [],
   "source": [
    "class Employee:\n",
    "    def __init__(self , fname , lname , salary = 0):\n",
    "        self.fname = fname\n",
    "        self.lname = lname\n",
    "        self.salary= salary"
   ]
  },
  {
   "cell_type": "code",
   "execution_count": 130,
   "id": "252b8844",
   "metadata": {},
   "outputs": [],
   "source": [
    "Ahmed = Employee(\"Ahmed\" , \"Salem\" , 10000) "
   ]
  },
  {
   "cell_type": "code",
   "execution_count": 132,
   "id": "f58da487",
   "metadata": {},
   "outputs": [
    {
     "name": "stdout",
     "output_type": "stream",
     "text": [
      "<__main__.Employee object at 0x000001D6815646A0>\n"
     ]
    }
   ],
   "source": [
    "print(Ahmed)"
   ]
  },
  {
   "cell_type": "code",
   "execution_count": 133,
   "id": "12de69dd",
   "metadata": {},
   "outputs": [
    {
     "data": {
      "text/plain": [
       "'<__main__.Employee object at 0x000001D6815646A0>'"
      ]
     },
     "execution_count": 133,
     "metadata": {},
     "output_type": "execute_result"
    }
   ],
   "source": [
    "str(Ahmed)"
   ]
  },
  {
   "cell_type": "code",
   "execution_count": null,
   "id": "2787c004",
   "metadata": {},
   "outputs": [],
   "source": []
  },
  {
   "cell_type": "code",
   "execution_count": 205,
   "id": "0bd450e6",
   "metadata": {},
   "outputs": [],
   "source": [
    "class Employee:\n",
    "    def __init__(self , fname , lname , salary = 0):\n",
    "        self.fname = fname\n",
    "        self.lname = lname\n",
    "        self.salary= salary\n",
    "    def __str__(self):\n",
    "        return f\"Full name: {self.fname} {self.lname} \"\n",
    "    def __len__(self):\n",
    "        return len(self.fname + self.lname)\n",
    "    def __int__(self):\n",
    "        return self.salary\n",
    "    def __eq__(self , other):\n",
    "        return self.salary == other.salary\n",
    "    def __gt__(self , other):\n",
    "        return self.salary > other.salary\n",
    "    def __le__(self,other):\n",
    "        return self.salary <= other.salary"
   ]
  },
  {
   "cell_type": "code",
   "execution_count": 206,
   "id": "9b8f45b4",
   "metadata": {},
   "outputs": [],
   "source": [
    "Ahmed  = Employee(\"Ahmed\" , \"Salem\" , 10000)\n",
    "Mohamed= Employee(\"Mohamed\" , \"Sayed\" , 11000)"
   ]
  },
  {
   "cell_type": "code",
   "execution_count": 207,
   "id": "b3271119",
   "metadata": {},
   "outputs": [
    {
     "name": "stdout",
     "output_type": "stream",
     "text": [
      "Full name: Ahmed Salem \n"
     ]
    }
   ],
   "source": [
    "print(Ahmed)"
   ]
  },
  {
   "cell_type": "code",
   "execution_count": 208,
   "id": "adea9d95",
   "metadata": {},
   "outputs": [
    {
     "data": {
      "text/plain": [
       "'Full name: Ahmed Salem '"
      ]
     },
     "execution_count": 208,
     "metadata": {},
     "output_type": "execute_result"
    }
   ],
   "source": [
    "str(Ahmed)"
   ]
  },
  {
   "cell_type": "code",
   "execution_count": 209,
   "id": "0c282fc4",
   "metadata": {},
   "outputs": [
    {
     "data": {
      "text/plain": [
       "10"
      ]
     },
     "execution_count": 209,
     "metadata": {},
     "output_type": "execute_result"
    }
   ],
   "source": [
    "len(Ahmed)"
   ]
  },
  {
   "cell_type": "code",
   "execution_count": 210,
   "id": "e3020a38",
   "metadata": {},
   "outputs": [
    {
     "name": "stdout",
     "output_type": "stream",
     "text": [
      "Full name: Mohamed Sayed \n"
     ]
    }
   ],
   "source": [
    "print(Mohamed)"
   ]
  },
  {
   "cell_type": "code",
   "execution_count": 211,
   "id": "20c2c341",
   "metadata": {},
   "outputs": [
    {
     "data": {
      "text/plain": [
       "'Full name: Mohamed Sayed '"
      ]
     },
     "execution_count": 211,
     "metadata": {},
     "output_type": "execute_result"
    }
   ],
   "source": [
    "str(Mohamed)"
   ]
  },
  {
   "cell_type": "code",
   "execution_count": 212,
   "id": "d2e53c8b",
   "metadata": {},
   "outputs": [
    {
     "data": {
      "text/plain": [
       "12"
      ]
     },
     "execution_count": 212,
     "metadata": {},
     "output_type": "execute_result"
    }
   ],
   "source": [
    "len(Mohamed)"
   ]
  },
  {
   "cell_type": "code",
   "execution_count": 213,
   "id": "be8a0c54",
   "metadata": {},
   "outputs": [
    {
     "data": {
      "text/plain": [
       "10000"
      ]
     },
     "execution_count": 213,
     "metadata": {},
     "output_type": "execute_result"
    }
   ],
   "source": [
    "int(Ahmed)"
   ]
  },
  {
   "cell_type": "code",
   "execution_count": 214,
   "id": "d350cb20",
   "metadata": {},
   "outputs": [
    {
     "data": {
      "text/plain": [
       "11000"
      ]
     },
     "execution_count": 214,
     "metadata": {},
     "output_type": "execute_result"
    }
   ],
   "source": [
    "int(Mohamed)"
   ]
  },
  {
   "cell_type": "code",
   "execution_count": 215,
   "id": "488116a9",
   "metadata": {},
   "outputs": [
    {
     "name": "stdout",
     "output_type": "stream",
     "text": [
      "False\n"
     ]
    }
   ],
   "source": [
    "print(Ahmed == Mohamed)"
   ]
  },
  {
   "cell_type": "code",
   "execution_count": 216,
   "id": "909c0d70",
   "metadata": {},
   "outputs": [],
   "source": [
    "Mohamed.salary = 10000"
   ]
  },
  {
   "cell_type": "code",
   "execution_count": 217,
   "id": "829c9ab2",
   "metadata": {},
   "outputs": [
    {
     "data": {
      "text/plain": [
       "True"
      ]
     },
     "execution_count": 217,
     "metadata": {},
     "output_type": "execute_result"
    }
   ],
   "source": [
    "10000 == 10000"
   ]
  },
  {
   "cell_type": "code",
   "execution_count": 218,
   "id": "b0749699",
   "metadata": {},
   "outputs": [
    {
     "name": "stdout",
     "output_type": "stream",
     "text": [
      "True\n"
     ]
    }
   ],
   "source": [
    "print(Ahmed == Mohamed)"
   ]
  },
  {
   "cell_type": "code",
   "execution_count": 219,
   "id": "d3d3345e",
   "metadata": {},
   "outputs": [
    {
     "name": "stdout",
     "output_type": "stream",
     "text": [
      "False\n"
     ]
    }
   ],
   "source": [
    "print(Ahmed > Mohamed)"
   ]
  },
  {
   "cell_type": "code",
   "execution_count": 220,
   "id": "689820f5",
   "metadata": {},
   "outputs": [
    {
     "name": "stdout",
     "output_type": "stream",
     "text": [
      "True\n"
     ]
    }
   ],
   "source": [
    "print(Ahmed <= Mohamed)"
   ]
  },
  {
   "cell_type": "code",
   "execution_count": 260,
   "id": "5695e642",
   "metadata": {},
   "outputs": [],
   "source": [
    "class MyList:\n",
    "    def __init__(self):\n",
    "        self.lst = []\n",
    "    def append(self , num):\n",
    "        self.lst.append(num)\n",
    "    def __getitem__(self , index):\n",
    "        return self.lst[index]\n",
    "    def __setitem__(self , index , value):\n",
    "        self.lst[index] = value\n",
    "    def __len__(self):\n",
    "        return len(self.lst)"
   ]
  },
  {
   "cell_type": "code",
   "execution_count": 261,
   "id": "4b4b0c46",
   "metadata": {},
   "outputs": [],
   "source": [
    "l1 = MyList()"
   ]
  },
  {
   "cell_type": "code",
   "execution_count": 262,
   "id": "8b992b67",
   "metadata": {},
   "outputs": [],
   "source": [
    "l1.append(12)\n",
    "l1.append(10)\n",
    "l1.append(2)\n",
    "l1.append(5)"
   ]
  },
  {
   "cell_type": "code",
   "execution_count": 263,
   "id": "aac4aa9d",
   "metadata": {},
   "outputs": [
    {
     "data": {
      "text/plain": [
       "10"
      ]
     },
     "execution_count": 263,
     "metadata": {},
     "output_type": "execute_result"
    }
   ],
   "source": [
    "l1[1]"
   ]
  },
  {
   "cell_type": "code",
   "execution_count": 266,
   "id": "a1c68070",
   "metadata": {},
   "outputs": [
    {
     "data": {
      "text/plain": [
       "100"
      ]
     },
     "execution_count": 266,
     "metadata": {},
     "output_type": "execute_result"
    }
   ],
   "source": [
    "l1[0] = 100\n",
    "l1[0]"
   ]
  },
  {
   "cell_type": "code",
   "execution_count": 267,
   "id": "e962cc3f",
   "metadata": {},
   "outputs": [
    {
     "data": {
      "text/plain": [
       "4"
      ]
     },
     "execution_count": 267,
     "metadata": {},
     "output_type": "execute_result"
    }
   ],
   "source": [
    "len(l1)"
   ]
  },
  {
   "cell_type": "code",
   "execution_count": null,
   "id": "9a42f2c3",
   "metadata": {},
   "outputs": [],
   "source": [
    "# class Bank\n",
    "#             username\n",
    "#             balance \n",
    "#     deposit(self , money)\n",
    "#         self.balance += money\n",
    "        \n",
    "#     withdraw(self , money)\n",
    "        \n",
    "    \n",
    "#     get_balance(self)\n",
    "\n",
    "# p1 >> (uname , 15000)\n",
    "# p2 >> (uname , 10000)\n",
    "# p3 >> (uname , 45000)\n",
    "# p1.deposit(2000)"
   ]
  },
  {
   "cell_type": "code",
   "execution_count": null,
   "id": "b6f3e70c",
   "metadata": {},
   "outputs": [],
   "source": [
    "init(self)\n",
    "    self.accounts = []\n",
    "# create_account(username , password)  >> if username exist >> account \n",
    "#                                         else :  username : and password   balance=0\n",
    "#                                             [{\"username\":username , \"password\": password , balance =0 },\n",
    "#                                             {\"username\":username , \"password\": password , balance =0 }]\n",
    "# login(username, password) >> if i[\"username\"] == username and i[\"password\"]== password >>\n",
    "#                                                                                     1>> deposit  (money)\n",
    "#                                                                                     2>> withdraw (money)\n",
    "#                                                                                     3>> check_balance()\n",
    "#                                                                                     4>> cancel\n",
    "# 1>>Create_new_acc\n",
    "#     input(\"Enter your username\")\n",
    "#     input(\"Enter your password\")    \n",
    "# 2>>Login\n",
    "#     input(\"Enter your username\")\n",
    "#     input(\"Enter your password\")\n",
    "# 3>>Cancel\n"
   ]
  },
  {
   "cell_type": "code",
   "execution_count": 268,
   "id": "8e47c443",
   "metadata": {},
   "outputs": [],
   "source": [
    "# def menu():\n",
    "#     print(\"1. Create_new_acc\")\n",
    "#     print(\"2. Login\")\n",
    "#     print(\"3. Cancel\")\n",
    "#     option = int(input(\"Enter your option: \"))\n",
    "#     return option"
   ]
  },
  {
   "cell_type": "code",
   "execution_count": 269,
   "id": "e99f5827",
   "metadata": {},
   "outputs": [
    {
     "name": "stdout",
     "output_type": "stream",
     "text": [
      "1. Create_new_acc\n",
      "2. Login\n",
      "3. Cancel\n",
      "Enter your option: 5\n",
      "Check your option!!!\n",
      "1. Create_new_acc\n",
      "2. Login\n",
      "3. Cancel\n",
      "Enter your option: 10\n",
      "Check your option!!!\n",
      "1. Create_new_acc\n",
      "2. Login\n",
      "3. Cancel\n",
      "Enter your option: 3\n",
      "Thanks for using CIB\n"
     ]
    }
   ],
   "source": [
    "# while True :\n",
    "#     option = menu()\n",
    "#     if option == 1 :\n",
    "#         username = input(\"Enter your username\")\n",
    "#         password = input(\"Enter your password\")\n",
    "#         CIB.create_account(username ,password )\n",
    "#     elif option == 2:\n",
    "#         username = input(\"Enter your username\")\n",
    "#         password = input(\"Enter your password\")\n",
    "#         CIB.login(username ,password )\n",
    "#     elif option == 3 :\n",
    "#         print(\"Thanks for using CIB\")\n",
    "#         break\n",
    "#     else:\n",
    "#         print(\"Check your option!!!\")"
   ]
  },
  {
   "cell_type": "code",
   "execution_count": 285,
   "id": "84caedd7",
   "metadata": {},
   "outputs": [],
   "source": [
    "class Bank:\n",
    "    def __init__(self , bname):\n",
    "        self.bname = bname\n",
    "        self.accounts = []\n",
    "    def menu(self):\n",
    "        print(\"Please Enter a process number: \")\n",
    "        print(\"1 >> Deposit\" )\n",
    "        print(\"2 >> Withdraw\")\n",
    "        print(\"3 >> Check_balance\")\n",
    "        print(\"4 >> Cancel\")\n",
    "\n",
    "    def create_new(self , username , password):\n",
    "        for user in self.accounts:\n",
    "            if user[\"username\"]== username:\n",
    "                print(\"The username already exists....try to login!\")\n",
    "        self.accounts.append({\"username\":username , \"password\":password , \"balance\":0})\n",
    "        self.login(username , password)\n",
    "        \n",
    "    def login(self , username , password):\n",
    "        for user in self.accounts:\n",
    "            if user[\"username\"]== username and user[\"password\"] == password:\n",
    "                print(f\"\\nWelcome, {user['username']}\")\n",
    "                while True:\n",
    "                    self.menu()\n",
    "                    option = int(input())\n",
    "                    if option == 1 :\n",
    "                        money = int(input(\"Enter your money: \"))\n",
    "                        self.deposit(user , money)\n",
    "                    elif option == 2 :\n",
    "                        money = int(input(\"Enter your money: \"))\n",
    "                        self.withdraw(user , money)\n",
    "                    elif option == 3 :\n",
    "                        self.get_balance(user)\n",
    "                    elif option == 4 :\n",
    "                        print(f\"Thanks for using {self.bname}\")\n",
    "                        break\n",
    "                    else:\n",
    "                        print(\"Invalid Option! Please Try again\")\n",
    "                return self.accounts\n",
    "        print(\"Incorrect username or password\")\n",
    "    \n",
    "    \n",
    "    def get_balance(self , user):\n",
    "        print(f\"Your Current Balance is: {user['balance']}\")\n",
    "    \n",
    "    def deposit(self , user , money):\n",
    "        if money >= 0 :\n",
    "            user[\"balance\"] += money\n",
    "            print(\"Your money has been deposited\")\n",
    "            print(f\"Your Current Balance is:{user['balance']}\")\n",
    "        else:\n",
    "            print(\"check your money\")\n",
    "    \n",
    "    def withdraw(self , user , money):\n",
    "        if money <= user[\"balance\"]:\n",
    "            user[\"balance\"] -= money\n",
    "            print(\"Done!!\")\n",
    "            print(f\"Your Current Balance is:{user['balance']}\")\n",
    "        else:\n",
    "            print(\"You dont have enough money \")\n",
    "            print(f\"Your Current Balance is:{user['balance']}\")"
   ]
  },
  {
   "cell_type": "code",
   "execution_count": 286,
   "id": "eadb4ea5",
   "metadata": {},
   "outputs": [],
   "source": [
    "CIB = Bank(\"CIB\")"
   ]
  },
  {
   "cell_type": "code",
   "execution_count": 289,
   "id": "ab418c90",
   "metadata": {},
   "outputs": [],
   "source": [
    "def menu():\n",
    "    print(\"1 >> Create_new_acc\")\n",
    "    print(\"2 >> Login\")\n",
    "    print(\"3 >> Cancel\")"
   ]
  },
  {
   "cell_type": "code",
   "execution_count": 290,
   "id": "a2e02862",
   "metadata": {},
   "outputs": [
    {
     "name": "stdout",
     "output_type": "stream",
     "text": [
      "1 >> Create_new_acc\n",
      "2 >> Login\n",
      "3 >> Cancel\n",
      "Enter your option: 1\n",
      "Enter your usernameahmed\n",
      "Enter your password123\n",
      "\n",
      "Welcome, ahmed\n",
      "Please Enter a process number: \n",
      "1 >> Deposit\n",
      "2 >> Withdraw\n",
      "3 >> Check_balance\n",
      "4 >> Cancel\n",
      "1\n",
      "Enter your money: 1000\n",
      "Your money has been deposited\n",
      "Your Current Balance is:1000\n",
      "Please Enter a process number: \n",
      "1 >> Deposit\n",
      "2 >> Withdraw\n",
      "3 >> Check_balance\n",
      "4 >> Cancel\n",
      "6\n",
      "Invalid Option! Please Try again\n",
      "Please Enter a process number: \n",
      "1 >> Deposit\n",
      "2 >> Withdraw\n",
      "3 >> Check_balance\n",
      "4 >> Cancel\n",
      "4\n",
      "Thanks for using CIB\n",
      "1 >> Create_new_acc\n",
      "2 >> Login\n",
      "3 >> Cancel\n",
      "Enter your option: 3\n",
      "Thanks for using CIB\n"
     ]
    }
   ],
   "source": [
    "while True :\n",
    "    menu()\n",
    "    option = int(input(\"Enter your option: \"))\n",
    "    if option == 1 :\n",
    "        username = input(\"Enter your username\")\n",
    "        password = input(\"Enter your password\")\n",
    "        CIB.create_new(username ,password )\n",
    "    elif option == 2:\n",
    "        username = input(\"Enter your username\")\n",
    "        password = input(\"Enter your password\")\n",
    "        CIB.login(username ,password )\n",
    "    elif option == 3 :\n",
    "        print(\"Thanks for using CIB\")\n",
    "        break\n",
    "    else:\n",
    "        print(\"Check your option!!!\")"
   ]
  },
  {
   "cell_type": "code",
   "execution_count": null,
   "id": "c15b1638",
   "metadata": {},
   "outputs": [],
   "source": []
  }
 ],
 "metadata": {
  "kernelspec": {
   "display_name": "Python 3 (ipykernel)",
   "language": "python",
   "name": "python3"
  },
  "language_info": {
   "codemirror_mode": {
    "name": "ipython",
    "version": 3
   },
   "file_extension": ".py",
   "mimetype": "text/x-python",
   "name": "python",
   "nbconvert_exporter": "python",
   "pygments_lexer": "ipython3",
   "version": "3.10.9"
  }
 },
 "nbformat": 4,
 "nbformat_minor": 5
}
