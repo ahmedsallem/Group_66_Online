{
 "cells": [
  {
   "cell_type": "code",
   "execution_count": 73,
   "id": "6be57f47",
   "metadata": {},
   "outputs": [],
   "source": [
    "# Session 1"
   ]
  },
  {
   "cell_type": "code",
   "execution_count": 74,
   "id": "eff0f430",
   "metadata": {},
   "outputs": [],
   "source": [
    "x = 10   #int \n",
    "y = 10.0 # float "
   ]
  },
  {
   "cell_type": "code",
   "execution_count": 75,
   "id": "a3c55ac0",
   "metadata": {},
   "outputs": [
    {
     "data": {
      "text/plain": [
       "int"
      ]
     },
     "execution_count": 75,
     "metadata": {},
     "output_type": "execute_result"
    }
   ],
   "source": [
    "type(x)"
   ]
  },
  {
   "cell_type": "code",
   "execution_count": 76,
   "id": "a27be7a5",
   "metadata": {},
   "outputs": [
    {
     "data": {
      "text/plain": [
       "float"
      ]
     },
     "execution_count": 76,
     "metadata": {},
     "output_type": "execute_result"
    }
   ],
   "source": [
    "type(y)"
   ]
  },
  {
   "cell_type": "code",
   "execution_count": 77,
   "id": "6be1f210",
   "metadata": {},
   "outputs": [],
   "source": [
    "x , y = 10 , 10.0"
   ]
  },
  {
   "cell_type": "code",
   "execution_count": 78,
   "id": "3f5638c1",
   "metadata": {},
   "outputs": [
    {
     "name": "stdout",
     "output_type": "stream",
     "text": [
      "10\n"
     ]
    }
   ],
   "source": [
    "print(x)"
   ]
  },
  {
   "cell_type": "code",
   "execution_count": 79,
   "id": "56c137f4",
   "metadata": {},
   "outputs": [
    {
     "data": {
      "text/plain": [
       "10.0"
      ]
     },
     "execution_count": 79,
     "metadata": {},
     "output_type": "execute_result"
    }
   ],
   "source": [
    "y"
   ]
  },
  {
   "cell_type": "code",
   "execution_count": 80,
   "id": "1851f159",
   "metadata": {},
   "outputs": [],
   "source": [
    "x = y = z = 100"
   ]
  },
  {
   "cell_type": "code",
   "execution_count": 81,
   "id": "8e1c3a4e",
   "metadata": {},
   "outputs": [
    {
     "data": {
      "text/plain": [
       "100"
      ]
     },
     "execution_count": 81,
     "metadata": {},
     "output_type": "execute_result"
    }
   ],
   "source": [
    "x"
   ]
  },
  {
   "cell_type": "code",
   "execution_count": 82,
   "id": "090748a3",
   "metadata": {},
   "outputs": [
    {
     "data": {
      "text/plain": [
       "100"
      ]
     },
     "execution_count": 82,
     "metadata": {},
     "output_type": "execute_result"
    }
   ],
   "source": [
    "y"
   ]
  },
  {
   "cell_type": "code",
   "execution_count": 83,
   "id": "c2b16575",
   "metadata": {},
   "outputs": [
    {
     "data": {
      "text/plain": [
       "100"
      ]
     },
     "execution_count": 83,
     "metadata": {},
     "output_type": "execute_result"
    }
   ],
   "source": [
    "z"
   ]
  },
  {
   "cell_type": "code",
   "execution_count": 84,
   "id": "07999681",
   "metadata": {},
   "outputs": [
    {
     "data": {
      "text/plain": [
       "10"
      ]
     },
     "execution_count": 84,
     "metadata": {},
     "output_type": "execute_result"
    }
   ],
   "source": [
    "x = 10.5  #float\n",
    "int(x)"
   ]
  },
  {
   "cell_type": "code",
   "execution_count": 85,
   "id": "f49ab02e",
   "metadata": {},
   "outputs": [
    {
     "data": {
      "text/plain": [
       "10"
      ]
     },
     "execution_count": 85,
     "metadata": {},
     "output_type": "execute_result"
    }
   ],
   "source": [
    "x = int(x)\n",
    "x"
   ]
  },
  {
   "cell_type": "code",
   "execution_count": 86,
   "id": "ed115a04",
   "metadata": {},
   "outputs": [
    {
     "data": {
      "text/plain": [
       "10.0"
      ]
     },
     "execution_count": 86,
     "metadata": {},
     "output_type": "execute_result"
    }
   ],
   "source": [
    "x = float(x)\n",
    "x"
   ]
  },
  {
   "cell_type": "code",
   "execution_count": 87,
   "id": "9920d824",
   "metadata": {},
   "outputs": [],
   "source": [
    "# bool >> True == 1  or False == 0\n",
    "x = True \n",
    "x = False "
   ]
  },
  {
   "cell_type": "code",
   "execution_count": 88,
   "id": "11a810e0",
   "metadata": {},
   "outputs": [
    {
     "data": {
      "text/plain": [
       "bool"
      ]
     },
     "execution_count": 88,
     "metadata": {},
     "output_type": "execute_result"
    }
   ],
   "source": [
    "type(x)"
   ]
  },
  {
   "cell_type": "code",
   "execution_count": 89,
   "id": "772e2298",
   "metadata": {},
   "outputs": [
    {
     "data": {
      "text/plain": [
       "str"
      ]
     },
     "execution_count": 89,
     "metadata": {},
     "output_type": "execute_result"
    }
   ],
   "source": [
    "x = \"amit\"\n",
    "type(x)"
   ]
  },
  {
   "cell_type": "code",
   "execution_count": 90,
   "id": "35d298b7",
   "metadata": {},
   "outputs": [
    {
     "data": {
      "text/plain": [
       "'10'"
      ]
     },
     "execution_count": 90,
     "metadata": {},
     "output_type": "execute_result"
    }
   ],
   "source": [
    "x = 10 \n",
    "str(x)"
   ]
  },
  {
   "cell_type": "code",
   "execution_count": 91,
   "id": "04698b46",
   "metadata": {},
   "outputs": [],
   "source": [
    "name= \"amit\"\n",
    "age  = 13"
   ]
  },
  {
   "cell_type": "code",
   "execution_count": 92,
   "id": "2f00c77f",
   "metadata": {},
   "outputs": [
    {
     "name": "stdout",
     "output_type": "stream",
     "text": [
      "My name is amit and my age is 13\n"
     ]
    }
   ],
   "source": [
    "print(\"My name is \"+ name + \" and my age is \"+ str(age))"
   ]
  },
  {
   "cell_type": "code",
   "execution_count": 93,
   "id": "3e2c26e1",
   "metadata": {},
   "outputs": [
    {
     "name": "stdout",
     "output_type": "stream",
     "text": [
      "My name is amit and my age is 13\n"
     ]
    }
   ],
   "source": [
    "print(\"My name is\", name ,\"and my age is\", age)"
   ]
  },
  {
   "cell_type": "code",
   "execution_count": 94,
   "id": "279f3d0f",
   "metadata": {},
   "outputs": [
    {
     "name": "stdout",
     "output_type": "stream",
     "text": [
      "My name is amit and my age is 13.\n"
     ]
    }
   ],
   "source": [
    "print(\"My name is {} and my age is {}.\".format(name , age))"
   ]
  },
  {
   "cell_type": "code",
   "execution_count": 95,
   "id": "44c0102e",
   "metadata": {},
   "outputs": [
    {
     "name": "stdout",
     "output_type": "stream",
     "text": [
      "My name is amit and my age is 13.\n"
     ]
    }
   ],
   "source": [
    "print(f\"My name is {name} and my age is {age}.\")"
   ]
  },
  {
   "cell_type": "code",
   "execution_count": 96,
   "id": "d8583286",
   "metadata": {},
   "outputs": [],
   "source": [
    "x = \"amit learning\"\n",
    "#    0           -1"
   ]
  },
  {
   "cell_type": "code",
   "execution_count": 97,
   "id": "c5b0d2fe",
   "metadata": {},
   "outputs": [
    {
     "data": {
      "text/plain": [
       "'a'"
      ]
     },
     "execution_count": 97,
     "metadata": {},
     "output_type": "execute_result"
    }
   ],
   "source": [
    "x[0]"
   ]
  },
  {
   "cell_type": "code",
   "execution_count": 98,
   "id": "6382e90b",
   "metadata": {},
   "outputs": [
    {
     "data": {
      "text/plain": [
       "'g'"
      ]
     },
     "execution_count": 98,
     "metadata": {},
     "output_type": "execute_result"
    }
   ],
   "source": [
    "x[-1]"
   ]
  },
  {
   "cell_type": "code",
   "execution_count": 99,
   "id": "a0307c58",
   "metadata": {},
   "outputs": [],
   "source": [
    "# x[0] = \"A\""
   ]
  },
  {
   "cell_type": "code",
   "execution_count": 100,
   "id": "dae533db",
   "metadata": {},
   "outputs": [
    {
     "data": {
      "text/plain": [
       "'amit'"
      ]
     },
     "execution_count": 100,
     "metadata": {},
     "output_type": "execute_result"
    }
   ],
   "source": [
    "# x[start=0 : stop=\"last char\" \"n-1\" : step=1]\n",
    "x[0 : 4 : 1]"
   ]
  },
  {
   "cell_type": "code",
   "execution_count": 101,
   "id": "d5d6bb77",
   "metadata": {},
   "outputs": [
    {
     "data": {
      "text/plain": [
       "'gninrael tima'"
      ]
     },
     "execution_count": 101,
     "metadata": {},
     "output_type": "execute_result"
    }
   ],
   "source": [
    "x[ : : -1]"
   ]
  },
  {
   "cell_type": "code",
   "execution_count": 102,
   "id": "8400b681",
   "metadata": {},
   "outputs": [
    {
     "data": {
      "text/plain": [
       "'amit learning'"
      ]
     },
     "execution_count": 102,
     "metadata": {},
     "output_type": "execute_result"
    }
   ],
   "source": [
    "x"
   ]
  },
  {
   "cell_type": "code",
   "execution_count": 103,
   "id": "e0b91ff4",
   "metadata": {},
   "outputs": [
    {
     "data": {
      "text/plain": [
       "'AMIT LEARNING'"
      ]
     },
     "execution_count": 103,
     "metadata": {},
     "output_type": "execute_result"
    }
   ],
   "source": [
    "x.upper()"
   ]
  },
  {
   "cell_type": "code",
   "execution_count": 104,
   "id": "f2eb7093",
   "metadata": {},
   "outputs": [
    {
     "data": {
      "text/plain": [
       "'amit learning'"
      ]
     },
     "execution_count": 104,
     "metadata": {},
     "output_type": "execute_result"
    }
   ],
   "source": [
    "x.lower()"
   ]
  },
  {
   "cell_type": "code",
   "execution_count": 105,
   "id": "ee0433dd",
   "metadata": {},
   "outputs": [
    {
     "data": {
      "text/plain": [
       "'Amit Learning'"
      ]
     },
     "execution_count": 105,
     "metadata": {},
     "output_type": "execute_result"
    }
   ],
   "source": [
    "x.title()"
   ]
  },
  {
   "cell_type": "code",
   "execution_count": 106,
   "id": "d8fefa7d",
   "metadata": {},
   "outputs": [
    {
     "data": {
      "text/plain": [
       "'Amit learning'"
      ]
     },
     "execution_count": 106,
     "metadata": {},
     "output_type": "execute_result"
    }
   ],
   "source": [
    "x.capitalize()"
   ]
  },
  {
   "cell_type": "code",
   "execution_count": 107,
   "id": "3b974219",
   "metadata": {},
   "outputs": [
    {
     "data": {
      "text/plain": [
       "True"
      ]
     },
     "execution_count": 107,
     "metadata": {},
     "output_type": "execute_result"
    }
   ],
   "source": [
    "\"a\" in x   #Bool"
   ]
  },
  {
   "cell_type": "code",
   "execution_count": 108,
   "id": "d81bd668",
   "metadata": {},
   "outputs": [
    {
     "data": {
      "text/plain": [
       "True"
      ]
     },
     "execution_count": 108,
     "metadata": {},
     "output_type": "execute_result"
    }
   ],
   "source": [
    "x.startswith(\"amit\")"
   ]
  },
  {
   "cell_type": "code",
   "execution_count": 109,
   "id": "3b46acc7",
   "metadata": {},
   "outputs": [
    {
     "data": {
      "text/plain": [
       "True"
      ]
     },
     "execution_count": 109,
     "metadata": {},
     "output_type": "execute_result"
    }
   ],
   "source": [
    "x.endswith(\"ing\")"
   ]
  },
  {
   "cell_type": "code",
   "execution_count": 110,
   "id": "b804cf28",
   "metadata": {},
   "outputs": [
    {
     "data": {
      "text/plain": [
       "'       amit learning  \\t'"
      ]
     },
     "execution_count": 110,
     "metadata": {},
     "output_type": "execute_result"
    }
   ],
   "source": [
    "x = \"       amit learning  \\t\"\n",
    "x"
   ]
  },
  {
   "cell_type": "code",
   "execution_count": 111,
   "id": "cc4e9dfb",
   "metadata": {},
   "outputs": [
    {
     "data": {
      "text/plain": [
       "'amit learning'"
      ]
     },
     "execution_count": 111,
     "metadata": {},
     "output_type": "execute_result"
    }
   ],
   "source": [
    "x = x.strip()\n",
    "x"
   ]
  },
  {
   "cell_type": "code",
   "execution_count": 112,
   "id": "5246904a",
   "metadata": {},
   "outputs": [],
   "source": [
    "# x[0] = \"A\""
   ]
  },
  {
   "cell_type": "code",
   "execution_count": 113,
   "id": "e0d1838a",
   "metadata": {},
   "outputs": [
    {
     "data": {
      "text/plain": [
       "'Amit leArning'"
      ]
     },
     "execution_count": 113,
     "metadata": {},
     "output_type": "execute_result"
    }
   ],
   "source": [
    "x.replace(\"a\" , \"A\")"
   ]
  },
  {
   "cell_type": "code",
   "execution_count": 114,
   "id": "df98f026",
   "metadata": {},
   "outputs": [
    {
     "data": {
      "text/plain": [
       "'my_name_is_amit_and_my_age_is_13'"
      ]
     },
     "execution_count": 114,
     "metadata": {},
     "output_type": "execute_result"
    }
   ],
   "source": [
    "x = \"my_name_is_amit_and_my_age_is_13\"\n",
    "x"
   ]
  },
  {
   "cell_type": "code",
   "execution_count": 115,
   "id": "462a4362",
   "metadata": {},
   "outputs": [
    {
     "data": {
      "text/plain": [
       "['my', 'name', 'is', 'amit', 'and', 'my', 'age', 'is', '13']"
      ]
     },
     "execution_count": 115,
     "metadata": {},
     "output_type": "execute_result"
    }
   ],
   "source": [
    "y = x.split(\"_\")\n",
    "y"
   ]
  },
  {
   "cell_type": "code",
   "execution_count": 116,
   "id": "c26d80dc",
   "metadata": {},
   "outputs": [
    {
     "data": {
      "text/plain": [
       "'my name is amit and my age is 13'"
      ]
     },
     "execution_count": 116,
     "metadata": {},
     "output_type": "execute_result"
    }
   ],
   "source": [
    "\" \".join(y)"
   ]
  },
  {
   "cell_type": "code",
   "execution_count": 117,
   "id": "79d1e114",
   "metadata": {
    "scrolled": true
   },
   "outputs": [
    {
     "data": {
      "text/plain": [
       "'my name is amit and my age is 13'"
      ]
     },
     "execution_count": 117,
     "metadata": {},
     "output_type": "execute_result"
    }
   ],
   "source": [
    "x.replace(\"_\" , \" \")"
   ]
  },
  {
   "cell_type": "code",
   "execution_count": 119,
   "id": "d551d3fa",
   "metadata": {},
   "outputs": [
    {
     "name": "stdout",
     "output_type": "stream",
     "text": [
      "Enter your name: Amit\n"
     ]
    },
    {
     "data": {
      "text/plain": [
       "'Amit'"
      ]
     },
     "execution_count": 119,
     "metadata": {},
     "output_type": "execute_result"
    }
   ],
   "source": [
    "name = input(\"Enter your name: \")"
   ]
  },
  {
   "cell_type": "code",
   "execution_count": 118,
   "id": "c370dbf2",
   "metadata": {},
   "outputs": [],
   "source": [
    "# Session 2 "
   ]
  },
  {
   "cell_type": "code",
   "execution_count": 120,
   "id": "207de195",
   "metadata": {},
   "outputs": [],
   "source": [
    "# python oprators \n",
    "#     math operators\n",
    "#     conditions\n",
    "#     logical operators\n",
    "#     assi\n",
    "# if conditions\n",
    "# list\n",
    "# tuple \n",
    "# set\n",
    "# dict\n",
    "# loops >> for loop , while loop"
   ]
  },
  {
   "cell_type": "code",
   "execution_count": 121,
   "id": "28139eeb",
   "metadata": {},
   "outputs": [
    {
     "data": {
      "text/plain": [
       "20"
      ]
     },
     "execution_count": 121,
     "metadata": {},
     "output_type": "execute_result"
    }
   ],
   "source": [
    "10 +10"
   ]
  },
  {
   "cell_type": "code",
   "execution_count": 122,
   "id": "d826235d",
   "metadata": {},
   "outputs": [
    {
     "data": {
      "text/plain": [
       "0"
      ]
     },
     "execution_count": 122,
     "metadata": {},
     "output_type": "execute_result"
    }
   ],
   "source": [
    "1-1"
   ]
  },
  {
   "cell_type": "code",
   "execution_count": 123,
   "id": "c5e25473",
   "metadata": {},
   "outputs": [
    {
     "data": {
      "text/plain": [
       "1"
      ]
     },
     "execution_count": 123,
     "metadata": {},
     "output_type": "execute_result"
    }
   ],
   "source": [
    "1 * 1 "
   ]
  },
  {
   "cell_type": "code",
   "execution_count": 124,
   "id": "6ea4d398",
   "metadata": {},
   "outputs": [
    {
     "data": {
      "text/plain": [
       "3.3333333333333335"
      ]
     },
     "execution_count": 124,
     "metadata": {},
     "output_type": "execute_result"
    }
   ],
   "source": [
    "10/3"
   ]
  },
  {
   "cell_type": "code",
   "execution_count": 125,
   "id": "2ea0d232",
   "metadata": {},
   "outputs": [
    {
     "data": {
      "text/plain": [
       "3"
      ]
     },
     "execution_count": 125,
     "metadata": {},
     "output_type": "execute_result"
    }
   ],
   "source": [
    "10 // 3"
   ]
  },
  {
   "cell_type": "code",
   "execution_count": 126,
   "id": "758ee64d",
   "metadata": {},
   "outputs": [
    {
     "data": {
      "text/plain": [
       "9"
      ]
     },
     "execution_count": 126,
     "metadata": {},
     "output_type": "execute_result"
    }
   ],
   "source": [
    "3 ** 2"
   ]
  },
  {
   "cell_type": "code",
   "execution_count": 127,
   "id": "095d4d20",
   "metadata": {},
   "outputs": [
    {
     "data": {
      "text/plain": [
       "9"
      ]
     },
     "execution_count": 127,
     "metadata": {},
     "output_type": "execute_result"
    }
   ],
   "source": [
    "pow(3,2)"
   ]
  },
  {
   "cell_type": "code",
   "execution_count": 129,
   "id": "8e3c49c6",
   "metadata": {},
   "outputs": [
    {
     "data": {
      "text/plain": [
       "1"
      ]
     },
     "execution_count": 129,
     "metadata": {},
     "output_type": "execute_result"
    }
   ],
   "source": [
    "10 % 3 "
   ]
  },
  {
   "cell_type": "code",
   "execution_count": 130,
   "id": "4bf25906",
   "metadata": {},
   "outputs": [
    {
     "data": {
      "text/plain": [
       "10"
      ]
     },
     "execution_count": 130,
     "metadata": {},
     "output_type": "execute_result"
    }
   ],
   "source": [
    "abs(-10)"
   ]
  },
  {
   "cell_type": "code",
   "execution_count": 131,
   "id": "ba0664e2",
   "metadata": {},
   "outputs": [
    {
     "data": {
      "text/plain": [
       "True"
      ]
     },
     "execution_count": 131,
     "metadata": {},
     "output_type": "execute_result"
    }
   ],
   "source": [
    "10 > 9 #>> Bool"
   ]
  },
  {
   "cell_type": "code",
   "execution_count": 132,
   "id": "081fc5ff",
   "metadata": {},
   "outputs": [
    {
     "data": {
      "text/plain": [
       "True"
      ]
     },
     "execution_count": 132,
     "metadata": {},
     "output_type": "execute_result"
    }
   ],
   "source": [
    "10 >= 9"
   ]
  },
  {
   "cell_type": "code",
   "execution_count": 133,
   "id": "74e82b37",
   "metadata": {},
   "outputs": [
    {
     "data": {
      "text/plain": [
       "True"
      ]
     },
     "execution_count": 133,
     "metadata": {},
     "output_type": "execute_result"
    }
   ],
   "source": [
    "10 != 9"
   ]
  },
  {
   "cell_type": "code",
   "execution_count": 134,
   "id": "dc36f190",
   "metadata": {},
   "outputs": [
    {
     "data": {
      "text/plain": [
       "True"
      ]
     },
     "execution_count": 134,
     "metadata": {},
     "output_type": "execute_result"
    }
   ],
   "source": [
    "10 == 10 "
   ]
  },
  {
   "cell_type": "code",
   "execution_count": 137,
   "id": "e07ca3bf",
   "metadata": {},
   "outputs": [
    {
     "data": {
      "text/plain": [
       "True"
      ]
     },
     "execution_count": 137,
     "metadata": {},
     "output_type": "execute_result"
    }
   ],
   "source": [
    "10 > 9 and 10 == 10 "
   ]
  },
  {
   "cell_type": "code",
   "execution_count": 139,
   "id": "da600de9",
   "metadata": {},
   "outputs": [
    {
     "data": {
      "text/plain": [
       "True"
      ]
     },
     "execution_count": 139,
     "metadata": {},
     "output_type": "execute_result"
    }
   ],
   "source": [
    "10 > 11  or 10 < 11 "
   ]
  },
  {
   "cell_type": "code",
   "execution_count": 140,
   "id": "c2eb8a65",
   "metadata": {},
   "outputs": [
    {
     "data": {
      "text/plain": [
       "False"
      ]
     },
     "execution_count": 140,
     "metadata": {},
     "output_type": "execute_result"
    }
   ],
   "source": [
    "not True "
   ]
  },
  {
   "cell_type": "code",
   "execution_count": 141,
   "id": "83a97ba9",
   "metadata": {},
   "outputs": [
    {
     "data": {
      "text/plain": [
       "True"
      ]
     },
     "execution_count": 141,
     "metadata": {},
     "output_type": "execute_result"
    }
   ],
   "source": [
    "not False "
   ]
  },
  {
   "cell_type": "code",
   "execution_count": 142,
   "id": "713cce3b",
   "metadata": {},
   "outputs": [
    {
     "data": {
      "text/plain": [
       "11"
      ]
     },
     "execution_count": 142,
     "metadata": {},
     "output_type": "execute_result"
    }
   ],
   "source": [
    "x = 10 \n",
    "x += 1 \n",
    "x"
   ]
  },
  {
   "cell_type": "code",
   "execution_count": 144,
   "id": "877c731c",
   "metadata": {},
   "outputs": [
    {
     "name": "stdout",
     "output_type": "stream",
     "text": [
      "Enter your name: Ahmed\n",
      "Good\n"
     ]
    }
   ],
   "source": [
    "x = input(\"Enter your name: \")\n",
    "if x.startswith(\"A\"):\n",
    "    print(\"Good\")\n",
    "else:\n",
    "    print(\"check!\")"
   ]
  },
  {
   "cell_type": "code",
   "execution_count": 146,
   "id": "729433ad",
   "metadata": {},
   "outputs": [
    {
     "name": "stdout",
     "output_type": "stream",
     "text": [
      "Even\n"
     ]
    }
   ],
   "source": [
    "if 10 % 2 == 0 :\n",
    "    print(\"Even\")\n",
    "else:\n",
    "    print(\"Odd\")"
   ]
  },
  {
   "cell_type": "code",
   "execution_count": 147,
   "id": "13edc97b",
   "metadata": {},
   "outputs": [],
   "source": [
    "y = 10 \n",
    "x = \"Even\" if y % 2 == 0 else \"Odd\""
   ]
  },
  {
   "cell_type": "code",
   "execution_count": 148,
   "id": "64657a6c",
   "metadata": {},
   "outputs": [
    {
     "data": {
      "text/plain": [
       "'Even'"
      ]
     },
     "execution_count": 148,
     "metadata": {},
     "output_type": "execute_result"
    }
   ],
   "source": [
    "x"
   ]
  },
  {
   "cell_type": "code",
   "execution_count": 150,
   "id": "bd395022",
   "metadata": {},
   "outputs": [],
   "source": [
    "# list \n",
    "lst = []  #or list()\n",
    "lst.extend((1,2,3,4))"
   ]
  },
  {
   "cell_type": "code",
   "execution_count": 151,
   "id": "820162e8",
   "metadata": {},
   "outputs": [
    {
     "data": {
      "text/plain": [
       "[1, 2, 3, 4]"
      ]
     },
     "execution_count": 151,
     "metadata": {},
     "output_type": "execute_result"
    }
   ],
   "source": [
    "lst"
   ]
  },
  {
   "cell_type": "code",
   "execution_count": 152,
   "id": "41968253",
   "metadata": {},
   "outputs": [],
   "source": [
    "lst.append(5)"
   ]
  },
  {
   "cell_type": "code",
   "execution_count": 153,
   "id": "bff1d63b",
   "metadata": {},
   "outputs": [
    {
     "data": {
      "text/plain": [
       "[1, 2, 3, 4, 5]"
      ]
     },
     "execution_count": 153,
     "metadata": {},
     "output_type": "execute_result"
    }
   ],
   "source": [
    "lst"
   ]
  },
  {
   "cell_type": "code",
   "execution_count": 158,
   "id": "3b0bf68c",
   "metadata": {},
   "outputs": [],
   "source": [
    "lst.insert(-1 , 6) # 3 run"
   ]
  },
  {
   "cell_type": "code",
   "execution_count": 160,
   "id": "93da504b",
   "metadata": {},
   "outputs": [
    {
     "data": {
      "text/plain": [
       "[1, 2, 3, 4, 6, 6, 6, 5]"
      ]
     },
     "execution_count": 160,
     "metadata": {},
     "output_type": "execute_result"
    }
   ],
   "source": [
    "lst"
   ]
  },
  {
   "cell_type": "code",
   "execution_count": 161,
   "id": "b58f8fdd",
   "metadata": {},
   "outputs": [],
   "source": [
    "# lst.extend(seq)\n",
    "# lst.append(value)\n",
    "# lst.insert(index , value)"
   ]
  },
  {
   "cell_type": "code",
   "execution_count": 162,
   "id": "2e95389c",
   "metadata": {},
   "outputs": [],
   "source": [
    "lst.remove(6)"
   ]
  },
  {
   "cell_type": "code",
   "execution_count": 163,
   "id": "e1ac9230",
   "metadata": {},
   "outputs": [
    {
     "data": {
      "text/plain": [
       "[1, 2, 3, 4, 6, 6, 5]"
      ]
     },
     "execution_count": 163,
     "metadata": {},
     "output_type": "execute_result"
    }
   ],
   "source": [
    "lst"
   ]
  },
  {
   "cell_type": "code",
   "execution_count": 164,
   "id": "5006824f",
   "metadata": {},
   "outputs": [
    {
     "data": {
      "text/plain": [
       "5"
      ]
     },
     "execution_count": 164,
     "metadata": {},
     "output_type": "execute_result"
    }
   ],
   "source": [
    "lst.pop()  # default =-1"
   ]
  },
  {
   "cell_type": "code",
   "execution_count": 165,
   "id": "f3ac820a",
   "metadata": {},
   "outputs": [
    {
     "data": {
      "text/plain": [
       "[1, 2, 3, 4, 6, 6]"
      ]
     },
     "execution_count": 165,
     "metadata": {},
     "output_type": "execute_result"
    }
   ],
   "source": [
    "lst"
   ]
  },
  {
   "cell_type": "code",
   "execution_count": 166,
   "id": "59e1d7ef",
   "metadata": {},
   "outputs": [],
   "source": [
    "lst.append(lst.pop(0))"
   ]
  },
  {
   "cell_type": "code",
   "execution_count": 167,
   "id": "63f9e68e",
   "metadata": {},
   "outputs": [
    {
     "data": {
      "text/plain": [
       "[2, 3, 4, 6, 6, 1]"
      ]
     },
     "execution_count": 167,
     "metadata": {},
     "output_type": "execute_result"
    }
   ],
   "source": [
    "lst"
   ]
  },
  {
   "cell_type": "code",
   "execution_count": 168,
   "id": "435cd50c",
   "metadata": {},
   "outputs": [],
   "source": [
    "del lst[-1]"
   ]
  },
  {
   "cell_type": "code",
   "execution_count": 169,
   "id": "88602890",
   "metadata": {},
   "outputs": [
    {
     "data": {
      "text/plain": [
       "[2, 3, 4, 6, 6]"
      ]
     },
     "execution_count": 169,
     "metadata": {},
     "output_type": "execute_result"
    }
   ],
   "source": [
    "lst"
   ]
  },
  {
   "cell_type": "code",
   "execution_count": 170,
   "id": "8b852a0f",
   "metadata": {},
   "outputs": [],
   "source": [
    "# lst.remove(item)\n",
    "# lst.pop(index)\n",
    "# del lst[index]"
   ]
  },
  {
   "cell_type": "code",
   "execution_count": 171,
   "id": "c3d6ea2d",
   "metadata": {},
   "outputs": [
    {
     "data": {
      "text/plain": [
       "[2, 3, 4, 6, 6]"
      ]
     },
     "execution_count": 171,
     "metadata": {},
     "output_type": "execute_result"
    }
   ],
   "source": [
    "lst"
   ]
  },
  {
   "cell_type": "code",
   "execution_count": 175,
   "id": "74f58238",
   "metadata": {},
   "outputs": [
    {
     "data": {
      "text/plain": [
       "2"
      ]
     },
     "execution_count": 175,
     "metadata": {},
     "output_type": "execute_result"
    }
   ],
   "source": [
    "# lst.count(item)\n",
    "lst.count(6)"
   ]
  },
  {
   "cell_type": "code",
   "execution_count": 176,
   "id": "73534957",
   "metadata": {},
   "outputs": [
    {
     "data": {
      "text/plain": [
       "1"
      ]
     },
     "execution_count": 176,
     "metadata": {},
     "output_type": "execute_result"
    }
   ],
   "source": [
    "# lst.index(item)\n",
    "lst.index(3)"
   ]
  },
  {
   "cell_type": "code",
   "execution_count": 179,
   "id": "d7eba4b0",
   "metadata": {},
   "outputs": [
    {
     "name": "stdout",
     "output_type": "stream",
     "text": [
      "Error: 110 is not in list\n"
     ]
    }
   ],
   "source": [
    "try:\n",
    "    print(lst.index(110))\n",
    "except Exception as e :\n",
    "    print(f\"Error: {e}\")"
   ]
  },
  {
   "cell_type": "code",
   "execution_count": 180,
   "id": "17c27dc3",
   "metadata": {},
   "outputs": [],
   "source": [
    "lst2 = lst.copy()"
   ]
  },
  {
   "cell_type": "code",
   "execution_count": 181,
   "id": "04718e7b",
   "metadata": {},
   "outputs": [
    {
     "data": {
      "text/plain": [
       "[2, 3, 4, 6, 6]"
      ]
     },
     "execution_count": 181,
     "metadata": {},
     "output_type": "execute_result"
    }
   ],
   "source": [
    "lst2"
   ]
  },
  {
   "cell_type": "code",
   "execution_count": 182,
   "id": "3f3f04e3",
   "metadata": {},
   "outputs": [
    {
     "data": {
      "text/plain": [
       "[2, 3, 4, 6, 6]"
      ]
     },
     "execution_count": 182,
     "metadata": {},
     "output_type": "execute_result"
    }
   ],
   "source": [
    "lst"
   ]
  },
  {
   "cell_type": "code",
   "execution_count": 183,
   "id": "f3d369ec",
   "metadata": {},
   "outputs": [],
   "source": [
    "lst.clear()"
   ]
  },
  {
   "cell_type": "code",
   "execution_count": 184,
   "id": "409d7aa8",
   "metadata": {},
   "outputs": [
    {
     "data": {
      "text/plain": [
       "[]"
      ]
     },
     "execution_count": 184,
     "metadata": {},
     "output_type": "execute_result"
    }
   ],
   "source": [
    "lst"
   ]
  },
  {
   "cell_type": "code",
   "execution_count": 186,
   "id": "4e061faf",
   "metadata": {},
   "outputs": [],
   "source": [
    "# tuple\n",
    "t = (1,2,3)   #or tuple()"
   ]
  },
  {
   "cell_type": "code",
   "execution_count": 187,
   "id": "4ebf5019",
   "metadata": {},
   "outputs": [
    {
     "data": {
      "text/plain": [
       "1"
      ]
     },
     "execution_count": 187,
     "metadata": {},
     "output_type": "execute_result"
    }
   ],
   "source": [
    "t[0]"
   ]
  },
  {
   "cell_type": "code",
   "execution_count": 189,
   "id": "4c281400",
   "metadata": {},
   "outputs": [],
   "source": [
    "x , y = t[0:2]"
   ]
  },
  {
   "cell_type": "code",
   "execution_count": 190,
   "id": "82cf9fd7",
   "metadata": {},
   "outputs": [
    {
     "data": {
      "text/plain": [
       "1"
      ]
     },
     "execution_count": 190,
     "metadata": {},
     "output_type": "execute_result"
    }
   ],
   "source": [
    "x"
   ]
  },
  {
   "cell_type": "code",
   "execution_count": 191,
   "id": "de1de182",
   "metadata": {},
   "outputs": [
    {
     "data": {
      "text/plain": [
       "2"
      ]
     },
     "execution_count": 191,
     "metadata": {},
     "output_type": "execute_result"
    }
   ],
   "source": [
    "y"
   ]
  },
  {
   "cell_type": "code",
   "execution_count": 192,
   "id": "2865d597",
   "metadata": {},
   "outputs": [
    {
     "data": {
      "text/plain": [
       "1"
      ]
     },
     "execution_count": 192,
     "metadata": {},
     "output_type": "execute_result"
    }
   ],
   "source": [
    "t.count(1)"
   ]
  },
  {
   "cell_type": "code",
   "execution_count": 193,
   "id": "bbf6ca67",
   "metadata": {},
   "outputs": [
    {
     "data": {
      "text/plain": [
       "0"
      ]
     },
     "execution_count": 193,
     "metadata": {},
     "output_type": "execute_result"
    }
   ],
   "source": [
    "t.index(1)"
   ]
  },
  {
   "cell_type": "code",
   "execution_count": 194,
   "id": "9afbf07e",
   "metadata": {},
   "outputs": [
    {
     "data": {
      "text/plain": [
       "(1, 2, 3, 10)"
      ]
     },
     "execution_count": 194,
     "metadata": {},
     "output_type": "execute_result"
    }
   ],
   "source": [
    "t + (10,)"
   ]
  },
  {
   "cell_type": "code",
   "execution_count": 195,
   "id": "e575854a",
   "metadata": {},
   "outputs": [],
   "source": [
    "# set"
   ]
  },
  {
   "cell_type": "code",
   "execution_count": 196,
   "id": "6b7c1c40",
   "metadata": {},
   "outputs": [],
   "source": [
    "s = {1,2,3,4}"
   ]
  },
  {
   "cell_type": "code",
   "execution_count": 197,
   "id": "25fd7145",
   "metadata": {},
   "outputs": [
    {
     "data": {
      "text/plain": [
       "4"
      ]
     },
     "execution_count": 197,
     "metadata": {},
     "output_type": "execute_result"
    }
   ],
   "source": [
    "len(s)"
   ]
  },
  {
   "cell_type": "code",
   "execution_count": 198,
   "id": "a96b1f2e",
   "metadata": {},
   "outputs": [
    {
     "data": {
      "text/plain": [
       "set"
      ]
     },
     "execution_count": 198,
     "metadata": {},
     "output_type": "execute_result"
    }
   ],
   "source": [
    "type(s)"
   ]
  },
  {
   "cell_type": "code",
   "execution_count": 201,
   "id": "71e0464b",
   "metadata": {},
   "outputs": [],
   "source": [
    "s.add(5)"
   ]
  },
  {
   "cell_type": "code",
   "execution_count": 202,
   "id": "a20a14c4",
   "metadata": {},
   "outputs": [
    {
     "data": {
      "text/plain": [
       "{1, 2, 3, 4, 5}"
      ]
     },
     "execution_count": 202,
     "metadata": {},
     "output_type": "execute_result"
    }
   ],
   "source": [
    "s"
   ]
  },
  {
   "cell_type": "code",
   "execution_count": 203,
   "id": "366ca416",
   "metadata": {},
   "outputs": [],
   "source": [
    "s.update((6,7,8))"
   ]
  },
  {
   "cell_type": "code",
   "execution_count": 204,
   "id": "3ea7ecdb",
   "metadata": {},
   "outputs": [
    {
     "data": {
      "text/plain": [
       "{1, 2, 3, 4, 5, 6, 7, 8}"
      ]
     },
     "execution_count": 204,
     "metadata": {},
     "output_type": "execute_result"
    }
   ],
   "source": [
    "s"
   ]
  },
  {
   "cell_type": "code",
   "execution_count": 205,
   "id": "96665bc2",
   "metadata": {},
   "outputs": [
    {
     "data": {
      "text/plain": [
       "{1, 2, 3, 4, 5, 6}"
      ]
     },
     "execution_count": 205,
     "metadata": {},
     "output_type": "execute_result"
    }
   ],
   "source": [
    "A = {1,2,3,4}\n",
    "B = {3,4,5,6}\n",
    "A.union(B)"
   ]
  },
  {
   "cell_type": "code",
   "execution_count": 206,
   "id": "d048270a",
   "metadata": {},
   "outputs": [
    {
     "data": {
      "text/plain": [
       "{3, 4}"
      ]
     },
     "execution_count": 206,
     "metadata": {},
     "output_type": "execute_result"
    }
   ],
   "source": [
    "A.intersection(B)"
   ]
  },
  {
   "cell_type": "code",
   "execution_count": 207,
   "id": "cb9bb3a1",
   "metadata": {},
   "outputs": [
    {
     "data": {
      "text/plain": [
       "{1, 2}"
      ]
     },
     "execution_count": 207,
     "metadata": {},
     "output_type": "execute_result"
    }
   ],
   "source": [
    "A.difference(B)"
   ]
  },
  {
   "cell_type": "code",
   "execution_count": 208,
   "id": "b19c98ce",
   "metadata": {},
   "outputs": [],
   "source": [
    "A.intersection_update(B)"
   ]
  },
  {
   "cell_type": "code",
   "execution_count": 209,
   "id": "c5a2f971",
   "metadata": {},
   "outputs": [
    {
     "data": {
      "text/plain": [
       "{3, 4}"
      ]
     },
     "execution_count": 209,
     "metadata": {},
     "output_type": "execute_result"
    }
   ],
   "source": [
    "A"
   ]
  },
  {
   "cell_type": "code",
   "execution_count": 212,
   "id": "5f84497b",
   "metadata": {},
   "outputs": [],
   "source": [
    "# Dictionary \n",
    "d = {\"k1\":10 , \"k2\": \"amit\"}"
   ]
  },
  {
   "cell_type": "code",
   "execution_count": 213,
   "id": "c0e76a3c",
   "metadata": {},
   "outputs": [
    {
     "data": {
      "text/plain": [
       "{'k1': 10, 'k2': 'amit'}"
      ]
     },
     "execution_count": 213,
     "metadata": {},
     "output_type": "execute_result"
    }
   ],
   "source": [
    "d"
   ]
  },
  {
   "cell_type": "code",
   "execution_count": 214,
   "id": "e2c52bce",
   "metadata": {
    "scrolled": true
   },
   "outputs": [
    {
     "data": {
      "text/plain": [
       "10"
      ]
     },
     "execution_count": 214,
     "metadata": {},
     "output_type": "execute_result"
    }
   ],
   "source": [
    "d[\"k1\"]"
   ]
  },
  {
   "cell_type": "code",
   "execution_count": 219,
   "id": "bb2fef44",
   "metadata": {},
   "outputs": [
    {
     "data": {
      "text/plain": [
       "{'k1': 100, 'k2': 'amit'}"
      ]
     },
     "execution_count": 219,
     "metadata": {},
     "output_type": "execute_result"
    }
   ],
   "source": [
    "d[\"k1\"] = 100\n",
    "d"
   ]
  },
  {
   "cell_type": "code",
   "execution_count": 215,
   "id": "fc7c3939",
   "metadata": {},
   "outputs": [
    {
     "data": {
      "text/plain": [
       "'amit'"
      ]
     },
     "execution_count": 215,
     "metadata": {},
     "output_type": "execute_result"
    }
   ],
   "source": [
    "d.get(\"k2\")"
   ]
  },
  {
   "cell_type": "code",
   "execution_count": 216,
   "id": "a769a8ae",
   "metadata": {},
   "outputs": [
    {
     "data": {
      "text/plain": [
       "dict_items([('k1', 10), ('k2', 'amit')])"
      ]
     },
     "execution_count": 216,
     "metadata": {},
     "output_type": "execute_result"
    }
   ],
   "source": [
    "d.items()"
   ]
  },
  {
   "cell_type": "code",
   "execution_count": 217,
   "id": "35cd2fa0",
   "metadata": {},
   "outputs": [
    {
     "data": {
      "text/plain": [
       "dict_values([10, 'amit'])"
      ]
     },
     "execution_count": 217,
     "metadata": {},
     "output_type": "execute_result"
    }
   ],
   "source": [
    "d.values()"
   ]
  },
  {
   "cell_type": "code",
   "execution_count": 218,
   "id": "5e6ee279",
   "metadata": {},
   "outputs": [
    {
     "data": {
      "text/plain": [
       "dict_keys(['k1', 'k2'])"
      ]
     },
     "execution_count": 218,
     "metadata": {},
     "output_type": "execute_result"
    }
   ],
   "source": [
    "d.keys()"
   ]
  },
  {
   "cell_type": "code",
   "execution_count": 220,
   "id": "c35aa119",
   "metadata": {},
   "outputs": [],
   "source": [
    "d[\"k3\"] = \"machine\""
   ]
  },
  {
   "cell_type": "code",
   "execution_count": 221,
   "id": "a32cfd04",
   "metadata": {},
   "outputs": [
    {
     "data": {
      "text/plain": [
       "{'k1': 100, 'k2': 'amit', 'k3': 'machine'}"
      ]
     },
     "execution_count": 221,
     "metadata": {},
     "output_type": "execute_result"
    }
   ],
   "source": [
    "d"
   ]
  },
  {
   "cell_type": "code",
   "execution_count": 222,
   "id": "273a4185",
   "metadata": {},
   "outputs": [],
   "source": [
    "del d[\"k1\"]"
   ]
  },
  {
   "cell_type": "code",
   "execution_count": 223,
   "id": "4983f5e5",
   "metadata": {},
   "outputs": [
    {
     "data": {
      "text/plain": [
       "{'k2': 'amit', 'k3': 'machine'}"
      ]
     },
     "execution_count": 223,
     "metadata": {},
     "output_type": "execute_result"
    }
   ],
   "source": [
    "d"
   ]
  },
  {
   "cell_type": "code",
   "execution_count": 224,
   "id": "d7eac2af",
   "metadata": {},
   "outputs": [
    {
     "name": "stdout",
     "output_type": "stream",
     "text": [
      "1\n",
      "2\n",
      "3\n",
      "4\n",
      "5\n",
      "6\n",
      "7\n",
      "8\n"
     ]
    }
   ],
   "source": [
    "lst = [1,2,3,4,5,6,7,8]\n",
    "for i in lst:\n",
    "    print(i)"
   ]
  },
  {
   "cell_type": "code",
   "execution_count": 225,
   "id": "0892d891",
   "metadata": {},
   "outputs": [
    {
     "data": {
      "text/plain": [
       "[2, 4, 6, 8, 10, 12, 14, 16]"
      ]
     },
     "execution_count": 225,
     "metadata": {},
     "output_type": "execute_result"
    }
   ],
   "source": [
    "l = []\n",
    "for i in lst :\n",
    "    l.append(i * 2) \n",
    "l"
   ]
  },
  {
   "cell_type": "code",
   "execution_count": 228,
   "id": "63f47692",
   "metadata": {},
   "outputs": [],
   "source": [
    "# lst * 2"
   ]
  },
  {
   "cell_type": "code",
   "execution_count": 229,
   "id": "a238c734",
   "metadata": {},
   "outputs": [
    {
     "data": {
      "text/plain": [
       "[1, 2, 3, 4, 5, 6, 7, 8]"
      ]
     },
     "execution_count": 229,
     "metadata": {},
     "output_type": "execute_result"
    }
   ],
   "source": [
    "lst"
   ]
  },
  {
   "cell_type": "code",
   "execution_count": 233,
   "id": "fc620509",
   "metadata": {},
   "outputs": [],
   "source": [
    "res = 1          #1* 2* 3* 4* 5* 6* 7* 8\n",
    "for i in lst :\n",
    "    res *= i "
   ]
  },
  {
   "cell_type": "code",
   "execution_count": 234,
   "id": "62db9331",
   "metadata": {},
   "outputs": [
    {
     "data": {
      "text/plain": [
       "40320"
      ]
     },
     "execution_count": 234,
     "metadata": {},
     "output_type": "execute_result"
    }
   ],
   "source": [
    "res"
   ]
  },
  {
   "cell_type": "code",
   "execution_count": 235,
   "id": "71069373",
   "metadata": {},
   "outputs": [],
   "source": [
    "lst = [[1,2,3] , [3,4,5] , [5,6,7]]"
   ]
  },
  {
   "cell_type": "code",
   "execution_count": 238,
   "id": "9332fdbe",
   "metadata": {},
   "outputs": [
    {
     "name": "stdout",
     "output_type": "stream",
     "text": [
      "[1, 2, 3]\n",
      "1\n",
      "2\n",
      "3\n",
      "[3, 4, 5]\n",
      "3\n",
      "4\n",
      "5\n",
      "[5, 6, 7]\n",
      "5\n",
      "6\n",
      "7\n"
     ]
    }
   ],
   "source": [
    "for i in lst:\n",
    "    print(i)\n",
    "    for j in i:\n",
    "        print(j)  "
   ]
  },
  {
   "cell_type": "code",
   "execution_count": 241,
   "id": "b8277bfa",
   "metadata": {},
   "outputs": [
    {
     "data": {
      "text/plain": [
       "[2, 4, 6, 8, 10, 12, 14, 16]"
      ]
     },
     "execution_count": 241,
     "metadata": {},
     "output_type": "execute_result"
    }
   ],
   "source": [
    "lst = [1,2,3,4,5,6,7,8]\n",
    "l = []\n",
    "for i in lst :\n",
    "    l.append(i * 2) \n",
    "l"
   ]
  },
  {
   "cell_type": "code",
   "execution_count": 242,
   "id": "6359b3a4",
   "metadata": {},
   "outputs": [
    {
     "data": {
      "text/plain": [
       "[2, 4, 6, 8, 10, 12, 14, 16]"
      ]
     },
     "execution_count": 242,
     "metadata": {},
     "output_type": "execute_result"
    }
   ],
   "source": [
    "[i*2 for i in lst]"
   ]
  },
  {
   "cell_type": "code",
   "execution_count": 243,
   "id": "48fc0218",
   "metadata": {},
   "outputs": [
    {
     "data": {
      "text/plain": [
       "[1, 2, 3, 4, 5, 6, 7, 8]"
      ]
     },
     "execution_count": 243,
     "metadata": {},
     "output_type": "execute_result"
    }
   ],
   "source": [
    "lst"
   ]
  },
  {
   "cell_type": "code",
   "execution_count": 244,
   "id": "87f5b0d8",
   "metadata": {},
   "outputs": [
    {
     "data": {
      "text/plain": [
       "[2, 4, 6, 8]"
      ]
     },
     "execution_count": 244,
     "metadata": {},
     "output_type": "execute_result"
    }
   ],
   "source": [
    "[i for i in lst if i % 2 ==0]"
   ]
  },
  {
   "cell_type": "code",
   "execution_count": 248,
   "id": "99df2a6c",
   "metadata": {},
   "outputs": [
    {
     "data": {
      "text/plain": [
       "[1, 3, 5, 7]"
      ]
     },
     "execution_count": 248,
     "metadata": {},
     "output_type": "execute_result"
    }
   ],
   "source": [
    "[i for i in lst if i % 2 !=0]"
   ]
  },
  {
   "cell_type": "code",
   "execution_count": 250,
   "id": "bacf4d10",
   "metadata": {},
   "outputs": [
    {
     "name": "stdout",
     "output_type": "stream",
     "text": [
      "1\n",
      "2\n",
      "3\n",
      "4\n"
     ]
    }
   ],
   "source": [
    "lst = [1,2,3,4,5,6,7,8]\n",
    "for i in lst:\n",
    "    if i == 5 : # 5 == 5 > True \n",
    "        break\n",
    "    else:\n",
    "        print(i)"
   ]
  },
  {
   "cell_type": "code",
   "execution_count": 251,
   "id": "690d3e13",
   "metadata": {},
   "outputs": [
    {
     "name": "stdout",
     "output_type": "stream",
     "text": [
      "1\n",
      "2\n",
      "3\n",
      "4\n",
      "6\n",
      "7\n",
      "8\n"
     ]
    }
   ],
   "source": [
    "lst = [1,2,3,4,5,6,7,8]\n",
    "for i in lst:\n",
    "    if i == 5 : # 5 == 5 > True \n",
    "        continue\n",
    "        print(\"amit\")\n",
    "    else:\n",
    "        print(i)"
   ]
  },
  {
   "cell_type": "code",
   "execution_count": 259,
   "id": "ab67ad9f",
   "metadata": {},
   "outputs": [
    {
     "name": "stdout",
     "output_type": "stream",
     "text": [
      "1\n",
      "2\n",
      "3\n",
      "4\n",
      "amit\n",
      "6\n",
      "7\n",
      "8\n"
     ]
    }
   ],
   "source": [
    "lst = [1,2,3,4,5,6,7,8]\n",
    "for i in lst:\n",
    "    if i == 5 : # 5 == 5 > True \n",
    "        pass\n",
    "        print(\"amit\")\n",
    "    else:\n",
    "        print(i)"
   ]
  },
  {
   "cell_type": "code",
   "execution_count": 260,
   "id": "1c935088",
   "metadata": {},
   "outputs": [],
   "source": [
    "if 5 == 5 :\n",
    "    pass\n",
    "else:\n",
    "    print(123)"
   ]
  },
  {
   "cell_type": "code",
   "execution_count": 262,
   "id": "42e9eb87",
   "metadata": {},
   "outputs": [
    {
     "name": "stdout",
     "output_type": "stream",
     "text": [
      "0 hamadaaaaaa\n",
      "1 hamadaaaaaa\n",
      "2 hamadaaaaaa\n",
      "3 hamadaaaaaa\n",
      "4 hamadaaaaaa\n",
      "5 hamadaaaaaa\n",
      "6 hamadaaaaaa\n",
      "7 hamadaaaaaa\n",
      "8 hamadaaaaaa\n",
      "9 hamadaaaaaa\n",
      "10 hamadaaaaaa\n"
     ]
    }
   ],
   "source": [
    "x = 0\n",
    "while x <= 10  : #11<= 10 >False \n",
    "    print(x, \"hamadaaaaaa\")\n",
    "    x +=1"
   ]
  },
  {
   "cell_type": "code",
   "execution_count": 263,
   "id": "9d1a4b34",
   "metadata": {},
   "outputs": [],
   "source": [
    "# Session 3 \n",
    "# Functions \n",
    "# scope\n",
    "# module\n",
    "# file handling"
   ]
  },
  {
   "cell_type": "code",
   "execution_count": 264,
   "id": "0286df81",
   "metadata": {},
   "outputs": [],
   "source": [
    "# def fun_name(arg1 , arg2):\n",
    "#     statements...\n",
    "#     .\n",
    "#     ..\n",
    "#     .\n",
    "#     .\n",
    "#     .\n",
    "#     .\n",
    "#     ..\n",
    "#     ..\n",
    "#     .\n",
    "#     .\n",
    "#     .\n",
    "#     return kflg "
   ]
  },
  {
   "cell_type": "code",
   "execution_count": 280,
   "id": "a00d3d35",
   "metadata": {},
   "outputs": [],
   "source": [
    "def say_hello(name = \"Amit\"):\n",
    "    return f\"Welcome {name}\""
   ]
  },
  {
   "cell_type": "code",
   "execution_count": 281,
   "id": "e227a26d",
   "metadata": {},
   "outputs": [
    {
     "data": {
      "text/plain": [
       "'Welcome Amit'"
      ]
     },
     "execution_count": 281,
     "metadata": {},
     "output_type": "execute_result"
    }
   ],
   "source": [
    "say_hello()"
   ]
  },
  {
   "cell_type": "code",
   "execution_count": 282,
   "id": "862a2c7e",
   "metadata": {},
   "outputs": [
    {
     "data": {
      "text/plain": [
       "'Welcome Abdo'"
      ]
     },
     "execution_count": 282,
     "metadata": {},
     "output_type": "execute_result"
    }
   ],
   "source": [
    "say_hello(\"Abdo\")"
   ]
  },
  {
   "cell_type": "code",
   "execution_count": 283,
   "id": "8a3be55c",
   "metadata": {},
   "outputs": [],
   "source": [
    "def check(num):\n",
    "    if num % 2 == 0 :\n",
    "        return True\n",
    "    else:\n",
    "        return False"
   ]
  },
  {
   "cell_type": "code",
   "execution_count": 284,
   "id": "8fadd1a9",
   "metadata": {},
   "outputs": [
    {
     "data": {
      "text/plain": [
       "True"
      ]
     },
     "execution_count": 284,
     "metadata": {},
     "output_type": "execute_result"
    }
   ],
   "source": [
    "check(10)"
   ]
  },
  {
   "cell_type": "code",
   "execution_count": 285,
   "id": "ae153d84",
   "metadata": {},
   "outputs": [
    {
     "data": {
      "text/plain": [
       "False"
      ]
     },
     "execution_count": 285,
     "metadata": {},
     "output_type": "execute_result"
    }
   ],
   "source": [
    "check(13)"
   ]
  },
  {
   "cell_type": "code",
   "execution_count": 286,
   "id": "4d1d967c",
   "metadata": {},
   "outputs": [],
   "source": [
    "lst = [1,2,3,4,56,3,2,3,4,6,8,8,6,4,3,3,57,8,9]"
   ]
  },
  {
   "cell_type": "code",
   "execution_count": 287,
   "id": "91dee9a6",
   "metadata": {},
   "outputs": [
    {
     "data": {
      "text/plain": [
       "[2, 4, 56, 2, 4, 6, 8, 8, 6, 4, 8]"
      ]
     },
     "execution_count": 287,
     "metadata": {},
     "output_type": "execute_result"
    }
   ],
   "source": [
    "list( filter(check , lst)   )"
   ]
  },
  {
   "cell_type": "code",
   "execution_count": 288,
   "id": "728f253d",
   "metadata": {},
   "outputs": [
    {
     "data": {
      "text/plain": [
       "[2, 4, 56, 2, 4, 6, 8, 8, 6, 4, 8]"
      ]
     },
     "execution_count": 288,
     "metadata": {},
     "output_type": "execute_result"
    }
   ],
   "source": [
    "list( filter(lambda x : x%2==0 , lst)   )"
   ]
  },
  {
   "cell_type": "code",
   "execution_count": 289,
   "id": "05121b1d",
   "metadata": {},
   "outputs": [
    {
     "data": {
      "text/plain": [
       "[False,\n",
       " True,\n",
       " False,\n",
       " True,\n",
       " True,\n",
       " False,\n",
       " True,\n",
       " False,\n",
       " True,\n",
       " True,\n",
       " True,\n",
       " True,\n",
       " True,\n",
       " True,\n",
       " False,\n",
       " False,\n",
       " False,\n",
       " True,\n",
       " False]"
      ]
     },
     "execution_count": 289,
     "metadata": {},
     "output_type": "execute_result"
    }
   ],
   "source": [
    "list(map(check , lst))"
   ]
  },
  {
   "cell_type": "code",
   "execution_count": 290,
   "id": "6b0bce25",
   "metadata": {},
   "outputs": [],
   "source": [
    "def add(*n):\n",
    "    s = 0 \n",
    "    for i in n:\n",
    "        s +=i\n",
    "    return s"
   ]
  },
  {
   "cell_type": "code",
   "execution_count": 291,
   "id": "5ada56b5",
   "metadata": {},
   "outputs": [
    {
     "data": {
      "text/plain": [
       "24"
      ]
     },
     "execution_count": 291,
     "metadata": {},
     "output_type": "execute_result"
    }
   ],
   "source": [
    "add(12,12)"
   ]
  },
  {
   "cell_type": "code",
   "execution_count": 292,
   "id": "40cb9db7",
   "metadata": {},
   "outputs": [
    {
     "data": {
      "text/plain": [
       "273"
      ]
     },
     "execution_count": 292,
     "metadata": {},
     "output_type": "execute_result"
    }
   ],
   "source": [
    "add(12,12,12,12,12,1,212)"
   ]
  },
  {
   "cell_type": "code",
   "execution_count": 293,
   "id": "b4628d4e",
   "metadata": {},
   "outputs": [
    {
     "name": "stdout",
     "output_type": "stream",
     "text": [
      "local\n",
      "global\n"
     ]
    }
   ],
   "source": [
    "x = \"global\"\n",
    "def outer():\n",
    "    x = \"local\"\n",
    "    print(x)\n",
    "outer()\n",
    "print(x)"
   ]
  },
  {
   "cell_type": "code",
   "execution_count": 294,
   "id": "2dc92a80",
   "metadata": {},
   "outputs": [
    {
     "name": "stdout",
     "output_type": "stream",
     "text": [
      "local\n",
      "local\n"
     ]
    }
   ],
   "source": [
    "x = \"global\"\n",
    "def outer():\n",
    "    global x \n",
    "    x = \"local\"\n",
    "    print(x)\n",
    "outer()\n",
    "print(x)"
   ]
  },
  {
   "cell_type": "code",
   "execution_count": 295,
   "id": "ca7e9875",
   "metadata": {},
   "outputs": [
    {
     "name": "stdout",
     "output_type": "stream",
     "text": [
      "inner\n",
      "local\n",
      "global\n"
     ]
    }
   ],
   "source": [
    "x = \"global\"\n",
    "def outer(): \n",
    "    x = \"local\"\n",
    "    def inner():\n",
    "        x = \"inner\"\n",
    "        print(x)\n",
    "    inner()   #>>output>> inner\n",
    "    print(x)  #>>output>> local\n",
    "outer()\n",
    "print(x)     #>>output>> global "
   ]
  },
  {
   "cell_type": "code",
   "execution_count": 296,
   "id": "d55b8c81",
   "metadata": {},
   "outputs": [
    {
     "name": "stdout",
     "output_type": "stream",
     "text": [
      "inner\n",
      "inner\n",
      "global\n"
     ]
    }
   ],
   "source": [
    "x = \"global\"\n",
    "def outer(): \n",
    "    x = \"local\"\n",
    "    def inner():\n",
    "        nonlocal x\n",
    "        x = \"inner\"\n",
    "        print(x)\n",
    "    inner()   #>>output>> inner\n",
    "    print(x)  #>>output>> inner\n",
    "outer()\n",
    "print(x)     #>>output>> global "
   ]
  },
  {
   "cell_type": "code",
   "execution_count": 297,
   "id": "6c222de6",
   "metadata": {},
   "outputs": [
    {
     "name": "stdout",
     "output_type": "stream",
     "text": [
      "inner\n",
      "local\n",
      "inner\n"
     ]
    }
   ],
   "source": [
    "x = \"global\"\n",
    "def outer(): \n",
    "    x = \"local\"\n",
    "    def inner():\n",
    "        global x\n",
    "        x = \"inner\"\n",
    "        print(x)\n",
    "    inner()   #>>output>> inner\n",
    "    print(x)  #>>output>> local\n",
    "outer()\n",
    "print(x)     #>>output>> inner "
   ]
  },
  {
   "cell_type": "code",
   "execution_count": 301,
   "id": "49fb5351",
   "metadata": {},
   "outputs": [],
   "source": [
    "import module \n",
    "import module as md \n",
    "from module import add , mul\n",
    "from module import *"
   ]
  },
  {
   "cell_type": "code",
   "execution_count": 302,
   "id": "930bdfce",
   "metadata": {},
   "outputs": [
    {
     "data": {
      "text/plain": [
       "[2, 4, 4, 2]"
      ]
     },
     "execution_count": 302,
     "metadata": {},
     "output_type": "execute_result"
    }
   ],
   "source": [
    "md.even([1,2,3,4,5,4,3,2])"
   ]
  },
  {
   "cell_type": "code",
   "execution_count": 303,
   "id": "52cce74a",
   "metadata": {},
   "outputs": [
    {
     "data": {
      "text/plain": [
       "[1, 3, 5, 3]"
      ]
     },
     "execution_count": 303,
     "metadata": {},
     "output_type": "execute_result"
    }
   ],
   "source": [
    "odd([1,2,3,4,5,4,3,2,4,6])"
   ]
  },
  {
   "cell_type": "code",
   "execution_count": 304,
   "id": "4d573b64",
   "metadata": {},
   "outputs": [
    {
     "data": {
      "text/plain": [
       "144"
      ]
     },
     "execution_count": 304,
     "metadata": {},
     "output_type": "execute_result"
    }
   ],
   "source": [
    "mul(12,12)"
   ]
  },
  {
   "cell_type": "code",
   "execution_count": 309,
   "id": "caa3d934",
   "metadata": {},
   "outputs": [],
   "source": [
    "f = open(\"test.txt\" , \"r+\")  #mode = \"r\""
   ]
  },
  {
   "cell_type": "code",
   "execution_count": 310,
   "id": "7832679a",
   "metadata": {},
   "outputs": [
    {
     "data": {
      "text/plain": [
       "'my name is amit and my age is 10.'"
      ]
     },
     "execution_count": 310,
     "metadata": {},
     "output_type": "execute_result"
    }
   ],
   "source": [
    "f.read()"
   ]
  },
  {
   "cell_type": "code",
   "execution_count": 311,
   "id": "8fd6bc7f",
   "metadata": {},
   "outputs": [
    {
     "data": {
      "text/plain": [
       "6"
      ]
     },
     "execution_count": 311,
     "metadata": {},
     "output_type": "execute_result"
    }
   ],
   "source": [
    "f.write(\" Hello\")"
   ]
  },
  {
   "cell_type": "code",
   "execution_count": 313,
   "id": "a7afe52b",
   "metadata": {},
   "outputs": [],
   "source": [
    "f.close()"
   ]
  },
  {
   "cell_type": "code",
   "execution_count": 316,
   "id": "0e0ce9b3",
   "metadata": {},
   "outputs": [
    {
     "data": {
      "text/plain": [
       "'my name is amit and my age is 10. Hello'"
      ]
     },
     "execution_count": 316,
     "metadata": {},
     "output_type": "execute_result"
    }
   ],
   "source": [
    "f = open(\"test.txt\" , \"r+\")\n",
    "f.read()"
   ]
  },
  {
   "cell_type": "code",
   "execution_count": 320,
   "id": "09fad483",
   "metadata": {},
   "outputs": [
    {
     "data": {
      "text/plain": [
       "'Helloooooooooooooo'"
      ]
     },
     "execution_count": 320,
     "metadata": {},
     "output_type": "execute_result"
    }
   ],
   "source": [
    "f = open(\"test10.txt\" , \"a\")\n",
    "f.write(\"Helloooooooooooooo\")\n",
    "f.close()\n",
    "f = open(\"test10.txt\")\n",
    "f.read()\n",
    "\n",
    "# r or x or w or a or r+"
   ]
  },
  {
   "cell_type": "code",
   "execution_count": null,
   "id": "76dcb77b",
   "metadata": {},
   "outputs": [],
   "source": [
    "# Session 4 \n",
    "# oop \n",
    "# Bank system "
   ]
  },
  {
   "cell_type": "code",
   "execution_count": 395,
   "id": "7d82b550",
   "metadata": {},
   "outputs": [],
   "source": [
    "class Cars:\n",
    "    #class attribute\n",
    "    count = 0\n",
    "    def __init__(self , name , color , age):\n",
    "        #instance attribute\n",
    "        self.name = name\n",
    "        self.color = color\n",
    "        self.age = age\n",
    "        Cars.count +=1\n",
    "        \n",
    "\n",
    "    def __str__(self):\n",
    "        return self.name\n",
    "    \n",
    "    #class method\n",
    "    @classmethod\n",
    "    def nCars(cls):\n",
    "        return f\"Number of Cars is:{cls.count}\"\n",
    "    \n",
    "    #static method\n",
    "    @staticmethod\n",
    "    def time(distance , speed):\n",
    "        return f\"Time is : {distance}/{speed} = {distance/speed}h \""
   ]
  },
  {
   "cell_type": "code",
   "execution_count": 396,
   "id": "a786bb80",
   "metadata": {},
   "outputs": [],
   "source": [
    "BMW = Cars(\"BMW\" , \"Red\" , 3)\n",
    "FIAT = Cars(\"FIAT\" , \"black\" , 3)"
   ]
  },
  {
   "cell_type": "code",
   "execution_count": 397,
   "id": "bbf65781",
   "metadata": {},
   "outputs": [],
   "source": [
    "# BMW._Cars__name"
   ]
  },
  {
   "cell_type": "code",
   "execution_count": 398,
   "id": "bb1c0180",
   "metadata": {},
   "outputs": [
    {
     "name": "stdout",
     "output_type": "stream",
     "text": [
      "BMW\n"
     ]
    }
   ],
   "source": [
    "print(BMW)"
   ]
  },
  {
   "cell_type": "code",
   "execution_count": 399,
   "id": "9aa81854",
   "metadata": {},
   "outputs": [
    {
     "data": {
      "text/plain": [
       "'Number of Cars is:2'"
      ]
     },
     "execution_count": 399,
     "metadata": {},
     "output_type": "execute_result"
    }
   ],
   "source": [
    "BMW.nCars()"
   ]
  },
  {
   "cell_type": "code",
   "execution_count": 400,
   "id": "90cee87f",
   "metadata": {},
   "outputs": [
    {
     "data": {
      "text/plain": [
       "'Number of Cars is:2'"
      ]
     },
     "execution_count": 400,
     "metadata": {},
     "output_type": "execute_result"
    }
   ],
   "source": [
    "FIAT.nCars()"
   ]
  },
  {
   "cell_type": "code",
   "execution_count": 401,
   "id": "34ab462b",
   "metadata": {},
   "outputs": [
    {
     "data": {
      "text/plain": [
       "'Number of Cars is:2'"
      ]
     },
     "execution_count": 401,
     "metadata": {},
     "output_type": "execute_result"
    }
   ],
   "source": [
    "Cars.nCars()"
   ]
  },
  {
   "cell_type": "code",
   "execution_count": 402,
   "id": "ff08f869",
   "metadata": {},
   "outputs": [
    {
     "data": {
      "text/plain": [
       "'Time is : 1000/250 = 4.0h '"
      ]
     },
     "execution_count": 402,
     "metadata": {},
     "output_type": "execute_result"
    }
   ],
   "source": [
    "FIAT.time(1000,250)"
   ]
  },
  {
   "cell_type": "code",
   "execution_count": null,
   "id": "345f28a5",
   "metadata": {},
   "outputs": [],
   "source": [
    "CIB = Bank(\"CIB\")\n",
    "Misr = Bank(\"Misr\")\n",
    "ahmed = Bank(\"Ahmed\" , \"password\" , 1000)"
   ]
  },
  {
   "cell_type": "code",
   "execution_count": 285,
   "id": "5da1bed7",
   "metadata": {},
   "outputs": [],
   "source": [
    "class Bank:\n",
    "    def __init__(self , bname):\n",
    "        self.bname = bname\n",
    "        self.accounts = []\n",
    "    def menu(self):\n",
    "        print(\"Please Enter a process number: \")\n",
    "        print(\"1 >> Deposit\" )\n",
    "        print(\"2 >> Withdraw\")\n",
    "        print(\"3 >> Check_balance\")\n",
    "        print(\"4 >> Cancel\")\n",
    "\n",
    "    def create_new(self , username , password):\n",
    "        for user in self.accounts:\n",
    "            if user[\"username\"]== username:\n",
    "                print(\"The username already exists....try to login!\")\n",
    "        self.accounts.append({\"username\":username , \"password\":password , \"balance\":0})\n",
    "        self.login(username , password)\n",
    "        \n",
    "    def login(self , username , password):\n",
    "        for user in self.accounts:\n",
    "            if user[\"username\"]== username and user[\"password\"] == password:\n",
    "                print(f\"\\nWelcome, {user['username']}\")\n",
    "                while True:\n",
    "                    self.menu()\n",
    "                    option = int(input())\n",
    "                    if option == 1 :\n",
    "                        money = int(input(\"Enter your money: \"))\n",
    "                        self.deposit(user , money)\n",
    "                    elif option == 2 :\n",
    "                        money = int(input(\"Enter your money: \"))\n",
    "                        self.withdraw(user , money)\n",
    "                    elif option == 3 :\n",
    "                        self.get_balance(user)\n",
    "                    elif option == 4 :\n",
    "                        print(f\"Thanks for using {self.bname}\")\n",
    "                        break\n",
    "                    else:\n",
    "                        print(\"Invalid Option! Please Try again\")\n",
    "                return self.accounts\n",
    "        print(\"Incorrect username or password\")\n",
    "    \n",
    "    \n",
    "    def get_balance(self , user):\n",
    "        print(f\"Your Current Balance is: {user['balance']}\")\n",
    "    \n",
    "    def deposit(self , user , money):\n",
    "        if money >= 0 :\n",
    "            user[\"balance\"] += money\n",
    "            print(\"Your money has been deposited\")\n",
    "            print(f\"Your Current Balance is:{user['balance']}\")\n",
    "        else:\n",
    "            print(\"check your money\")\n",
    "    \n",
    "    def withdraw(self , user , money):\n",
    "        if money <= user[\"balance\"]:\n",
    "            user[\"balance\"] -= money\n",
    "            print(\"Done!!\")\n",
    "            print(f\"Your Current Balance is:{user['balance']}\")\n",
    "        else:\n",
    "            print(\"You dont have enough money \")\n",
    "            print(f\"Your Current Balance is:{user['balance']}\")"
   ]
  },
  {
   "cell_type": "code",
   "execution_count": 286,
   "id": "dff136db",
   "metadata": {},
   "outputs": [],
   "source": [
    "CIB = Bank(\"CIB\")"
   ]
  },
  {
   "cell_type": "code",
   "execution_count": 289,
   "id": "2c504414",
   "metadata": {},
   "outputs": [],
   "source": [
    "def menu():\n",
    "    print(\"1 >> Create_new_acc\")\n",
    "    print(\"2 >> Login\")\n",
    "    print(\"3 >> Cancel\")"
   ]
  },
  {
   "cell_type": "code",
   "execution_count": 290,
   "id": "f98c7f54",
   "metadata": {},
   "outputs": [
    {
     "name": "stdout",
     "output_type": "stream",
     "text": [
      "1 >> Create_new_acc\n",
      "2 >> Login\n",
      "3 >> Cancel\n",
      "Enter your option: 1\n",
      "Enter your usernameahmed\n",
      "Enter your password123\n",
      "\n",
      "Welcome, ahmed\n",
      "Please Enter a process number: \n",
      "1 >> Deposit\n",
      "2 >> Withdraw\n",
      "3 >> Check_balance\n",
      "4 >> Cancel\n",
      "1\n",
      "Enter your money: 1000\n",
      "Your money has been deposited\n",
      "Your Current Balance is:1000\n",
      "Please Enter a process number: \n",
      "1 >> Deposit\n",
      "2 >> Withdraw\n",
      "3 >> Check_balance\n",
      "4 >> Cancel\n",
      "6\n",
      "Invalid Option! Please Try again\n",
      "Please Enter a process number: \n",
      "1 >> Deposit\n",
      "2 >> Withdraw\n",
      "3 >> Check_balance\n",
      "4 >> Cancel\n",
      "4\n",
      "Thanks for using CIB\n",
      "1 >> Create_new_acc\n",
      "2 >> Login\n",
      "3 >> Cancel\n",
      "Enter your option: 3\n",
      "Thanks for using CIB\n"
     ]
    }
   ],
   "source": [
    "while True :\n",
    "    menu()\n",
    "    option = int(input(\"Enter your option: \"))\n",
    "    if option == 1 :\n",
    "        username = input(\"Enter your username\")\n",
    "        password = input(\"Enter your password\")\n",
    "        CIB.create_new(username ,password )\n",
    "    elif option == 2:\n",
    "        username = input(\"Enter your username\")\n",
    "        password = input(\"Enter your password\")\n",
    "        CIB.login(username ,password )\n",
    "    elif option == 3 :\n",
    "        print(\"Thanks for using CIB\")\n",
    "        break\n",
    "    else:\n",
    "        print(\"Check your option!!!\")"
   ]
  },
  {
   "cell_type": "code",
   "execution_count": null,
   "id": "55968b55",
   "metadata": {},
   "outputs": [],
   "source": []
  },
  {
   "cell_type": "code",
   "execution_count": null,
   "id": "04e99bee",
   "metadata": {},
   "outputs": [],
   "source": []
  }
 ],
 "metadata": {
  "kernelspec": {
   "display_name": "Python 3 (ipykernel)",
   "language": "python",
   "name": "python3"
  },
  "language_info": {
   "codemirror_mode": {
    "name": "ipython",
    "version": 3
   },
   "file_extension": ".py",
   "mimetype": "text/x-python",
   "name": "python",
   "nbconvert_exporter": "python",
   "pygments_lexer": "ipython3",
   "version": "3.10.9"
  }
 },
 "nbformat": 4,
 "nbformat_minor": 5
}
